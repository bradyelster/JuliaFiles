{
 "cells": [
  {
   "cell_type": "code",
   "execution_count": 1,
   "id": "e8cd65f2",
   "metadata": {},
   "outputs": [],
   "source": [
    "using CairoMakie"
   ]
  },
  {
   "cell_type": "code",
   "execution_count": 2,
   "id": "44521ce7",
   "metadata": {},
   "outputs": [],
   "source": [
    "Ψ = 1\n",
    "W = 1.5;"
   ]
  },
  {
   "cell_type": "code",
   "execution_count": 3,
   "id": "465e49d7",
   "metadata": {},
   "outputs": [
    {
     "name": "stderr",
     "output_type": "stream",
     "text": [
      "\u001b[33m\u001b[1m┌ \u001b[22m\u001b[39m\u001b[33m\u001b[1mWarning: \u001b[22m\u001b[39mThere were duplicate points. Only one of each duplicate will be used, and all other duplicates will be skipped. The indices of the duplicates are:\n",
      "\u001b[33m\u001b[1m│ \u001b[22m\u001b[39m  (-0.0f0, -0.0f0) at indices [51, 52, 53, 54, 55, 56, 57, 58, 59, 60, 61, 62, 63, 64, 65, 66, 67, 68, 69, 70, 71, 72, 73, 74, 75]\n",
      "\u001b[33m\u001b[1m│ \u001b[22m\u001b[39m  (-0.0f0, 0.0f0) at indices [26, 27, 28, 29, 30, 31, 32, 33, 34, 35, 36, 37, 38, 39, 40, 41, 42, 43, 44, 45, 46, 47, 48, 49, 50]\n",
      "\u001b[33m\u001b[1m│ \u001b[22m\u001b[39m  (0.0f0, -0.0f0) at indices [76, 77, 78, 79, 80, 81, 82, 83, 84, 85, 86, 87, 88, 89, 90, 91, 92, 93, 94, 95, 96, 97, 98, 99]\n",
      "\u001b[33m\u001b[1m│ \u001b[22m\u001b[39m  (0.0f0, 0.0f0) at indices [1, 2, 3, 4, 5, 6, 7, 8, 9, 10, 11, 12, 13, 14, 15, 16, 17, 18, 19, 20, 21, 22, 23, 24, 25, 100]\n",
      "\u001b[33m\u001b[1m│ \u001b[22m\u001b[39mTo suppress this warning, call `DelaunayTriangulation.toggle_warn_on_dupes!()`.\n",
      "\u001b[33m\u001b[1m└ \u001b[22m\u001b[39m\u001b[90m@ DelaunayTriangulation ~/.julia/packages/DelaunayTriangulation/P5U9H/src/algorithms/triangulation/check_args.jl:122\u001b[39m\n"
     ]
    },
    {
     "ename": "LoadError",
     "evalue": "InterruptException:",
     "output_type": "error",
     "traceback": [
      "InterruptException:",
      "",
      "Stacktrace:",
      "  [1] (::Makie.var\"#update_plot#878\"{Plot{Makie.voronoiplot, Tuple{DelaunayTriangulation.VoronoiTessellation{DelaunayTriangulation.Triangulation{Vector{Point{2, Float32}}, Set{Tuple{Int64, Int64, Int64}}, Vector{Int64}, DelaunayTriangulation.ZeroWeight{Float32}, Int64, Tuple{Int64, Int64}, Set{Tuple{Int64, Int64}}, Tuple{}, Dict{Tuple{Int64, Int64}, Tuple{Vector{Int64}, Int64}}, Dict{Int64, Vector{Int64}}, Dict{Int64, UnitRange{Int64}}, Dict{Int64, DelaunayTriangulation.RepresentativeCoordinates{Int64, Float32}}, DelaunayTriangulation.TriangulationCache{DelaunayTriangulation.Triangulation{Vector{Point{2, Float32}}, Set{Tuple{Int64, Int64, Int64}}, Vector{Int64}, DelaunayTriangulation.ZeroWeight{Float32}, Int64, Tuple{Int64, Int64}, Set{Tuple{Int64, Int64}}, Tuple{}, Dict{Tuple{Int64, Int64}, Tuple{Vector{Int64}, Int64}}, Dict{Int64, Vector{Int64}}, Dict{Int64, UnitRange{Int64}}, Dict{Int64, DelaunayTriangulation.RepresentativeCoordinates{Int64, Float32}}, DelaunayTriangulation.TriangulationCache{Nothing, Nothing, Nothing, Nothing, Nothing, Nothing, Nothing, Nothing}, Nothing}, Vector{Int64}, Set{Tuple{Int64, Int64}}, Vector{Int64}, Set{Tuple{Int64, Int64, Int64}}, NTuple{4, SubArray{Float32, 1, Memory{Float32}, Tuple{UnitRange{Int64}}, true}}, Tuple{SubArray{Float32, 1, Memory{Float32}, Tuple{UnitRange{Int64}}, true}, SubArray{Float32, 1, Memory{Float32}, Tuple{UnitRange{Int64}}, true}}, NTuple{27, SubArray{Float32, 1, Memory{Float32}, Tuple{UnitRange{Int64}}, true}}}, Nothing}, Tuple{Float32, Float32}, Int64, Tuple{Int64, Int64, Int64}, Set{Int64}, Tuple{Int64, Int64}}}}, Observable{Vector{GeometryBasics.Polygon{2, Float32}}}, Observable{Vector{Point{2, Float32}}}})(vorn::DelaunayTriangulation.VoronoiTessellation{DelaunayTriangulation.Triangulation{Vector{Point{2, Float32}}, Set{Tuple{Int64, Int64, Int64}}, Vector{Int64}, DelaunayTriangulation.ZeroWeight{Float32}, Int64, Tuple{Int64, Int64}, Set{Tuple{Int64, Int64}}, Tuple{}, Dict{Tuple{Int64, Int64}, Tuple{Vector{Int64}, Int64}}, Dict{Int64, Vector{Int64}}, Dict{Int64, UnitRange{Int64}}, Dict{Int64, DelaunayTriangulation.RepresentativeCoordinates{Int64, Float32}}, DelaunayTriangulation.TriangulationCache{DelaunayTriangulation.Triangulation{Vector{Point{2, Float32}}, Set{Tuple{Int64, Int64, Int64}}, Vector{Int64}, DelaunayTriangulation.ZeroWeight{Float32}, Int64, Tuple{Int64, Int64}, Set{Tuple{Int64, Int64}}, Tuple{}, Dict{Tuple{Int64, Int64}, Tuple{Vector{Int64}, Int64}}, Dict{Int64, Vector{Int64}}, Dict{Int64, UnitRange{Int64}}, Dict{Int64, DelaunayTriangulation.RepresentativeCoordinates{Int64, Float32}}, DelaunayTriangulation.TriangulationCache{Nothing, Nothing, Nothing, Nothing, Nothing, Nothing, Nothing, Nothing}, Nothing}, Vector{Int64}, Set{Tuple{Int64, Int64}}, Vector{Int64}, Set{Tuple{Int64, Int64, Int64}}, NTuple{4, SubArray{Float32, 1, Memory{Float32}, Tuple{UnitRange{Int64}}, true}}, Tuple{SubArray{Float32, 1, Memory{Float32}, Tuple{UnitRange{Int64}}, true}, SubArray{Float32, 1, Memory{Float32}, Tuple{UnitRange{Int64}}, true}}, NTuple{27, SubArray{Float32, 1, Memory{Float32}, Tuple{UnitRange{Int64}}, true}}}, Nothing}, Tuple{Float32, Float32}, Int64, Tuple{Int64, Int64, Int64}, Set{Int64}, Tuple{Int64, Int64}})",
      "    @ Makie ~/.julia/packages/Makie/KcEWO/src/basic_recipes/voronoiplot.jl:199",
      "  [2] plot!(p::Plot{Makie.voronoiplot, Tuple{DelaunayTriangulation.VoronoiTessellation{DelaunayTriangulation.Triangulation{Vector{Point{2, Float32}}, Set{Tuple{Int64, Int64, Int64}}, Vector{Int64}, DelaunayTriangulation.ZeroWeight{Float32}, Int64, Tuple{Int64, Int64}, Set{Tuple{Int64, Int64}}, Tuple{}, Dict{Tuple{Int64, Int64}, Tuple{Vector{Int64}, Int64}}, Dict{Int64, Vector{Int64}}, Dict{Int64, UnitRange{Int64}}, Dict{Int64, DelaunayTriangulation.RepresentativeCoordinates{Int64, Float32}}, DelaunayTriangulation.TriangulationCache{DelaunayTriangulation.Triangulation{Vector{Point{2, Float32}}, Set{Tuple{Int64, Int64, Int64}}, Vector{Int64}, DelaunayTriangulation.ZeroWeight{Float32}, Int64, Tuple{Int64, Int64}, Set{Tuple{Int64, Int64}}, Tuple{}, Dict{Tuple{Int64, Int64}, Tuple{Vector{Int64}, Int64}}, Dict{Int64, Vector{Int64}}, Dict{Int64, UnitRange{Int64}}, Dict{Int64, DelaunayTriangulation.RepresentativeCoordinates{Int64, Float32}}, DelaunayTriangulation.TriangulationCache{Nothing, Nothing, Nothing, Nothing, Nothing, Nothing, Nothing, Nothing}, Nothing}, Vector{Int64}, Set{Tuple{Int64, Int64}}, Vector{Int64}, Set{Tuple{Int64, Int64, Int64}}, NTuple{4, SubArray{Float32, 1, Memory{Float32}, Tuple{UnitRange{Int64}}, true}}, Tuple{SubArray{Float32, 1, Memory{Float32}, Tuple{UnitRange{Int64}}, true}, SubArray{Float32, 1, Memory{Float32}, Tuple{UnitRange{Int64}}, true}}, NTuple{27, SubArray{Float32, 1, Memory{Float32}, Tuple{UnitRange{Int64}}, true}}}, Nothing}, Tuple{Float32, Float32}, Int64, Tuple{Int64, Int64, Int64}, Set{Int64}, Tuple{Int64, Int64}}}})",
      "    @ Makie ~/.julia/packages/Makie/KcEWO/src/basic_recipes/voronoiplot.jl:204",
      "  [3] connect_plot!(parent::Plot{Makie.voronoiplot, Tuple{Vector{Point{3, Float64}}}}, plot::Plot{Makie.voronoiplot, Tuple{DelaunayTriangulation.VoronoiTessellation{DelaunayTriangulation.Triangulation{Vector{Point{2, Float32}}, Set{Tuple{Int64, Int64, Int64}}, Vector{Int64}, DelaunayTriangulation.ZeroWeight{Float32}, Int64, Tuple{Int64, Int64}, Set{Tuple{Int64, Int64}}, Tuple{}, Dict{Tuple{Int64, Int64}, Tuple{Vector{Int64}, Int64}}, Dict{Int64, Vector{Int64}}, Dict{Int64, UnitRange{Int64}}, Dict{Int64, DelaunayTriangulation.RepresentativeCoordinates{Int64, Float32}}, DelaunayTriangulation.TriangulationCache{DelaunayTriangulation.Triangulation{Vector{Point{2, Float32}}, Set{Tuple{Int64, Int64, Int64}}, Vector{Int64}, DelaunayTriangulation.ZeroWeight{Float32}, Int64, Tuple{Int64, Int64}, Set{Tuple{Int64, Int64}}, Tuple{}, Dict{Tuple{Int64, Int64}, Tuple{Vector{Int64}, Int64}}, Dict{Int64, Vector{Int64}}, Dict{Int64, UnitRange{Int64}}, Dict{Int64, DelaunayTriangulation.RepresentativeCoordinates{Int64, Float32}}, DelaunayTriangulation.TriangulationCache{Nothing, Nothing, Nothing, Nothing, Nothing, Nothing, Nothing, Nothing}, Nothing}, Vector{Int64}, Set{Tuple{Int64, Int64}}, Vector{Int64}, Set{Tuple{Int64, Int64, Int64}}, NTuple{4, SubArray{Float32, 1, Memory{Float32}, Tuple{UnitRange{Int64}}, true}}, Tuple{SubArray{Float32, 1, Memory{Float32}, Tuple{UnitRange{Int64}}, true}, SubArray{Float32, 1, Memory{Float32}, Tuple{UnitRange{Int64}}, true}}, NTuple{27, SubArray{Float32, 1, Memory{Float32}, Tuple{UnitRange{Int64}}, true}}}, Nothing}, Tuple{Float32, Float32}, Int64, Tuple{Int64, Int64, Int64}, Set{Int64}, Tuple{Int64, Int64}}}})",
      "    @ Makie ~/.julia/packages/Makie/KcEWO/src/interfaces.jl:431",
      "  [4] plot!(scene::Plot{Makie.voronoiplot, Tuple{Vector{Point{3, Float64}}}}, plot::Plot{Makie.voronoiplot, Tuple{DelaunayTriangulation.VoronoiTessellation{DelaunayTriangulation.Triangulation{Vector{Point{2, Float32}}, Set{Tuple{Int64, Int64, Int64}}, Vector{Int64}, DelaunayTriangulation.ZeroWeight{Float32}, Int64, Tuple{Int64, Int64}, Set{Tuple{Int64, Int64}}, Tuple{}, Dict{Tuple{Int64, Int64}, Tuple{Vector{Int64}, Int64}}, Dict{Int64, Vector{Int64}}, Dict{Int64, UnitRange{Int64}}, Dict{Int64, DelaunayTriangulation.RepresentativeCoordinates{Int64, Float32}}, DelaunayTriangulation.TriangulationCache{DelaunayTriangulation.Triangulation{Vector{Point{2, Float32}}, Set{Tuple{Int64, Int64, Int64}}, Vector{Int64}, DelaunayTriangulation.ZeroWeight{Float32}, Int64, Tuple{Int64, Int64}, Set{Tuple{Int64, Int64}}, Tuple{}, Dict{Tuple{Int64, Int64}, Tuple{Vector{Int64}, Int64}}, Dict{Int64, Vector{Int64}}, Dict{Int64, UnitRange{Int64}}, Dict{Int64, DelaunayTriangulation.RepresentativeCoordinates{Int64, Float32}}, DelaunayTriangulation.TriangulationCache{Nothing, Nothing, Nothing, Nothing, Nothing, Nothing, Nothing, Nothing}, Nothing}, Vector{Int64}, Set{Tuple{Int64, Int64}}, Vector{Int64}, Set{Tuple{Int64, Int64, Int64}}, NTuple{4, SubArray{Float32, 1, Memory{Float32}, Tuple{UnitRange{Int64}}, true}}, Tuple{SubArray{Float32, 1, Memory{Float32}, Tuple{UnitRange{Int64}}, true}, SubArray{Float32, 1, Memory{Float32}, Tuple{UnitRange{Int64}}, true}}, NTuple{27, SubArray{Float32, 1, Memory{Float32}, Tuple{UnitRange{Int64}}, true}}}, Nothing}, Tuple{Float32, Float32}, Int64, Tuple{Int64, Int64, Int64}, Set{Int64}, Tuple{Int64, Int64}}}})",
      "    @ Makie ~/.julia/packages/Makie/KcEWO/src/interfaces.jl:448",
      "  [5] _create_plot!(::Function, ::Dict{Symbol, Any}, ::Plot{Makie.voronoiplot, Tuple{Vector{Point{3, Float64}}}}, ::Attributes, ::Vararg{Any})",
      "    @ Makie ~/.julia/packages/Makie/KcEWO/src/figureplotting.jl:391",
      "  [6] #voronoiplot!#857",
      "    @ ~/.julia/packages/MakieCore/G1QFL/src/recipes.jl:514 [inlined]",
      "  [7] voronoiplot!",
      "    @ ~/.julia/packages/MakieCore/G1QFL/src/recipes.jl:512 [inlined]",
      "  [8] plot!(p::Plot{Makie.voronoiplot, Tuple{Vector{Point{3, Float64}}}})",
      "    @ Makie ~/.julia/packages/Makie/KcEWO/src/basic_recipes/voronoiplot.jl:155",
      "  [9] connect_plot!(parent::Scene, plot::Plot{Makie.voronoiplot, Tuple{Vector{Point{3, Float64}}}})",
      "    @ Makie ~/.julia/packages/Makie/KcEWO/src/interfaces.jl:431",
      " [10] plot!",
      "    @ ~/.julia/packages/Makie/KcEWO/src/interfaces.jl:448 [inlined]",
      " [11] plot!(ax::PolarAxis, plot::Plot{Makie.voronoiplot, Tuple{Vector{Point{3, Float64}}}})",
      "    @ Makie ~/.julia/packages/Makie/KcEWO/src/figureplotting.jl:412",
      " [12] _create_plot!(::Function, ::Dict{Symbol, Any}, ::PolarAxis, ::IntervalSets.ClosedInterval{Float64}, ::Vararg{Any})",
      "    @ Makie ~/.julia/packages/Makie/KcEWO/src/figureplotting.jl:381",
      " [13] voronoiplot!(::PolarAxis, ::Vararg{Any}; kw::@Kwargs{color::Matrix{Float64}, shading::MakieCore.ShadingAlgorithm, colormap::Symbol})",
      "    @ Makie ~/.julia/packages/MakieCore/G1QFL/src/recipes.jl:514",
      " [14] top-level scope",
      "    @ In[3]:7"
     ]
    }
   ],
   "source": [
    "f = Figure(size=(500, 500))\n",
    "\n",
    "ax = PolarAxis(f[1, 1], title=\"Surface\")\n",
    "rs = 0:5\n",
    "xis = range(0, 2 * pi, 100)\n",
    "cs = [8 * (Ψ / W^2) * r^2 * cos(xi)^2 + cos(xi) for xi in xis, r in rs]\n",
    "p = voronoiplot!(ax, 0 .. xis[end], 0 .. rs[end], zeros(size(cs)), color=cs, shading=NoShading, colormap=:viridis)\n",
    "ax.gridz = 100\n",
    "tightlimits!(ax) # surface plots include padding by default\n",
    "Colorbar(f[2, 1], p, vertical=false, flipaxis=false)\n",
    "f"
   ]
  }
 ],
 "metadata": {
  "kernelspec": {
   "display_name": "Julia 1.11.5",
   "language": "julia",
   "name": "julia-1.11"
  },
  "language_info": {
   "file_extension": ".jl",
   "mimetype": "application/julia",
   "name": "julia",
   "version": "1.11.5"
  }
 },
 "nbformat": 4,
 "nbformat_minor": 5
}
