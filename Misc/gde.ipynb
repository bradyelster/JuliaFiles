{
 "cells": [
  {
   "cell_type": "code",
   "execution_count": 1,
   "id": "b110ed7e",
   "metadata": {},
   "outputs": [],
   "source": [
    "using Plots, LaTeXStrings, Printf"
   ]
  },
  {
   "cell_type": "code",
   "execution_count": 9,
   "id": "7a4a56e4",
   "metadata": {},
   "outputs": [],
   "source": [
    "f(x) = (x / 2)^2 / sinh(x / 2)^2\n",
    "θ = 1\n",
    "g(T) = (θ / (2 * T))^2 / sinh(θ / (2 * T))^2\n",
    "\n",
    "x = LinRange(0, 10, 1000);\n",
    "T = LinRange(0, 10, 1000);"
   ]
  },
  {
   "cell_type": "code",
   "execution_count": null,
   "id": "adae480c",
   "metadata": {},
   "outputs": [
    {
     "data": {
      "text/plain": [
       "\"/home/belster12/JuliaFiles/Misc/gde_xi.png\""
      ]
     },
     "execution_count": 26,
     "metadata": {},
     "output_type": "execute_result"
    }
   ],
   "source": [
    "theme(:dao)\n",
    "plot(x, f.(x),\n",
    "    line=(3, :solid),\n",
    "    label=\"exact\",\n",
    "    yaxis=L\"$C_{V} / 3 N k_{B}$\",\n",
    "    xaxis=L\"\\xi = \\beta \\hbar \\omega\",\n",
    "    legend=:best,\n",
    "    titlefontsize=20,\n",
    "    tickfontsize=12,\n",
    "    legendfontsize=10,\n",
    "    yguidefontsize=15,\n",
    "    xguidefontsize=15,\n",
    "    dpi=300\n",
    ")\n",
    "plot!(x, 12 ./ (12 .+ x .^ 2),\n",
    "    line=(3, :dash),\n",
    "    label=L\"$12/(12 + \\xi^2)$\")\n",
    "\n",
    "plot!(x, x .^ 2 .* exp.(-x),\n",
    "    line=(3, :dash),\n",
    "    label=L\"$\\xi^2 e^{-\\xi}$\")\n",
    "#savefig(\"gde_xi.png\")"
   ]
  },
  {
   "cell_type": "code",
   "execution_count": null,
   "id": "abcc158d",
   "metadata": {},
   "outputs": [
    {
     "data": {
      "text/plain": [
       "\"/home/belster12/JuliaFiles/Misc/gde_T.png\""
      ]
     },
     "execution_count": 16,
     "metadata": {},
     "output_type": "execute_result"
    }
   ],
   "source": [
    "plot(T, g.(T),\n",
    "    line=(3, :solid),\n",
    "    yaxis=L\"$C_{V} / 3 N k_{B}$\",\n",
    "    xaxis=L\"T / \\theta_{e}\",\n",
    "    legend=false,\n",
    "    titlefontsize=20,\n",
    "    tickfontsize=12,\n",
    "    legendfontsize=10,\n",
    "    yguidefontsize=15,\n",
    "    xguidefontsize=15,\n",
    "    xlims=(0, 3),\n",
    "    dpi=300\n",
    ")\n",
    "# savefig(\"gde_T.png\")"
   ]
  },
  {
   "cell_type": "code",
   "execution_count": null,
   "id": "ab850814",
   "metadata": {},
   "outputs": [],
   "source": []
  }
 ],
 "metadata": {
  "kernelspec": {
   "display_name": "Julia 1.11.5",
   "language": "julia",
   "name": "julia-1.11"
  },
  "language_info": {
   "file_extension": ".jl",
   "mimetype": "application/julia",
   "name": "julia",
   "version": "1.11.5"
  }
 },
 "nbformat": 4,
 "nbformat_minor": 5
}
