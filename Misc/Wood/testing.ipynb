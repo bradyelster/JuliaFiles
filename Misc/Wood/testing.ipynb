{
 "cells": [
  {
   "cell_type": "code",
   "execution_count": null,
   "id": "18770d71",
   "metadata": {},
   "outputs": [
    {
     "data": {
      "text/plain": [
       "4-element Vector{Int64}:\n",
       " 5\n",
       " 5\n",
       " 5\n",
       " 5"
      ]
     },
     "execution_count": 1,
     "metadata": {},
     "output_type": "execute_result"
    }
   ],
   "source": [
    "myarray = [5, 5, 5, 5];"
   ]
  },
  {
   "cell_type": "code",
   "execution_count": 6,
   "id": "8c546f82",
   "metadata": {},
   "outputs": [
    {
     "ename": "LoadError",
     "evalue": "BoundsError: attempt to access 4-element Vector{Int64} at index [0]",
     "output_type": "error",
     "traceback": [
      "BoundsError: attempt to access 4-element Vector{Int64} at index [0]",
      "",
      "Stacktrace:",
      " [1] \u001b[0m\u001b[1mthrow_boundserror\u001b[22m\u001b[0m\u001b[1m(\u001b[22m\u001b[90mA\u001b[39m::\u001b[0mVector\u001b[90m{Int64}\u001b[39m, \u001b[90mI\u001b[39m::\u001b[0mTuple\u001b[90m{Int64}\u001b[39m\u001b[0m\u001b[1m)\u001b[22m",
      "\u001b[90m   @\u001b[39m \u001b[90mBase\u001b[39m \u001b[90m./\u001b[39m\u001b[90m\u001b[4messentials.jl:14\u001b[24m\u001b[39m",
      " [2] \u001b[0m\u001b[1mgetindex\u001b[22m\u001b[0m\u001b[1m(\u001b[22m\u001b[90mA\u001b[39m::\u001b[0mVector\u001b[90m{Int64}\u001b[39m, \u001b[90mi\u001b[39m::\u001b[0mInt64\u001b[0m\u001b[1m)\u001b[22m",
      "\u001b[90m   @\u001b[39m \u001b[90mBase\u001b[39m \u001b[90m./\u001b[39m\u001b[90m\u001b[4messentials.jl:916\u001b[24m\u001b[39m",
      " [3] top-level scope",
      "\u001b[90m   @\u001b[39m \u001b[90m\u001b[4mIn[6]:1\u001b[24m\u001b[39m"
     ]
    }
   ],
   "source": [
    "typeof(myarray[0])"
   ]
  },
  {
   "cell_type": "code",
   "execution_count": 5,
   "id": "c8121ca3",
   "metadata": {},
   "outputs": [
    {
     "data": {
      "text/plain": [
       "String"
      ]
     },
     "execution_count": 5,
     "metadata": {},
     "output_type": "execute_result"
    }
   ],
   "source": [
    "typeof(\"jason\")"
   ]
  },
  {
   "cell_type": "code",
   "execution_count": null,
   "id": "ead13b05",
   "metadata": {},
   "outputs": [],
   "source": []
  }
 ],
 "metadata": {
  "kernelspec": {
   "display_name": "Julia 1.11.5",
   "language": "julia",
   "name": "julia-1.11"
  },
  "language_info": {
   "file_extension": ".jl",
   "mimetype": "application/julia",
   "name": "julia",
   "version": "1.11.5"
  }
 },
 "nbformat": 4,
 "nbformat_minor": 5
}
