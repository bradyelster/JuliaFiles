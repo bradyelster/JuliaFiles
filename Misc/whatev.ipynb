{
 "cells": [
  {
   "cell_type": "code",
   "execution_count": 1,
   "id": "3fcb89a2",
   "metadata": {},
   "outputs": [],
   "source": [
    "using LinearAlgebra"
   ]
  },
  {
   "cell_type": "code",
   "execution_count": 14,
   "id": "7c832e67",
   "metadata": {},
   "outputs": [],
   "source": [
    "A = [1.0 0.01 0.0;\n",
    "    1.0 0.0 0.01;\n",
    "    1.0 -1.0 -1.0];\n",
    "\n",
    "b = [0.2, 0.1, 0.0];"
   ]
  },
  {
   "cell_type": "code",
   "execution_count": 20,
   "id": "d00074fb",
   "metadata": {},
   "outputs": [
    {
     "data": {
      "text/plain": [
       "3-element Vector{Float64}:\n",
       "  0.1492537313432836\n",
       "  5.074626865671642\n",
       " -4.925373134328359"
      ]
     },
     "execution_count": 20,
     "metadata": {},
     "output_type": "execute_result"
    }
   ],
   "source": [
    "x = A \\ b"
   ]
  },
  {
   "cell_type": "code",
   "execution_count": 21,
   "id": "f8484afc",
   "metadata": {},
   "outputs": [
    {
     "data": {
      "text/plain": [
       "199.66740658345162"
      ]
     },
     "execution_count": 21,
     "metadata": {},
     "output_type": "execute_result"
    }
   ],
   "source": [
    "cond(A)"
   ]
  }
 ],
 "metadata": {
  "kernelspec": {
   "display_name": "Julia 1.11.1",
   "language": "julia",
   "name": "julia-1.11"
  },
  "language_info": {
   "file_extension": ".jl",
   "mimetype": "application/julia",
   "name": "julia",
   "version": "1.11.1"
  }
 },
 "nbformat": 4,
 "nbformat_minor": 5
}
