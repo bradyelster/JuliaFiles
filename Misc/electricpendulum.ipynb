{
 "cells": [
  {
   "cell_type": "code",
   "execution_count": 69,
   "metadata": {},
   "outputs": [],
   "source": [
    "using Plots, DifferentialEquations, LaTeXStrings, Printf"
   ]
  },
  {
   "cell_type": "code",
   "execution_count": 70,
   "metadata": {},
   "outputs": [],
   "source": [
    "tspan = (0.0, 50.0);\n",
    "ϵ = 0.5;"
   ]
  },
  {
   "cell_type": "code",
   "execution_count": 71,
   "metadata": {},
   "outputs": [
    {
     "data": {
      "text/plain": [
       "electricpendulum! (generic function with 1 method)"
      ]
     },
     "execution_count": 71,
     "metadata": {},
     "output_type": "execute_result"
    }
   ],
   "source": [
    "function electricpendulum!(dv, v, p, t)\n",
    "    u = v[1]\n",
    "    du = v[2]\n",
    "    dv[1] = du\n",
    "    dv[2] = -sin(u) + ϵ*cos(u)\n",
    "end"
   ]
  },
  {
   "cell_type": "code",
   "execution_count": 72,
   "metadata": {},
   "outputs": [
    {
     "data": {
      "text/plain": [
       "pendulum! (generic function with 1 method)"
      ]
     },
     "execution_count": 72,
     "metadata": {},
     "output_type": "execute_result"
    }
   ],
   "source": [
    "function pendulum!(dv, v, p, t)\n",
    "    u = v[1]\n",
    "    du = v[2]\n",
    "    dv[1] = du\n",
    "    dv[2] = -sin(u)\n",
    "end"
   ]
  },
  {
   "cell_type": "code",
   "execution_count": 73,
   "metadata": {},
   "outputs": [],
   "source": [
    "u0 = [1, 0]\n",
    "prob1 = ODEProblem(electricpendulum!, u0, tspan)\n",
    "sol1 = solve(prob1, Tsit5(), reltol = 1e-8, abstol = 1e-8);\n",
    "\n",
    "prob2 = ODEProblem(pendulum!, u0, tspan)\n",
    "sol2 = solve(prob2, Tsit5(), reltol = 1e-8, abstol = 1e-8);"
   ]
  },
  {
   "cell_type": "code",
   "execution_count": 94,
   "metadata": {},
   "outputs": [
    {
     "data": {
      "text/plain": [
       "\"/home/belster/JuliaFiles/Misc/ElectricPendulum.png\""
      ]
     },
     "execution_count": 94,
     "metadata": {},
     "output_type": "execute_result"
    }
   ],
   "source": [
    "theme(:juno)\n",
    "\n",
    "plot(sol2, \n",
    "    idxs=[1],\n",
    "    line=(3, :solid),\n",
    "    label=\"simple pendulum\",\n",
    "    )\n",
    "plot!(sol1, \n",
    "    idxs=[1],\n",
    "    line=(3, :dash),\n",
    "    label=\"electric pendulum\",\n",
    "    title=\"Electric Pendulum (qE/mg=$ϵ)\",\n",
    "    xlabel=\"t\",\n",
    "    ylabel=\"θ(t)\",\n",
    "    #xlabel=L\"$\\tilde{t}$\",\n",
    "    #ylabel=L\"$\\tilde{\\theta}(\\tilde{t})$\",\n",
    "    legend=:best,\n",
    "    titlefontsize=20,\n",
    "    tickfontsize=12,\n",
    "    legendfontsize=10,\n",
    "    yguidefontsize=15,\n",
    "    xguidefontsize=15,\n",
    "    dpi=300\n",
    "    )\n",
    "\n",
    "savefig(\"ElectricPendulum.png\")"
   ]
  }
 ],
 "metadata": {
  "kernelspec": {
   "display_name": "Julia 1.11.1",
   "language": "julia",
   "name": "julia-1.11"
  },
  "language_info": {
   "file_extension": ".jl",
   "mimetype": "application/julia",
   "name": "julia",
   "version": "1.11.1"
  }
 },
 "nbformat": 4,
 "nbformat_minor": 2
}
