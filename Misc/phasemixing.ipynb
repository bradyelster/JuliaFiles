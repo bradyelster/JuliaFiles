{
 "cells": [
  {
   "cell_type": "code",
   "execution_count": 2,
   "id": "6bad4bf6",
   "metadata": {},
   "outputs": [],
   "source": [
    "using DifferentialEquations, Plots, LaTeXStrings, Printf, ProgressMeter, FFTW"
   ]
  },
  {
   "cell_type": "code",
   "execution_count": 3,
   "id": "e0bda9f0",
   "metadata": {},
   "outputs": [
    {
     "data": {
      "text/plain": [
       "pendulum! (generic function with 1 method)"
      ]
     },
     "execution_count": 3,
     "metadata": {},
     "output_type": "execute_result"
    }
   ],
   "source": [
    "# Define the simple pendulum ODE\n",
    "function pendulum!(du, u, p, t)\n",
    "    θ, ω = u\n",
    "    du[1] = ω               # dθ/dt = ω\n",
    "    du[2] = -sin(θ)         # dω/dt = -sin(θ)\n",
    "end"
   ]
  },
  {
   "cell_type": "code",
   "execution_count": 4,
   "id": "30f6651e",
   "metadata": {},
   "outputs": [],
   "source": [
    "# Parameters\n",
    "n_pendula = 5000           # Number of pendula\n",
    "tspan = (0.0, 100.0)        # Time span\n",
    "fps = 30                   # Frames per second for animation\n",
    "total_frames = 300;         # Total frames in animation"
   ]
  },
  {
   "cell_type": "code",
   "execution_count": 5,
   "id": "ffb50c8f",
   "metadata": {},
   "outputs": [],
   "source": [
    "# Create initial conditions that thoroughly sample phase space\n",
    "θ0 = range(-π, π, length=ceil(Int, sqrt(n_pendula)))\n",
    "ω0 = range(-2.0, 2.0, length=ceil(Int, sqrt(n_pendula)))\n",
    "\n",
    "# Create all possible combinations and flatten\n",
    "all_conditions = vec([[θ, ω] for θ in θ0, ω in ω0])\n",
    "\n",
    "# Alternate between beginning and end to mix positive/negative ω points\n",
    "n_total = length(all_conditions)\n",
    "n_use = min(n_total, n_pendula)\n",
    "indices = Int[]\n",
    "i, j = 1, n_total\n",
    "\n",
    "while length(indices) < n_use\n",
    "    if i <= j\n",
    "        push!(indices, i)\n",
    "        i += 1\n",
    "    end\n",
    "    if length(indices) < n_use && j >= i\n",
    "        push!(indices, j)\n",
    "        j -= 1\n",
    "    end\n",
    "end\n",
    "\n",
    "initial_conditions = all_conditions[indices][1:n_pendula];"
   ]
  },
  {
   "cell_type": "code",
   "execution_count": 6,
   "id": "c0879d30",
   "metadata": {},
   "outputs": [],
   "source": [
    "# Set up the ODE problems\n",
    "problems = [ODEProblem(pendulum!, ic, tspan) for ic in initial_conditions]\n",
    "\n",
    "# Solve all ODEs\n",
    "solutions = [solve(prob, Tsit5(), saveat=range(tspan[1], tspan[2], length=total_frames))\n",
    "             for prob in problems];"
   ]
  },
  {
   "cell_type": "code",
   "execution_count": 7,
   "id": "0b5c8227",
   "metadata": {},
   "outputs": [
    {
     "data": {
      "text/plain": [
       "meshgrid (generic function with 1 method)"
      ]
     },
     "execution_count": 7,
     "metadata": {},
     "output_type": "execute_result"
    }
   ],
   "source": [
    "# Helper function for meshgrid (similar to MATLAB's meshgrid)\n",
    "function meshgrid(x, y)\n",
    "    X = [i for i in x, j in y]\n",
    "    Y = [j for i in x, j in y]\n",
    "    return X, Y\n",
    "end"
   ]
  },
  {
   "cell_type": "code",
   "execution_count": 8,
   "id": "68d66591",
   "metadata": {},
   "outputs": [],
   "source": [
    "#=\n",
    "# Prepare the animation\n",
    "println(\"Creating animation...\")\n",
    "Plots.theme(:dao)\n",
    "dpi = 150\n",
    "\n",
    "# Create a color gradient based on initial ω values\n",
    "initial_ω = [ic[2] for ic in initial_conditions]\n",
    "colors = cgrad(:viridis)  # Choose any colormap you like (:viridis, :plasma, :inferno, etc.)\n",
    "\n",
    "# Normalize initial ω values to [0,1] for colormap\n",
    "ω_min, ω_max = extrema(initial_ω)\n",
    "ω_norm = @. (initial_ω - ω_min) / (ω_max - ω_min)\n",
    "\n",
    "# Assign colors based on initial ω\n",
    "# point_colors = [colors[ω_norm[i]] for i in 1:n_pendula]\n",
    "\n",
    "# Alternative: Binary coloring (positive/negative initial ω)\n",
    "point_colors = [ω > 0 ? :blue : :red for ω in initial_ω]\n",
    "\n",
    "anim = @animate for i in 1:total_frames\n",
    "    t = (i - 1) / (total_frames - 1) * tspan[2]\n",
    "\n",
    "    # Extract current state of all pendula at this frame\n",
    "    θs = [sol[1, i] for sol in solutions]\n",
    "    ωs = [sol[2, i] for sol in solutions]\n",
    "\n",
    "    # Wrap θ to [-π, π] for plotting\n",
    "    θs_wrapped = mod.(θs .+ π, 2π) .- π\n",
    "\n",
    "    # Create phase space plot\n",
    "    p = scatter(θs_wrapped, ωs,\n",
    "        xlims=(-π, π), ylims=(-2.5, 2.5),\n",
    "        xlabel=L\"\\theta\", ylabel=L\"\\dot{\\theta}\",\n",
    "        title=\"Pendula Phase Space Mixing (t = $(@sprintf(\" % 0.2f\", t)))\",\n",
    "        legend=false,\n",
    "        markersize=8,\n",
    "        markercolor=point_colors,  # Use our color assignments\n",
    "        size=(800, 600),\n",
    "        titlefontsize=20,\n",
    "        tickfontsize=12,\n",
    "        legendfontsize=10,\n",
    "        yguidefontsize=15,\n",
    "        xguidefontsize=15,\n",
    "        dpi=dpi,\n",
    "        alpha=0.5)\n",
    "\n",
    "    # Add multiple energy contours\n",
    "    θ_range = range(-π, π, length=100)\n",
    "    for E in [0.25, 0.5, 1.0, 1.5, 2.0, 2.5]\n",
    "        ω_pos = @. sqrt(max(0, 2 * (E + cos(θ_range))))\n",
    "        ω_neg = @. -sqrt(max(0, 2 * (E + cos(θ_range))))\n",
    "        valid = 2 * (E .+ cos.(θ_range)) .≥ 0\n",
    "        plot!(θ_range[valid], ω_pos[valid],\n",
    "            color=:black, linestyle=:dash, linewidth=1.5, alpha=0.7, label=\"\")\n",
    "        plot!(θ_range[valid], ω_neg[valid],\n",
    "            color=:black, linestyle=:dash, linewidth=1.5, alpha=0.7, label=\"\", dpi=dpi)\n",
    "    end\n",
    "\n",
    "    # Add quiver plot\n",
    "    #=\n",
    "    θ_grid = range(-π, π, length=15)\n",
    "    ω_grid = range(-2.5, 2.5, length=15)\n",
    "    θ_quiver, ω_quiver = meshgrid(θ_grid, ω_grid)\n",
    "    dθ = ω_quiver\n",
    "    dω = -sin.(θ_quiver)\n",
    "    norm_factor = @. sqrt(dθ^2 + dω^2)\n",
    "    dθ_norm = dθ ./ (norm_factor .+ 1e-6) * 0.2\n",
    "    dω_norm = dω ./ (norm_factor .+ 1e-6) * 0.2\n",
    "    quiver!(θ_quiver[:], ω_quiver[:], quiver=(dθ_norm[:], dω_norm[:]),\n",
    "        color=:black, alpha=1.0, linewidth=1.5, arrow=arrow(:closed, :head, 0.05, 0.2))\n",
    "    =#\n",
    "\n",
    "    # Highlight the main separatrix\n",
    "    main_sep_ω = 2 .* cos.(θ_range ./ 2)\n",
    "    plot!(θ_range, main_sep_ω, color=:black, linewidth=1.5, label=\"Main Separatrix\")\n",
    "    plot!(θ_range, -main_sep_ω, color=:black, linewidth=1.5, label=\"\", dpi=dpi)\n",
    "\n",
    "    p\n",
    "end\n",
    "=#"
   ]
  },
  {
   "cell_type": "code",
   "execution_count": 9,
   "id": "5f006430",
   "metadata": {},
   "outputs": [
    {
     "name": "stdout",
     "output_type": "stream",
     "text": [
      "Creating animation and saving individual frames...\n"
     ]
    },
    {
     "name": "stderr",
     "output_type": "stream",
     "text": [
      "\u001b[36m\u001b[1m[ \u001b[22m\u001b[39m\u001b[36m\u001b[1mInfo: \u001b[22m\u001b[39mSaved animation to /home/belster/JuliaFiles/Misc/pendulum_animation.gif\n"
     ]
    },
    {
     "name": "stdout",
     "output_type": "stream",
     "text": [
      "Animation saved as pendulum_animation.gif\n",
      "Individual frames saved in pendulum_frames directory\n"
     ]
    }
   ],
   "source": [
    "# Prepare the animation and save individual plots\n",
    "println(\"Creating animation and saving individual frames...\")\n",
    "Plots.theme(:dao)\n",
    "dpi = 150\n",
    "\n",
    "# Create output directory if it doesn't exist\n",
    "output_dir = \"pendulum_frames\"\n",
    "if !isdir(output_dir)\n",
    "    mkdir(output_dir)\n",
    "end\n",
    "\n",
    "# Create a color gradient based on initial ω values\n",
    "initial_ω = [ic[2] for ic in initial_conditions]\n",
    "colors = cgrad(:viridis)  # Choose any colormap you like (:viridis, :plasma, :inferno, etc.)\n",
    "\n",
    "# Normalize initial ω values to [0,1] for colormap\n",
    "ω_min, ω_max = extrema(initial_ω)\n",
    "ω_norm = @. (initial_ω - ω_min) / (ω_max - ω_min)\n",
    "\n",
    "# Assign colors based on initial ω\n",
    "# point_colors = [colors[ω_norm[i]] for i in 1:n_pendula]\n",
    "\n",
    "# Alternative: Binary coloring (positive/negative initial ω)\n",
    "point_colors = [ω > 0 ? :blue : :red for ω in initial_ω]\n",
    "\n",
    "anim = @animate for i in 1:total_frames\n",
    "    t = (i - 1) / (total_frames - 1) * tspan[2]\n",
    "\n",
    "    # Extract current state of all pendula at this frame\n",
    "    θs = [sol[1, i] for sol in solutions]\n",
    "    ωs = [sol[2, i] for sol in solutions]\n",
    "\n",
    "    # Wrap θ to [-π, π] for plotting\n",
    "    θs_wrapped = mod.(θs .+ π, 2π) .- π\n",
    "\n",
    "    # Create phase space plot\n",
    "    p = scatter(θs_wrapped, ωs,\n",
    "        xlims=(-π, π), ylims=(-2.5, 2.5),\n",
    "        xlabel=L\"\\theta\", ylabel=L\"\\dot{\\theta}\",\n",
    "        title=\"Pendula Phase Space Mixing (t = $(@sprintf(\" % 0.2f\", t)))\",\n",
    "        legend=false,\n",
    "        markersize=8,\n",
    "        markercolor=point_colors,  # Use our color assignments\n",
    "        size=(800, 600),\n",
    "        titlefontsize=20,\n",
    "        tickfontsize=12,\n",
    "        legendfontsize=10,\n",
    "        yguidefontsize=15,\n",
    "        xguidefontsize=15,\n",
    "        dpi=dpi,\n",
    "        alpha=0.5)\n",
    "\n",
    "    # Add multiple energy contours\n",
    "    θ_range = range(-π, π, length=100)\n",
    "    for E in [0.25, 0.5, 1.0, 1.5, 2.0, 2.5]\n",
    "        ω_pos = @. sqrt(max(0, 2 * (E + cos(θ_range))))\n",
    "        ω_neg = @. -sqrt(max(0, 2 * (E + cos(θ_range))))\n",
    "        valid = 2 * (E .+ cos.(θ_range)) .≥ 0\n",
    "        plot!(θ_range[valid], ω_pos[valid],\n",
    "            color=:black, linestyle=:dash, linewidth=1.5, alpha=0.7, label=\"\")\n",
    "        plot!(θ_range[valid], ω_neg[valid],\n",
    "            color=:black, linestyle=:dash, linewidth=1.5, alpha=0.7, label=\"\", dpi=dpi)\n",
    "    end\n",
    "\n",
    "    # Highlight the main separatrix\n",
    "    main_sep_ω = 2 .* cos.(θ_range ./ 2)\n",
    "    plot!(θ_range, main_sep_ω, color=:black, linewidth=1.5, label=\"Main Separatrix\")\n",
    "    plot!(θ_range, -main_sep_ω, color=:black, linewidth=1.5, label=\"\", dpi=dpi)\n",
    "\n",
    "    # Save individual frame\n",
    "    frame_filename = joinpath(output_dir, \"frame_$(lpad(i, 4, '0')).png\")\n",
    "    savefig(p, frame_filename)\n",
    "    \n",
    "    p\n",
    "end\n",
    "\n",
    "# Create and save the animation\n",
    "gif(anim, \"pendulum_animation.gif\", fps=30)\n",
    "println(\"Animation saved as pendulum_animation.gif\")\n",
    "println(\"Individual frames saved in $output_dir directory\")"
   ]
  },
  {
   "cell_type": "code",
   "execution_count": 10,
   "id": "9f8576c7",
   "metadata": {},
   "outputs": [],
   "source": [
    "#=\n",
    "# Prepare the animation\n",
    "println(\"Creating animation...\")\n",
    "Plots.theme(:dao)\n",
    "\n",
    "anim = @animate for i in 1:total_frames\n",
    "    t = (i - 1) / (total_frames - 1) * tspan[2]\n",
    "\n",
    "    # Extract current state of all pendula at this frame\n",
    "    θs = [sol[1, i] for sol in solutions]\n",
    "    ωs = [sol[2, i] for sol in solutions]\n",
    "\n",
    "    # Wrap θ to [-π, π] for plotting\n",
    "    θs_wrapped = mod.(θs .+ π, 2π) .- π\n",
    "\n",
    "    # Create phase space plot\n",
    "    scatter(θs_wrapped, ωs,\n",
    "        xlims=(-π, π), ylims=(-2.5, 2.5),\n",
    "        xlabel=\"θ\", ylabel=L\"\\dot{\\theta}\",\n",
    "        title=\"Pendula Phase Space Mixing (t = $(@sprintf(\" % 0.2f\", t)))\",\n",
    "        legend=false, markersize=4,\n",
    "        size=(800, 600),\n",
    "        titlefontsize=20,\n",
    "        tickfontsize=12,\n",
    "        legendfontsize=10,\n",
    "        yguidefontsize=15,\n",
    "        xguidefontsize=15,)\n",
    "\n",
    "    # Add separatrix (the boundary between libration and rotation)\n",
    "    separatrix_θ = range(-π, π, length=100)\n",
    "    separatrix_ω = 2 .* cos.(separatrix_θ ./ 2)\n",
    "    plot!(separatrix_θ, separatrix_ω, color=:black, linestyle=:dash, linewidth=3, label=\"Separatrix\")\n",
    "    plot!(separatrix_θ, -separatrix_ω, color=:black, linestyle=:dash, linewidth=3, label=\"\")\n",
    "end\n",
    "=#"
   ]
  },
  {
   "cell_type": "code",
   "execution_count": 11,
   "id": "13ff77f6",
   "metadata": {},
   "outputs": [
    {
     "name": "stdout",
     "output_type": "stream",
     "text": [
      "Animation saved to pendulum_phase_mixing.mp4\n"
     ]
    },
    {
     "name": "stderr",
     "output_type": "stream",
     "text": [
      "\u001b[36m\u001b[1m[ \u001b[22m\u001b[39m\u001b[36m\u001b[1mInfo: \u001b[22m\u001b[39mSaved animation to /home/belster/JuliaFiles/Misc/pendulum_phase_mixing.mp4\n"
     ]
    }
   ],
   "source": [
    "# Save the animation\n",
    "mp4(anim, \"pendulum_phase_mixing.mp4\", fps=fps)\n",
    "println(\"Animation saved to pendulum_phase_mixing.mp4\")"
   ]
  }
 ],
 "metadata": {
  "kernelspec": {
   "display_name": "Julia 1.11.1",
   "language": "julia",
   "name": "julia-1.11"
  },
  "language_info": {
   "file_extension": ".jl",
   "mimetype": "application/julia",
   "name": "julia",
   "version": "1.11.1"
  }
 },
 "nbformat": 4,
 "nbformat_minor": 5
}
