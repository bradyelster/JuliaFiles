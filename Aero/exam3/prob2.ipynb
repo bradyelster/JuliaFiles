{
 "cells": [
  {
   "cell_type": "code",
   "execution_count": 1,
   "metadata": {},
   "outputs": [],
   "source": [
    "using LaTeXStrings, Plots, Printf;"
   ]
  },
  {
   "cell_type": "code",
   "execution_count": 2,
   "metadata": {},
   "outputs": [],
   "source": [
    "tspan = (0.0, 1.0);\n",
    "ϵ = 0.1\n",
    "ϵ2 = 0.01;"
   ]
  },
  {
   "cell_type": "code",
   "execution_count": 3,
   "metadata": {},
   "outputs": [],
   "source": [
    "exact(ϵ, x) = 2*x^2 / (-x^2*(ϵ-2)+ϵ)\n",
    "outer(ϵ, x) = 1 + ϵ*(0.5-(1/(2*x^2))) # + ϵ^2*((1/(2*x^2))+ x - (3/2))\n",
    "inner(ϵ, x) = 2*(x/sqrt(ϵ))^2 / (2*(x/sqrt(ϵ))^2 + 1) + ϵ*( (2*(x/sqrt(ϵ))^4) / ((2*(x/sqrt(ϵ))^2+1)^2) )\n",
    "xvals = LinRange(0,1,10_000);\n",
    "xvals_restricted = LinRange(10*ϵ, 1, 10_000);"
   ]
  },
  {
   "cell_type": "code",
   "execution_count": 4,
   "metadata": {},
   "outputs": [
    {
     "data": {
      "text/plain": [
       "\"/home/belster12/JuliaFiles/Aero/exam3/Aero_Exam3_Prob2_TwoTerm.pdf\""
      ]
     },
     "execution_count": 4,
     "metadata": {},
     "output_type": "execute_result"
    }
   ],
   "source": [
    "theme(:dao::Symbol)\n",
    "plot(xvals, exact.(ϵ,xvals),\n",
    "    line = (3, :solid),\n",
    "    label = L\"Exact $\\epsilon = $%$ϵ\",\n",
    "    )\n",
    "plot!(xvals, inner.(ϵ,xvals),\n",
    "    line = (3, :dash),\n",
    "    label = L\"Composite $\\epsilon = $%$ϵ\",\n",
    "    # xlims=(0.1,1)\n",
    "    )\n",
    "#=\n",
    "plot!(xvals, outer.(ϵ,xvals_restricted),\n",
    "    line = (3, :solid),\n",
    "    label = L\"Outer $\\epsilon = $%$ϵ\",\n",
    "    # xlims=(0.1,1)\n",
    "    )\n",
    "=#\n",
    "plot!(xvals, exact.(ϵ2,xvals),\n",
    "    line = (3, :solid),\n",
    "    label = L\"Exact $\\epsilon = $%$ϵ2\",\n",
    "    title = \"Problem 2: Two-Term Solution\",\n",
    "    xlabel = L\"$x$\",\n",
    "    ylabel = L\"$y(x)$\",\n",
    "    legend = :best,\n",
    "    titlefontsize = 20,\n",
    "    tickfontsize = 12,\n",
    "    legendfontsize = 10,\n",
    "    yguidefontsize = 15,\n",
    "    xguidefontsize = 15,\n",
    "    # right_margin = 2 * Plots.mm,\n",
    ")\n",
    "plot!(xvals, inner.(ϵ2,xvals),\n",
    "    line = (3, :dash),\n",
    "    label = L\"Composite $\\epsilon = $%$ϵ2\",\n",
    "    # xlims=(0.1,1)\n",
    "    )\n",
    "savefig(\"Aero_Exam3_Prob2_TwoTerm.pdf\")\n"
   ]
  },
  {
   "cell_type": "code",
   "execution_count": null,
   "metadata": {},
   "outputs": [],
   "source": []
  },
  {
   "cell_type": "code",
   "execution_count": null,
   "metadata": {},
   "outputs": [],
   "source": []
  }
 ],
 "metadata": {
  "kernelspec": {
   "display_name": "Julia 1.11.1",
   "language": "julia",
   "name": "julia-1.11"
  },
  "language_info": {
   "file_extension": ".jl",
   "mimetype": "application/julia",
   "name": "julia",
   "version": "1.11.1"
  }
 },
 "nbformat": 4,
 "nbformat_minor": 2
}
