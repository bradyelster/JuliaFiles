{
 "cells": [
  {
   "cell_type": "code",
   "execution_count": 39,
   "metadata": {},
   "outputs": [],
   "source": [
    "using OrdinaryDiffEq, LaTeXStrings, Plots, Printf;\n"
   ]
  },
  {
   "cell_type": "code",
   "execution_count": 40,
   "metadata": {},
   "outputs": [
    {
     "data": {
      "text/plain": [
       "0.01"
      ]
     },
     "execution_count": 40,
     "metadata": {},
     "output_type": "execute_result"
    }
   ],
   "source": [
    "tspan = (0.0, 100.0);\n",
    "ϵ = 0.1\n",
    "ϵ2 = 0.01\n"
   ]
  },
  {
   "cell_type": "code",
   "execution_count": 41,
   "metadata": {},
   "outputs": [
    {
     "data": {
      "text/plain": [
       "vanderPol1! (generic function with 1 method)"
      ]
     },
     "execution_count": 41,
     "metadata": {},
     "output_type": "execute_result"
    }
   ],
   "source": [
    "function vanderPol1!(dv, v, p, t)\n",
    "    u = v[1]\n",
    "    du = v[2]\n",
    "    dv[1] = du\n",
    "    return dv[2] = ϵ * (1 - u^2) * du - u\n",
    "end\n"
   ]
  },
  {
   "cell_type": "code",
   "execution_count": 42,
   "metadata": {},
   "outputs": [
    {
     "data": {
      "text/plain": [
       "vanderPol2! (generic function with 1 method)"
      ]
     },
     "execution_count": 42,
     "metadata": {},
     "output_type": "execute_result"
    }
   ],
   "source": [
    "function vanderPol2!(dv, v, p, t)\n",
    "    u = v[1]\n",
    "    du = v[2]\n",
    "    dv[1] = du\n",
    "    return dv[2] = ϵ2 * (1 - u^2) * du - u\n",
    "end\n"
   ]
  },
  {
   "cell_type": "code",
   "execution_count": 43,
   "metadata": {},
   "outputs": [],
   "source": [
    "a = 2\n",
    "u0 = [a, 0]\n",
    "\n",
    "prob1 = ODEProblem(vanderPol1!, u0, tspan)\n",
    "prob2 = ODEProblem(vanderPol2!, u0, tspan)\n",
    "\n",
    "sol1 = solve(prob1, Tsit5(), reltol = 1.0e-8, abstol = 1.0e-8);\n",
    "sol2 = solve(prob2, Tsit5(), reltol = 1.0e-8, abstol = 1.0e-8);\n"
   ]
  },
  {
   "cell_type": "code",
   "execution_count": 44,
   "metadata": {},
   "outputs": [
    {
     "data": {
      "text/plain": [
       "\"/home/belster/JuliaFiles/Aero/exam3/Aero_Exam3_VDP_exact.pdf\""
      ]
     },
     "execution_count": 44,
     "metadata": {},
     "output_type": "execute_result"
    }
   ],
   "source": [
    "theme(:dao::Symbol)\n",
    "plot(\n",
    "    sol2,\n",
    "    idxs = [1],\n",
    "    line = (3, :solid),\n",
    "    label = L\"Exact $\\epsilon = $%$ϵ2\"\n",
    ")\n",
    "plot!(\n",
    "    sol1,\n",
    "    idxs = [1],\n",
    "    line = (3, :dash),\n",
    "    label = L\"Exact $\\epsilon = $%$ϵ\",\n",
    "    title = \"Van der Pol Oscillator, a=$a\",\n",
    "    xlabel = L\"$t$\",\n",
    "    ylabel = L\"$u(t)$\",\n",
    "    legend = :best,\n",
    "    titlefontsize = 20,\n",
    "    tickfontsize = 12,\n",
    "    legendfontsize = 10,\n",
    "    yguidefontsize = 15,\n",
    "    xguidefontsize = 15,\n",
    "    right_margin = 2 * Plots.mm,\n",
    "    xlims = (0, 20)\n",
    ")\n",
    "savefig(\"Aero_Exam3_VDP_exact.pdf\")\n"
   ]
  },
  {
   "cell_type": "code",
   "execution_count": 45,
   "metadata": {},
   "outputs": [],
   "source": [
    "approx(ϵ, t) = a * cos(t) + ϵ * (a^3 / 8) * sin(t)\n",
    "\n",
    "tvals = LinRange(0, 100, 100_000);\n"
   ]
  },
  {
   "cell_type": "code",
   "execution_count": 46,
   "metadata": {},
   "outputs": [
    {
     "data": {
      "text/plain": [
       "\"/home/belster/JuliaFiles/Aero/exam3/Aero_Exam3_VDP_compare2.pdf\""
      ]
     },
     "execution_count": 46,
     "metadata": {},
     "output_type": "execute_result"
    }
   ],
   "source": [
    "plot(\n",
    "    sol2,\n",
    "    idxs = [1],\n",
    "    line = (3, :solid),\n",
    "    label = L\"Exact $\\epsilon = $%$ϵ2\",\n",
    "    # xlims = (0, 20)\n",
    ")\n",
    "\n",
    "plot!(\n",
    "    tvals, [(approx.(ϵ2, tvals))],\n",
    "    line = (3, :dash),\n",
    "    label = L\"Approx $\\epsilon = $%$ϵ2\",\n",
    "    legend = :best,\n",
    "    title = \"Van der Pol Oscillator, a=$a\",\n",
    "    xlabel = L\"$t$\",\n",
    "    ylabel = L\"$u(t)$\",\n",
    "    titlefontsize = 20,\n",
    "    tickfontsize = 12,\n",
    "    legendfontsize = 10,\n",
    "    yguidefontsize = 15,\n",
    "    xguidefontsize = 15,\n",
    "    right_margin = 2 * Plots.mm,\n",
    "    xlims = (0, 20)\n",
    ")\n",
    "savefig(\"Aero_Exam3_VDP_compare2.pdf\")\n"
   ]
  },
  {
   "cell_type": "code",
   "execution_count": 47,
   "metadata": {},
   "outputs": [
    {
     "data": {
      "text/plain": [
       "\"/home/belster/JuliaFiles/Aero/exam3/Aero_Exam3_VDP_compare1.pdf\""
      ]
     },
     "execution_count": 47,
     "metadata": {},
     "output_type": "execute_result"
    }
   ],
   "source": [
    "plot(\n",
    "    sol1,\n",
    "    idxs = [1],\n",
    "    line = (3, :solid),\n",
    "    label = L\"Exact $\\epsilon = $%$ϵ\",\n",
    "    # xlims = (0, 20)\n",
    ")\n",
    "\n",
    "plot!(\n",
    "    tvals, [(approx.(ϵ, tvals))],\n",
    "    line = (3, :dash),\n",
    "    label = L\"Approx $\\epsilon = $%$ϵ\",\n",
    "    legend = :best,\n",
    "    title = \"Van der Pol Oscillator, a=$a\",\n",
    "    xlabel = L\"$t$\",\n",
    "    ylabel = L\"$u(t)$\",\n",
    "    titlefontsize = 20,\n",
    "    tickfontsize = 12,\n",
    "    legendfontsize = 10,\n",
    "    yguidefontsize = 15,\n",
    "    xguidefontsize = 15,\n",
    "    right_margin = 2 * Plots.mm,\n",
    "    xlims = (0, 20)\n",
    ")\n",
    "savefig(\"Aero_Exam3_VDP_compare1.pdf\")\n"
   ]
  }
 ],
 "metadata": {
  "kernelspec": {
   "display_name": "Julia 1.11.1",
   "language": "julia",
   "name": "julia-1.11"
  },
  "language_info": {
   "file_extension": ".jl",
   "mimetype": "application/julia",
   "name": "julia",
   "version": "1.11.1"
  }
 },
 "nbformat": 4,
 "nbformat_minor": 2
}
