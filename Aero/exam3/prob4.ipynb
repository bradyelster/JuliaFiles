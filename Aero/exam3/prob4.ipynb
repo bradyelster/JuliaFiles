{
 "cells": [
  {
   "cell_type": "code",
   "execution_count": 9,
   "metadata": {},
   "outputs": [],
   "source": [
    "using LaTeXStrings, Plots, Printf;\n"
   ]
  },
  {
   "cell_type": "code",
   "execution_count": 10,
   "metadata": {},
   "outputs": [
    {
     "data": {
      "text/plain": [
       "exact (generic function with 1 method)"
      ]
     },
     "execution_count": 10,
     "metadata": {},
     "output_type": "execute_result"
    }
   ],
   "source": [
    "exact(ϵ, x, a, b, c) = (0.5)*csch(1/(2*sqrt(ϵ)))^2*(-1-c+x+(a-x)*cosh(1/sqrt(ϵ))+(1+b)*sqrt(ϵ)*sinh(1/sqrt(ϵ))-cosh(x/sqrt(ϵ))*(-1+a-c+(1+b)*sqrt(ϵ)*sinh(1/sqrt(ϵ)) )) + (1+b)*sqrt(ϵ)*sinh(x/sqrt(ϵ))"
   ]
  },
  {
   "cell_type": "code",
   "execution_count": null,
   "metadata": {},
   "outputs": [],
   "source": [
    "ϵ = 0.1\n",
    "ϵ2 = 0.01\n",
    "\n",
    "a = 2\n",
    "b = 1\n",
    "c = 3;\n",
    "\n",
    "xvals = LinRange(0, 1, 10_000);\n",
    "\n",
    "# outer(x) = (a-x)\n",
    "# Linner(ϵ, x) = a + b - b*exp(-x/sqrt(ϵ))+ϵ*(1 - exp(-x/sqrt(ϵ)) - x/sqrt(ϵ));\n",
    "composite(ϵ, x) = 2 - a -b + 2*c+(a+b-1-c)*exp((x-1)/sqrt(ϵ))-b*exp(-x/sqrt(ϵ))-x;"
   ]
  },
  {
   "cell_type": "code",
   "execution_count": 19,
   "metadata": {},
   "outputs": [
    {
     "data": {
      "text/plain": [
       "\"/home/belster12/JuliaFiles/Aero/exam3/Aero_Exam3_Prob4_Bad.pdf\""
      ]
     },
     "execution_count": 19,
     "metadata": {},
     "output_type": "execute_result"
    }
   ],
   "source": [
    "theme(:dao::Symbol)\n",
    "plot(xvals, exact.(ϵ2, xvals, a, b, c),\n",
    "    line = (3, :solid),\n",
    "    label = L\"Exact $\\epsilon = $%$ϵ2\"\n",
    ")\n",
    "plot!(xvals, composite.(ϵ, xvals),\n",
    "    line = (3, :dash),\n",
    "    label = L\"composite $\\epsilon = $%$ϵ\"\n",
    ")\n",
    "plot!(xvals, composite.(ϵ2, xvals),\n",
    "    line = (3, :dash),\n",
    "    label = L\"composite $\\epsilon = $%$ϵ2\"\n",
    ")\n",
    "plot!(xvals, exact.(ϵ,xvals, a, b, c),\n",
    "    line = (3, :solid),\n",
    "    label = L\"Exact $\\epsilon = $%$ϵ\",\n",
    "    title = \"Problem 4 Solution\",\n",
    "    xlabel = L\"$x$\",\n",
    "    ylabel = L\"$y(x)$\",\n",
    "    legend = :best,\n",
    "    titlefontsize = 20,\n",
    "    tickfontsize = 12,\n",
    "    legendfontsize = 10,\n",
    "    yguidefontsize = 15,\n",
    "    xguidefontsize = 15,\n",
    "    # right_margin = 2 * Plots.mm,\n",
    ")\n",
    "savefig(\"Aero_Exam3_Prob4_Bad.pdf\")"
   ]
  },
  {
   "cell_type": "code",
   "execution_count": null,
   "metadata": {},
   "outputs": [],
   "source": []
  }
 ],
 "metadata": {
  "kernelspec": {
   "display_name": "Julia 1.11.1",
   "language": "julia",
   "name": "julia-1.11"
  },
  "language_info": {
   "file_extension": ".jl",
   "mimetype": "application/julia",
   "name": "julia",
   "version": "1.11.1"
  }
 },
 "nbformat": 4,
 "nbformat_minor": 2
}
