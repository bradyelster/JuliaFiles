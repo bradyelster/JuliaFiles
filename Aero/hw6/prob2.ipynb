{
 "cells": [
  {
   "cell_type": "code",
   "execution_count": 89,
   "metadata": {},
   "outputs": [],
   "source": [
    "using Plots\n",
    "using LaTeXStrings\n",
    "using Printf\n",
    "using BoundaryValueDiffEq"
   ]
  },
  {
   "cell_type": "code",
   "execution_count": 90,
   "metadata": {},
   "outputs": [],
   "source": [
    "struct BVPParams\n",
    "    domain::Tuple{Float64, Float64}\n",
    "    ϵ::Vector{Float64}  # Can hold multiple values of epsilon\n",
    "    α::Int\n",
    "    β::Int\n",
    "end"
   ]
  },
  {
   "cell_type": "code",
   "execution_count": 91,
   "metadata": {},
   "outputs": [
    {
     "data": {
      "text/plain": [
       "prob2! (generic function with 1 method)"
      ]
     },
     "execution_count": 91,
     "metadata": {},
     "output_type": "execute_result"
    }
   ],
   "source": [
    "# Differential equation definition\n",
    "function prob2!(dv, v, x, ϵ)\n",
    "    @views dv[1] = v[2]\n",
    "    @views dv[2] = (v[2] + 2x) / ϵ  # Solve for the current epsilon\n",
    "    return dv\n",
    "end"
   ]
  },
  {
   "cell_type": "code",
   "execution_count": 92,
   "metadata": {},
   "outputs": [
    {
     "data": {
      "text/plain": [
       "boundary_conditions! (generic function with 1 method)"
      ]
     },
     "execution_count": 92,
     "metadata": {},
     "output_type": "execute_result"
    }
   ],
   "source": [
    "# Boundary conditions\n",
    "function boundary_conditions!(residual, u, params::BVPParams, x)\n",
    "    residual[1] = u[1][1] - params.α\n",
    "    residual[2] = u[end][1] - params.β\n",
    "    return residual\n",
    "end"
   ]
  },
  {
   "cell_type": "code",
   "execution_count": 93,
   "metadata": {},
   "outputs": [
    {
     "data": {
      "text/plain": [
       "solve_bvp (generic function with 2 methods)"
      ]
     },
     "execution_count": 93,
     "metadata": {},
     "output_type": "execute_result"
    }
   ],
   "source": [
    "# Solve for each epsilon\n",
    "function solve_bvp(params::BVPParams, idx)\n",
    "    ϵ = (params.ϵ)[idx]\n",
    "    # Define the problem and solve for the current epsilon\n",
    "    initial_guess = [params.α, 0.0]\n",
    "    bvp = BVProblem(\n",
    "        (dv, v, p, x) -> prob2!(dv, v, x, ϵ),  # Closure for the current epsilon\n",
    "        boundary_conditions!,\n",
    "        initial_guess,\n",
    "        params.domain,\n",
    "        params\n",
    "    )\n",
    "    dt = 0.001\n",
    "    sol = solve(bvp, MIRK4(); dt)\n",
    "    return sol\n",
    "end"
   ]
  },
  {
   "cell_type": "code",
   "execution_count": 94,
   "metadata": {},
   "outputs": [
    {
     "data": {
      "text/plain": [
       "plot_bvp (generic function with 2 methods)"
      ]
     },
     "execution_count": 94,
     "metadata": {},
     "output_type": "execute_result"
    }
   ],
   "source": [
    "# Plot the solutions\n",
    "function plot_bvp(sol, ϵ)\n",
    "    # Initialize an empty plot\n",
    "    theme(:dao::Symbol)\n",
    "    plt = plot(\n",
    "        xlabel = L\"$x$\",  # Explicitly set the x-axis label\n",
    "        ylabel = L\"$y(x)$\",\n",
    "        title = \"Problem 2 Solution \"*L\"$(\\varepsilon=%$ϵ)$\",\n",
    "        legend = :best,\n",
    "        titlefontsize = 20,\n",
    "        tickfontsize = 12,\n",
    "        legendfontsize = 10,\n",
    "        yguidefontsize = 15,\n",
    "        xguidefontsize = 15,\n",
    "        right_margin = 2 * Plots.mm\n",
    "    )\n",
    "\n",
    "    plot!(plt,\n",
    "        sol,\n",
    "        idxs = [1],\n",
    "        label = \"Exact\",\n",
    "        line = (3, :dash),\n",
    "        xlabel = L\"$x$\"  # Ensure the x-axis label is overridden for this plot\n",
    "    )\n",
    "    return plt\n",
    "end"
   ]
  },
  {
   "cell_type": "code",
   "execution_count": null,
   "metadata": {},
   "outputs": [
    {
     "data": {
      "text/plain": [
       "main (generic function with 1 method)"
      ]
     },
     "execution_count": 95,
     "metadata": {},
     "output_type": "execute_result"
    }
   ],
   "source": [
    "# Main function\n",
    "function main()\n",
    "    domain = (0.0, 1.0)\n",
    "    α = 1\n",
    "    β = 2\n",
    "    ϵ1 = 0.1\n",
    "    ϵ2 = 0.01\n",
    "\n",
    "    inner(x, ϵ) = β .+ (β.-α.+1).*(exp.((x .- 1) ./ ϵ) .- 1)\n",
    "    outer(x, ϵ) = α .- x.^2;\n",
    "    match(x, ϵ) = 0\n",
    "\n",
    "    params = BVPParams(domain, [ϵ1, ϵ2], α, β)\n",
    "    points = collect(LinRange(domain[1], domain[2], 1000))\n",
    "\n",
    "    exact1 = solve_bvp(params, 1)\n",
    "    inner1 = inner(points, ϵ1)\n",
    "    outer1 = outer(points, ϵ1)\n",
    "    comp1 = inner1 .+ outer1\n",
    "    comp2 = inner2 .+ outer2 - match\n",
    "\n",
    "    exact2 = solve_bvp(params, 2)\n",
    "    inner2 = inner(points, ϵ2)\n",
    "    outer2 = outer(points, ϵ2)\n",
    "\n",
    "    fullplot1 = plot_bvp(exact1, ϵ1) \n",
    "    plot!(fullplot1, points, [inner1 outer1], \n",
    "        line = (3, :solid), \n",
    "        labels=[\"Inner\" \"Outer\"],\n",
    "        )\n",
    "\n",
    "    fullplot2 = plot_bvp(exact2, ϵ2) \n",
    "    plot!(fullplot2, points, [inner2 outer2], \n",
    "        line = (3, :solid), \n",
    "        labels=[\"Inner\" \"Outer\"],\n",
    "        )\n",
    "\n",
    "    # Save the combined plot\n",
    "    savefig(fullplot1, \"Aero_HW6_Prob2_eps1.pdf\")\n",
    "    savefig(fullplot2, \"Aero_HW6_Prob2_eps2.pdf\")\n",
    "end"
   ]
  },
  {
   "cell_type": "code",
   "execution_count": 96,
   "metadata": {},
   "outputs": [
    {
     "data": {
      "text/plain": [
       "\"/home/belster12/JuliaFiles/Aero/hw6/Aero_HW6_Prob2_eps2.pdf\""
      ]
     },
     "execution_count": 96,
     "metadata": {},
     "output_type": "execute_result"
    }
   ],
   "source": [
    "main()"
   ]
  }
 ],
 "metadata": {
  "kernelspec": {
   "display_name": "Julia 1.11.1",
   "language": "julia",
   "name": "julia-1.11"
  },
  "language_info": {
   "file_extension": ".jl",
   "mimetype": "application/julia",
   "name": "julia",
   "version": "1.11.1"
  }
 },
 "nbformat": 4,
 "nbformat_minor": 2
}
