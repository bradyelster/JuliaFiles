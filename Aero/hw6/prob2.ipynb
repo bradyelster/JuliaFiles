{
 "cells": [
  {
   "cell_type": "code",
   "execution_count": null,
   "metadata": {},
   "outputs": [],
   "source": [
    "using Plots\n",
    "using LaTeXStrings\n",
    "using BoundaryValueDiffEq\n"
   ]
  },
  {
   "cell_type": "code",
   "execution_count": null,
   "metadata": {},
   "outputs": [],
   "source": [
    "mutable struct Params\n",
    "    domain::Tuple{Float32}\n",
    "    ϵ::Float32\n",
    "    α::Int32\n",
    "    β::Int32\n",
    "end\n"
   ]
  },
  {
   "cell_type": "code",
   "execution_count": null,
   "metadata": {},
   "outputs": [],
   "source": [
    "function rightBL!(dv, v, p, x)\n",
    "    u = v[1]\n",
    "    du = v[2]\n",
    "    dv[1] = du\n",
    "    return dv[2] = (du + 2 * x) / ϵ\n",
    "end\n"
   ]
  },
  {
   "cell_type": "code",
   "execution_count": null,
   "metadata": {},
   "outputs": [],
   "source": [
    "function bc!(residual, u, p, t)\n",
    "    residual[1] = u[begin][1] - α # the solution at the beginning of the time span should be α\n",
    "    return residual[2] = u[end][1] - p # the solution at the end of the time span should be β\n",
    "end\n"
   ]
  },
  {
   "cell_type": "code",
   "execution_count": null,
   "metadata": {},
   "outputs": [],
   "source": [
    "function main()\n",
    "    inputs = Params(\n",
    "        (0.0, 1.0)::Tuple{Float32},\n",
    "        ϵ = 0.1::Float32,\n",
    "        α = 1::Int32,\n",
    "        β = 2::Int32\n",
    "    )\n",
    "\n",
    "    bvp = BVProblem(rightBL!, bc!, [inputs.α], inputs.domain, inputs.β)\n",
    "    sol = solve(bvp1, MIRK4(), dt = 0.05)\n",
    "    genPlot(sol)\n",
    "    return Nothing\n",
    "end\n"
   ]
  },
  {
   "cell_type": "code",
   "execution_count": null,
   "metadata": {},
   "outputs": [],
   "source": [
    "main()\n"
   ]
  },
  {
   "cell_type": "code",
   "execution_count": null,
   "metadata": {},
   "outputs": [],
   "source": [
    "function genPlot(sol)\n",
    "\n",
    "    theme(:dao::Symbol)\n",
    "\n",
    "    myplot = plot!(\n",
    "        sol,\n",
    "        idxs = [1],\n",
    "        line = (3, :dash),\n",
    "        label = \"Exact\",\n",
    "        title = L\"Lindstedt Solution, $\\varepsilon = $\" * \"$ϵ\" * \", a = \" * \"$a\",\n",
    "        xlabel = L\"$t$\",\n",
    "        ylabel = L\"$u(t)$\",\n",
    "        legend = :best,\n",
    "        titlefontsize = 20,\n",
    "        tickfontsize = 12,\n",
    "        legendfontsize = 10,\n",
    "        yguidefontsize = 15,\n",
    "        xguidefontsize = 15,\n",
    "    )\n",
    "    # return savefig(myplot, \"Aero_HW6_Prob2.pdf\")\n",
    "    return myplot\n",
    "end\n"
   ]
  }
 ],
 "metadata": {
  "kernelspec": {
   "display_name": "Julia 1.11.1",
   "language": "julia",
   "name": "julia-1.11"
  },
  "language_info": {
   "file_extension": ".jl",
   "mimetype": "application/julia",
   "name": "julia",
   "version": "1.11.1"
  }
 },
 "nbformat": 4,
 "nbformat_minor": 2
}
