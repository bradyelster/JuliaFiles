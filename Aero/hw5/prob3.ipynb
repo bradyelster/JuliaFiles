{
 "cells": [
  {
   "cell_type": "code",
   "execution_count": 468,
   "metadata": {},
   "outputs": [],
   "source": [
    "using OrdinaryDiffEq\n",
    "using LaTeXStrings\n",
    "using Plots"
   ]
  },
  {
   "cell_type": "code",
   "execution_count": 469,
   "metadata": {},
   "outputs": [],
   "source": [
    "xspan = (1.0, 0.0)\n",
    "ϵ = 1e-3;"
   ]
  },
  {
   "cell_type": "code",
   "execution_count": 470,
   "metadata": {},
   "outputs": [
    {
     "data": {
      "text/plain": [
       "f (generic function with 1 method)"
      ]
     },
     "execution_count": 470,
     "metadata": {},
     "output_type": "execute_result"
    }
   ],
   "source": [
    "f(y, p, x) = ((1/2)*y+(1+x^2))/(x+ϵ*y)"
   ]
  },
  {
   "cell_type": "code",
   "execution_count": 471,
   "metadata": {},
   "outputs": [
    {
     "name": "stderr",
     "output_type": "stream",
     "text": [
      "\u001b[33m\u001b[1m┌ \u001b[22m\u001b[39m\u001b[33m\u001b[1mWarning: \u001b[22m\u001b[39mInterrupted. Larger maxiters is needed. If you are using an integrator for non-stiff ODEs or an automatic switching algorithm (the default), you may want to consider using a method for stiff equations. See the solver pages for more details (e.g. https://docs.sciml.ai/DiffEqDocs/stable/solvers/ode_solve/#Stiff-Problems).\n",
      "\u001b[33m\u001b[1m└ \u001b[22m\u001b[39m\u001b[90m@ SciMLBase ~/.julia/packages/SciMLBase/hJh6T/src/integrator_interface.jl:589\u001b[39m\n"
     ]
    }
   ],
   "source": [
    "y0 = 1.0\n",
    "prob = ODEProblem(f, y0, xspan)\n",
    "sol = solve(prob, Tsit5(), reltol = 1e-8, abstol = 1e-8);"
   ]
  },
  {
   "cell_type": "markdown",
   "metadata": {},
   "source": [
    "$y_0(x)=\\frac{7}{3} \\sqrt{x}+\\frac{2}{3} x^2-2$"
   ]
  },
  {
   "cell_type": "code",
   "execution_count": 472,
   "metadata": {},
   "outputs": [],
   "source": [
    "approx(s) = (2/3)*(s^2-3)+(7/3)*sqrt(s) + ϵ*( (8/3)*s + (16/3)*(1+s) - (184/45)*sqrt(s) - (35/9)*s^(3/2) - (16/45)*s^3 ) \n",
    "oneterm(s) = (2/3)*(s^2-3)+(7/3)*sqrt(s)\n",
    "xvals = LinRange(xspan[2], xspan[1], 1000);\n",
    "svals = xvals .+ 2*ϵ;\n",
    "\n",
    "rp(x) = (2/3)*x^2+ (7/3)*sqrt(x)-2+(ϵ/45)*(-175*x^(3/2)-16*x^3+240*x-189*sqrt(x)-(105/sqrt(x))+245);"
   ]
  },
  {
   "cell_type": "code",
   "execution_count": 477,
   "metadata": {},
   "outputs": [
    {
     "data": {
      "text/plain": [
       "\"/home/belster/JuliaFiles/Aero/hw5/Aero_HW5_Prob3_Pritulo.pdf\""
      ]
     },
     "execution_count": 477,
     "metadata": {},
     "output_type": "execute_result"
    }
   ],
   "source": [
    "theme(:dao::Symbol)\n",
    "\n",
    "#=\n",
    "plot(svals, approx.(svals),\n",
    "    label=\"PLK\",\n",
    "    line=(4, :solid),\n",
    "    )\n",
    "=#\n",
    "plot(xvals, rp.(xvals),\n",
    "    label=\"Pritulo\",\n",
    "    line=(3, :solid),\n",
    "    )\n",
    "plot!(sol, \n",
    "    idxs=[1],\n",
    "    line=(3, :dash),\n",
    "    label=\"Exact\",\n",
    "    title=L\"Pritulo Solution, $\\varepsilon = $\"*\"$ϵ\",\n",
    "    xlabel=L\"$x$\",\n",
    "    ylabel=L\"$y(x)$\",\n",
    "    legend=:topright,\n",
    "    titlefontsize=20,\n",
    "    tickfontsize=12,\n",
    "    legendfontsize=10,\n",
    "    yguidefontsize=15,\n",
    "    xguidefontsize=15,\n",
    "    xlims=(-0.01,1.0),)\n",
    "savefig(\"Aero_HW5_Prob3_Pritulo.pdf\")"
   ]
  },
  {
   "cell_type": "code",
   "execution_count": null,
   "metadata": {},
   "outputs": [],
   "source": []
  }
 ],
 "metadata": {
  "kernelspec": {
   "display_name": "Julia 1.11.1",
   "language": "julia",
   "name": "julia-1.11"
  },
  "language_info": {
   "file_extension": ".jl",
   "mimetype": "application/julia",
   "name": "julia",
   "version": "1.11.1"
  }
 },
 "nbformat": 4,
 "nbformat_minor": 2
}
