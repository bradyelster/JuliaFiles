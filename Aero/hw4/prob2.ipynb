{
 "cells": [
  {
   "cell_type": "code",
   "execution_count": 1,
   "metadata": {},
   "outputs": [],
   "source": [
    "using DifferentialEquations\n",
    "using LaTeXStrings\n",
    "using Plots"
   ]
  },
  {
   "cell_type": "code",
   "execution_count": 2,
   "metadata": {},
   "outputs": [],
   "source": [
    "tspan = (0.0, 20.0);\n",
    "ϵ = 0.1;\n",
    "a = 1.0;"
   ]
  },
  {
   "cell_type": "code",
   "execution_count": 3,
   "metadata": {},
   "outputs": [
    {
     "data": {
      "text/plain": [
       "prob2! (generic function with 1 method)"
      ]
     },
     "execution_count": 3,
     "metadata": {},
     "output_type": "execute_result"
    }
   ],
   "source": [
    "function prob2!(dv, v, p, t)\n",
    "    u = v[1]\n",
    "    du = v[2]\n",
    "    dv[1] = du\n",
    "    dv[2] = -u - ϵ*u^2\n",
    "end"
   ]
  },
  {
   "cell_type": "code",
   "execution_count": 4,
   "metadata": {},
   "outputs": [],
   "source": [
    "u0 = [a, 0]\n",
    "prob = ODEProblem(prob2!, u0, tspan)\n",
    "sol = solve(prob, Tsit5(), reltol = 1e-8, abstol = 1e-8);"
   ]
  },
  {
   "cell_type": "markdown",
   "metadata": {},
   "source": [
    "$$u(t)=a \\cos (\\omega t)-\\frac{\\varepsilon a^2}{2}+\\frac{\\varepsilon a^2}{6} \\cos (2 \\omega t)$$"
   ]
  },
  {
   "cell_type": "code",
   "execution_count": 7,
   "metadata": {},
   "outputs": [],
   "source": [
    "approx(t) = a*cos(t)-ϵ*(a^2/2)+ϵ*(a^2/6)*cos(2*t);\n",
    "tvals = LinRange(tspan[1], tspan[2], 1000);"
   ]
  },
  {
   "cell_type": "code",
   "execution_count": null,
   "metadata": {},
   "outputs": [
    {
     "data": {
      "text/plain": [
       "\"/home/belster/JuliaFiles/Aero/hw4/Aero_HW4_Prob2.pdf\""
      ]
     },
     "execution_count": 12,
     "metadata": {},
     "output_type": "execute_result"
    }
   ],
   "source": [
    "theme(:dao::Symbol)\n",
    "\n",
    "plot(tvals, approx.(tvals), \n",
    "    label=\"three-term approx.\", \n",
    "    line=(3, :solid),\n",
    "    )\n",
    "plot!(sol, \n",
    "    idxs=[1],\n",
    "    line=(3, :dash),\n",
    "    label=\"exact\",\n",
    "    title=L\"Lindstedt Solution $\\varepsilon = $\"*\"$ϵ, \"*\"a = \"*\"$a\",\n",
    "    xlabel=L\"$t$\",\n",
    "    ylabel=L\"$u(t)$\",\n",
    "    legend=:best,\n",
    "    titlefontsize=20,\n",
    "    tickfontsize=12,\n",
    "    legendfontsize=10,\n",
    "    yguidefontsize=15,\n",
    "    xguidefontsize=15,)\n",
    "# savefig(\"Aero_HW4_Prob2.pdf\")"
   ]
  },
  {
   "cell_type": "code",
   "execution_count": null,
   "metadata": {},
   "outputs": [],
   "source": []
  }
 ],
 "metadata": {
  "kernelspec": {
   "display_name": "Julia 1.10.4",
   "language": "julia",
   "name": "julia-1.10"
  },
  "language_info": {
   "file_extension": ".jl",
   "mimetype": "application/julia",
   "name": "julia",
   "version": "1.10.4"
  }
 },
 "nbformat": 4,
 "nbformat_minor": 2
}
