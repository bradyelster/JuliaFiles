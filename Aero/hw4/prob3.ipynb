{
 "cells": [
  {
   "cell_type": "code",
   "execution_count": 9,
   "metadata": {},
   "outputs": [],
   "source": [
    "using DifferentialEquations\n",
    "using LaTeXStrings\n",
    "using Plots"
   ]
  },
  {
   "cell_type": "code",
   "execution_count": 10,
   "metadata": {},
   "outputs": [
    {
     "data": {
      "text/plain": [
       "0.7853981633974483"
      ]
     },
     "execution_count": 10,
     "metadata": {},
     "output_type": "execute_result"
    }
   ],
   "source": [
    "tspan = (0.0, 20.0);\n",
    "ϵ = 0.1;\n",
    "a = 1.0;\n",
    "g = 9.81;\n",
    "L = 1.0;\n",
    "θ₀ = π/4"
   ]
  },
  {
   "cell_type": "code",
   "execution_count": 11,
   "metadata": {},
   "outputs": [
    {
     "data": {
      "text/plain": [
       "pendulum! (generic function with 1 method)"
      ]
     },
     "execution_count": 11,
     "metadata": {},
     "output_type": "execute_result"
    }
   ],
   "source": [
    "function pendulum!(dv, v, p, t)\n",
    "    θ = v[1]\n",
    "    dθ = v[2]\n",
    "    dv[1] = dθ\n",
    "    dv[2] = -g / (L) * sin(θ)\n",
    "end"
   ]
  },
  {
   "cell_type": "code",
   "execution_count": 12,
   "metadata": {},
   "outputs": [],
   "source": [
    "v0 = [θ₀, 0] # start pendulum at 45°\n",
    "prob = ODEProblem(pendulum!, v0, tspan)\n",
    "sol = solve(prob, Tsit5(), reltol = 1e-8, abstol = 1e-8);"
   ]
  },
  {
   "cell_type": "markdown",
   "metadata": {},
   "source": [
    "$$\\theta(t) \\approx \\theta_0 \\cos \\left(\\omega_0 t\\right)+\\frac{\\theta_0^3}{32}\\left(\\cos \\left(3 \\omega_0 t\\right)-3 \\cos \\left(\\omega_0 t\\right)\\right) .$$"
   ]
  },
  {
   "cell_type": "code",
   "execution_count": 13,
   "metadata": {},
   "outputs": [],
   "source": [
    "ω₀ = sqrt(g/L);\n",
    "approx(t) = θ₀*cos(ω₀*t)+(θ₀^3/32)*(cos(3*ω₀*t)-3*cos(ω₀*t));\n",
    "tvals = LinRange(tspan[1], tspan[2], 1000);"
   ]
  },
  {
   "cell_type": "code",
   "execution_count": null,
   "metadata": {},
   "outputs": [
    {
     "data": {
      "text/plain": [
       "\"/home/belster/JuliaFiles/Aero/hw4/Aero_HW4_Prob3.pdf\""
      ]
     },
     "execution_count": 16,
     "metadata": {},
     "output_type": "execute_result"
    }
   ],
   "source": [
    "theme(:dao::Symbol)\n",
    "\n",
    "plot(tvals, approx.(tvals), \n",
    "    label=\"three-term approx.\", \n",
    "    line=(3, :solid),\n",
    "    )\n",
    "plot!(sol, \n",
    "    idxs=[1],\n",
    "    line=(3, :dash),\n",
    "    label=\"exact\",\n",
    "    title=L\"Secular Solution $\\varepsilon = $\"*\"$ϵ, \"*\"L = \"*\"$L\",\n",
    "    xlabel=L\"$t$\",\n",
    "    ylabel=L\"$\\theta(t)$\",\n",
    "    legend=:best,\n",
    "    titlefontsize=20,\n",
    "    tickfontsize=12,\n",
    "    legendfontsize=10,\n",
    "    yguidefontsize=15,\n",
    "    xguidefontsize=15,)\n",
    "# savefig(\"Aero_HW4_Prob3.pdf\")"
   ]
  },
  {
   "cell_type": "code",
   "execution_count": null,
   "metadata": {},
   "outputs": [],
   "source": []
  }
 ],
 "metadata": {
  "kernelspec": {
   "display_name": "Julia 1.10.4",
   "language": "julia",
   "name": "julia-1.10"
  },
  "language_info": {
   "file_extension": ".jl",
   "mimetype": "application/julia",
   "name": "julia",
   "version": "1.10.4"
  }
 },
 "nbformat": 4,
 "nbformat_minor": 2
}
