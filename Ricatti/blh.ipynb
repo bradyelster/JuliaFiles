{
 "cells": [
  {
   "cell_type": "code",
   "execution_count": 2,
   "id": "2bce9a6c",
   "metadata": {},
   "outputs": [],
   "source": [
    "using Plots, DifferentialEquations, LaTeXStrings, Printf, SpecialFunctions"
   ]
  },
  {
   "cell_type": "code",
   "execution_count": null,
   "id": "c3fa7563",
   "metadata": {},
   "outputs": [],
   "source": []
  }
 ],
 "metadata": {
  "kernelspec": {
   "display_name": "Julia 1.11.5",
   "language": "julia",
   "name": "julia-1.11"
  },
  "language_info": {
   "file_extension": ".jl",
   "mimetype": "application/julia",
   "name": "julia",
   "version": "1.11.5"
  }
 },
 "nbformat": 4,
 "nbformat_minor": 5
}
