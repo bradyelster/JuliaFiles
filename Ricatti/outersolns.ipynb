{
 "cells": [
  {
   "cell_type": "code",
   "execution_count": 8,
   "id": "b09abcb8",
   "metadata": {},
   "outputs": [],
   "source": [
    "using DifferentialEquations\n",
    "using Plots\n",
    "using LaTeXStrings"
   ]
  },
  {
   "cell_type": "code",
   "execution_count": null,
   "id": "6918108e",
   "metadata": {},
   "outputs": [
    {
     "data": {
      "text/plain": [
       "\"/home/belster12/JuliaFiles/Ricatti/outersoln.png\""
      ]
     },
     "execution_count": 56,
     "metadata": {},
     "output_type": "execute_result"
    }
   ],
   "source": [
    "k1 = 0.5  # Example value for k\n",
    "γ = 0.01059 # from McTaggart (this is γ for S = 1000, k = 0.5, domain size d = 5)\n",
    "Mach = 0.05\n",
    "k2 = 0.4\n",
    "\n",
    "# Analytical solutions\n",
    "ψ_analytic(k, x) = exp(-k * abs(x)) * (1 + tanh(abs(x)) / k)\n",
    "ϕ_analytic(k, x) = (γ / (k * tanh(x))) * ψ_analytic(k, x)\n",
    "sideband(k, x) = (Mach / 2) * (k / tanh((x))) * (exp(-k * abs(x)) * (2 / (1 + cosh(2 * abs(x)))) - k * (k + tanh(abs(x)))) / k\n",
    "x = range(-7, 7, length=500)\n",
    "\n",
    "# Plot comparison\n",
    "theme(:dao)\n",
    "\n",
    "plot(x,\n",
    "    ϕ_analytic.(k1, x),\n",
    "    linestyle=:solid,\n",
    "    linewidth=3.5,\n",
    "    label=L\"$\\phi_{m}$\",\n",
    ")\n",
    "\n",
    "plot!(x,\n",
    "    ψ_analytic.(k1, x),\n",
    "    label=L\"$\\psi_{m}$\",\n",
    "    linestyle=:solid,\n",
    "    linewidth=3.5,\n",
    "    xlims=(-4, 4),\n",
    "    xlabel=L\"x\",\n",
    "    # ylabel=\"Outer Solution\",\n",
    "    legend=:best,\n",
    "    titlefontsize=25,\n",
    "    tickfontsize=15,\n",
    "    legendfontsize=15,\n",
    "    yguidefontsize=20,\n",
    "    xguidefontsize=20,\n",
    "    dpi=300,\n",
    ")\n",
    "\n",
    "# savefig(\"outersoln.png\")"
   ]
  },
  {
   "cell_type": "code",
   "execution_count": null,
   "id": "5e86707b",
   "metadata": {},
   "outputs": [],
   "source": []
  }
 ],
 "metadata": {
  "kernelspec": {
   "display_name": "Julia 11.5 1.11.5",
   "language": "julia",
   "name": "julia-11.5-1.11"
  },
  "language_info": {
   "file_extension": ".jl",
   "mimetype": "application/julia",
   "name": "julia",
   "version": "1.11.5"
  }
 },
 "nbformat": 4,
 "nbformat_minor": 5
}
