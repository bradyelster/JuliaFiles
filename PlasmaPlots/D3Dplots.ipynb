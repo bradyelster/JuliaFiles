{
 "cells": [
  {
   "cell_type": "code",
   "execution_count": 1,
   "metadata": {},
   "outputs": [],
   "source": [
    "using Plots, Printf, LaTeXStrings, DelimitedFiles, LinearAlgebra, CSV, DataFrames"
   ]
  },
  {
   "cell_type": "code",
   "execution_count": 2,
   "metadata": {},
   "outputs": [
    {
     "data": {
      "text/plain": [
       "Plots.GRBackend()"
      ]
     },
     "execution_count": 2,
     "metadata": {},
     "output_type": "execute_result"
    }
   ],
   "source": [
    "gr()"
   ]
  },
  {
   "cell_type": "code",
   "execution_count": null,
   "metadata": {},
   "outputs": [],
   "source": [
    "# Load data\n",
    "data2 = readdlm(\"vpsi_2_d3d.plt\", skipstart=3)\n",
    "theta2 = data2[:, 1]\n",
    "r2 = data2[:, 2]\n",
    "R2 = data2[:, 3]\n",
    "Z2 = data2[:, 4]\n",
    "vnorm2 = data2[:, 8];\n",
    "vp2 = data2[:, 7];\n",
    "\n",
    "data32 = readdlm(\"vpsi_3_ov_2_d3d.plt\", skipstart=3)\n",
    "theta32 = data32[:, 1]\n",
    "r32 = data32[:, 2]\n",
    "R32 = data32[:, 3]\n",
    "Z32 = data32[:, 4]\n",
    "vnorm32 = data32[:, 8];\n",
    "vp32 = data32[:, 7];\n",
    "\n",
    "# Load Big Psi data\n",
    "\n",
    "# Read CSV file\n",
    "bigpsi = CSV.read(\"DIII-D_big_Psi.csv\", DataFrame)  # Creates a DataFrame\n",
    "\n",
    "# Extract first 3 columns into variables\n",
    "Rbp = bigpsi[:, 1]  # First column\n",
    "Zbp = bigpsi[:, 2]  # Second column\n",
    "Ψ = bigpsi[:, 3];  # Third column"
   ]
  },
  {
   "cell_type": "code",
   "execution_count": null,
   "metadata": {},
   "outputs": [
    {
     "data": {
      "text/plain": [
       "\"/home/belster/JuliaFiles/PlasmaPlots/D3D_2surf.png\""
      ]
     },
     "execution_count": 4,
     "metadata": {},
     "output_type": "execute_result"
    }
   ],
   "source": [
    "# Create the plot\n",
    "theme(:default)\n",
    "\n",
    "# Optional: Add machine cross-section\n",
    "scatter(Rbp, Zbp, \n",
    "    markersize=0.5, \n",
    "    markeralpha=0.1,\n",
    "    markercolor=:lightgray,\n",
    "    label=\"Flux Surfaces\"\n",
    ")\n",
    "\n",
    "scatter!(R32, Z32, \n",
    "    zcolor = vnorm32,          # Color by velocity\n",
    "    markersize = 3,          # Point size\n",
    "    markerstrokewidth = 0,   # No border\n",
    "    color = :balance\n",
    "    )\n",
    "\n",
    "scatter!(R2, Z2, \n",
    "    zcolor = vnorm2,          # Color by velocity\n",
    "    markersize = 3,          # Point size\n",
    "    markerstrokewidth = 0,   # No border\n",
    "    colorbar_title = L\"$v_{\\psi} \\ [m/s]$\",    # Colorbar label\n",
    "    color = :balance,        # Colormap\n",
    "    aspect_ratio = :equal,   # Maintain proportions\n",
    "    xlabel = L\"$R \\ [m]$\",\n",
    "    ylabel = L\"$Z \\ [m]$\",\n",
    "    # title = L\"Velocity ($v_{\\psi}$) on Flux Surface\",\n",
    "    titlefontsize=15,\n",
    "    tickfontsize=10,\n",
    "    legendfontsize=8,\n",
    "    yguidefontsize=15,\n",
    "    xguidefontsize=15,\n",
    "    colorbar_titlefontsize=15,\n",
    "    xlims=(minimum(Rbp)-0.05, maximum(Rbp)+0.05),\n",
    "    # grid = true,\n",
    "    legend = :false,\n",
    "    size = (600, 500), # Adjust figure dimensions\n",
    "    left_margin = 5Plots.mm,  # Reduce left margin\n",
    "    right_margin = 5Plots.mm, # Reduce right margin\n",
    "    bottom_margin = 5Plots.mm, # Reduce bottom margin\n",
    "    top_margin = 5Plots.mm, # Reduce top margin, \n",
    "    colorbar_title_location = :right,  # Moves label to the right\n",
    "    colorbar_title_padding = 10,  # Fine-tune label position\n",
    "    dpi = 300\n",
    "    )\n",
    "# savefig(\"D3D_2surf.png\")"
   ]
  },
  {
   "cell_type": "code",
   "execution_count": null,
   "metadata": {},
   "outputs": [
    {
     "data": {
      "text/plain": [
       "\"/home/belster/JuliaFiles/PlasmaPlots/D3D_vnorm.png\""
      ]
     },
     "execution_count": 27,
     "metadata": {},
     "output_type": "execute_result"
    }
   ],
   "source": [
    "theme(:dao)\n",
    "plot(theta2*(180/pi), vnorm2, lw=4, label=L\"$q=2/1$\")\n",
    "plot!(theta32*(180/pi), vnorm32, lw=4, label=L\"$q=3/2$\",\n",
    "    xlabel=L\"$\\theta$ [deg]\",\n",
    "    ylabel=L\"$v_{\\psi}$ [m/s]\",\n",
    "    xlims=(0,360),\n",
    "    legend=:best,\n",
    "    titlefontsize=20,\n",
    "    tickfontsize=12,\n",
    "    legendfontsize=15,\n",
    "    yguidefontsize=15,\n",
    "    xguidefontsize=15,\n",
    "    left_margin=2.5*Plots.mm\n",
    "    )\n",
    "# savefig(\"D3D_vnorm.png\")"
   ]
  },
  {
   "cell_type": "code",
   "execution_count": 29,
   "metadata": {},
   "outputs": [
    {
     "data": {
      "text/plain": [
       "\"/home/belster/JuliaFiles/PlasmaPlots/D3D_vp_v1.png\""
      ]
     },
     "execution_count": 29,
     "metadata": {},
     "output_type": "execute_result"
    }
   ],
   "source": [
    "plot(R2, vp2, lw=2, label=L\"$q=2/1$\")\n",
    "plot!(R32, vp32, lw=2, label=L\"$q=3/2$\",\n",
    "    xlabel=L\"$R$ [m]\",\n",
    "    ylabel=L\"$v_{\\theta}$ [m/s]\",\n",
    "    # xlims=(0,360),\n",
    "    legend=:best,\n",
    "    titlefontsize=20,\n",
    "    tickfontsize=12,\n",
    "    legendfontsize=15,\n",
    "    yguidefontsize=15,\n",
    "    xguidefontsize=15,\n",
    "    left_margin=2.5*Plots.mm, \n",
    "    dpi = 300\n",
    "    )\n",
    "savefig(\"D3D_vp_v1.png\")"
   ]
  },
  {
   "cell_type": "code",
   "execution_count": null,
   "metadata": {},
   "outputs": [],
   "source": []
  }
 ],
 "metadata": {
  "kernelspec": {
   "display_name": "Julia 1.11.1",
   "language": "julia",
   "name": "julia-1.11"
  },
  "language_info": {
   "file_extension": ".jl",
   "mimetype": "application/julia",
   "name": "julia",
   "version": "1.11.1"
  }
 },
 "nbformat": 4,
 "nbformat_minor": 2
}
