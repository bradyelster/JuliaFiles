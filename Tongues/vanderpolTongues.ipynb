{
 "cells": [
  {
   "cell_type": "code",
   "execution_count": 1,
   "id": "0c96c422",
   "metadata": {},
   "outputs": [],
   "source": [
    "# ArnoldTongues_vdP.jl\n",
    "using DifferentialEquations\n",
    "using LinearAlgebra\n",
    "using Statistics\n",
    "using Random\n",
    "using CairoMakie           # high-quality plotting\n",
    "using Base.Threads\n",
    "using BenchmarkTools"
   ]
  },
  {
   "cell_type": "code",
   "execution_count": 2,
   "id": "87d8a4d4",
   "metadata": {},
   "outputs": [
    {
     "data": {
      "text/plain": [
       "vdp! (generic function with 1 method)"
      ]
     },
     "execution_count": 2,
     "metadata": {},
     "output_type": "execute_result"
    }
   ],
   "source": [
    "# Van der Pol forced: x'' - μ(1 - x^2) x' + x = A*cos(ω t)\n",
    "function vdp!(du,u,p,t)\n",
    "    μ, A, ω = p\n",
    "    x = @inbounds u[1]\n",
    "    y = @inbounds u[2]\n",
    "    @inbounds du[1] = y\n",
    "    @inbounds du[2] = μ*(1 - x^2)*y - x + A * cos(ω * t)\n",
    "    return nothing\n",
    "end"
   ]
  },
  {
   "cell_type": "code",
   "execution_count": 3,
   "id": "1317df0d",
   "metadata": {},
   "outputs": [
    {
     "data": {
      "text/plain": [
       "stroboscopic_samples (generic function with 1 method)"
      ]
     },
     "execution_count": 3,
     "metadata": {},
     "output_type": "execute_result"
    }
   ],
   "source": [
    "# compute stroboscopic samples: returns matrix samples (2 x Nsample)\n",
    "function stroboscopic_samples(μ, A, ω; \n",
    "        u0 = [0.1, 0.0],\n",
    "        n_transient = 200,\n",
    "        n_sample = 200,\n",
    "        reltol = 1e-8,\n",
    "        abstol = 1e-10)\n",
    "\n",
    "    T = 2π/ω\n",
    "    tspan = (0.0, T * (n_transient + n_sample))\n",
    "\n",
    "    p = (μ, A, ω)\n",
    "    prob = ODEProblem(vdp!, u0, tspan, p)\n",
    "    # save only at multiples of T after the transient\n",
    "    save_times = T .* (n_transient+1 : n_transient + n_sample)\n",
    "    sol = solve(prob, Tsit5(),\n",
    "                saveat = save_times,\n",
    "                reltol = reltol, abstol = abstol)\n",
    "\n",
    "    # sol.u is vector of SVector or Vector{Float64}; convert to matrix 2 x n_sample\n",
    "    X = reduce(hcat, sol.u)  # 2 x n_sample\n",
    "    return X, T * n_sample\n",
    "end"
   ]
  },
  {
   "cell_type": "code",
   "execution_count": 4,
   "id": "f43c04f7",
   "metadata": {},
   "outputs": [
    {
     "data": {
      "text/plain": [
       "estimate_frequency_from_samples (generic function with 1 method)"
      ]
     },
     "execution_count": 4,
     "metadata": {},
     "output_type": "execute_result"
    }
   ],
   "source": [
    "# estimate oscillator frequency from samples via unwrapped phase\n",
    "function estimate_frequency_from_samples(X, total_time)\n",
    "    # X: 2 x N matrix: rows [x; y]\n",
    "    xs = X[1, :]\n",
    "    ys = X[2, :]\n",
    "    phases = atan.(ys, xs)                      # wrapped in (-π, π]\n",
    "    # unwrap\n",
    "    unwrapped = copy(phases)\n",
    "    for i in 2:length(phases)\n",
    "        d = unwrapped[i] - unwrapped[i-1]\n",
    "        if d > π\n",
    "            unwrapped[i:end] .-= 2π\n",
    "        elseif d < -π\n",
    "            unwrapped[i:end] .+= 2π\n",
    "        end\n",
    "    end\n",
    "    # linear fit to phase vs time to get mean angular frequency\n",
    "    Δphase = unwrapped[end] - unwrapped[1]\n",
    "    ω_osc = Δphase / total_time   # rad/sec\n",
    "    f_osc = ω_osc / (2π)\n",
    "    return f_osc\n",
    "end"
   ]
  },
  {
   "cell_type": "code",
   "execution_count": 5,
   "id": "e952ddba",
   "metadata": {},
   "outputs": [
    {
     "data": {
      "text/plain": [
       "detect_lock_ratio (generic function with 1 method)"
      ]
     },
     "execution_count": 5,
     "metadata": {},
     "output_type": "execute_result"
    }
   ],
   "source": [
    "# find best rational p/q approximation with q <= qmax, tolerance tol (on ratio)\n",
    "function detect_lock_ratio(ratio::Float64; qmax=8, tol=5e-3)\n",
    "    # search denominators 1..qmax and numerators up to some range\n",
    "    best = nothing\n",
    "    for q in 1:qmax\n",
    "        p = round(Int, ratio * q)\n",
    "        if p <= 0\n",
    "            continue\n",
    "        end\n",
    "        if abs(ratio - p/q) <= tol\n",
    "            return (p, q)\n",
    "        end\n",
    "    end\n",
    "    return nothing\n",
    "end"
   ]
  },
  {
   "cell_type": "code",
   "execution_count": 6,
   "id": "936a3fe5",
   "metadata": {},
   "outputs": [
    {
     "data": {
      "text/plain": [
       "compute_arnold_tongues (generic function with 1 method)"
      ]
     },
     "execution_count": 6,
     "metadata": {},
     "output_type": "execute_result"
    }
   ],
   "source": [
    "# ---------------------------\n",
    "# Parameter sweep (parallel)\n",
    "# ---------------------------\n",
    "\n",
    "function compute_arnold_tongues(; \n",
    "        μ = 1.0,                # vdp mu\n",
    "        ωs = range(0.6, 1.6, length=241),     # drive frequency range (rad/s)\n",
    "        As = range(0.0, 1.0, length=201),     # drive amplitude\n",
    "        u0 = [0.1, 0.0],\n",
    "        n_transient = 200,\n",
    "        n_sample = 120,\n",
    "        qmax = 8,\n",
    "        tol = 5e-3)\n",
    "\n",
    "    nω = length(ωs)\n",
    "    nA = length(As)\n",
    "\n",
    "    # result arrays\n",
    "    pgrid = fill(0, nω, nA)\n",
    "    qgrid = fill(0, nω, nA)\n",
    "    ratiogrid = fill(NaN, nω, nA)\n",
    "\n",
    "    @threads for i in 1:nω\n",
    "        ω = ωs[i]\n",
    "        for j in 1:nA\n",
    "            A = As[j]\n",
    "            try\n",
    "                X, total_time = stroboscopic_samples(μ, A, ω; \n",
    "                                    u0 = u0, n_transient = n_transient, n_sample = n_sample)\n",
    "                f_osc = estimate_frequency_from_samples(X, total_time)\n",
    "                f_drive = ω / (2π)\n",
    "                r = f_osc / f_drive\n",
    "                # try to detect p:q\n",
    "                pq = detect_lock_ratio(r; qmax = qmax, tol = tol)\n",
    "                if pq !== nothing\n",
    "                    pgrid[i, j] = pq[1]\n",
    "                    qgrid[i, j] = pq[2]\n",
    "                    ratiogrid[i, j] = pq[1] / pq[2]\n",
    "                else\n",
    "                    # optionally store nearest rational (or NaN)\n",
    "                    ratiogrid[i, j] = r\n",
    "                end\n",
    "            catch e\n",
    "                @warn \"solver failed for i=$i j=$j ω=$ω A=$A: $e\"\n",
    "                pgrid[i, j] = 0\n",
    "                qgrid[i, j] = 0\n",
    "                ratiogrid[i, j] = NaN\n",
    "            end\n",
    "        end\n",
    "    end\n",
    "\n",
    "    return (ωs, As, pgrid, qgrid, ratiogrid)\n",
    "end"
   ]
  },
  {
   "cell_type": "code",
   "execution_count": 7,
   "id": "1d29daa0",
   "metadata": {},
   "outputs": [
    {
     "data": {
      "text/plain": [
       "plot_tongues (generic function with 1 method)"
      ]
     },
     "execution_count": 7,
     "metadata": {},
     "output_type": "execute_result"
    }
   ],
   "source": [
    "# ---------------------------\n",
    "# Plotting helper\n",
    "# ---------------------------\n",
    "\n",
    "function plot_tongues(ωs, As, pgrid, qgrid; title=\"Arnold tongues (van der Pol)\")\n",
    "    # Map (p,q) → integer label\n",
    "    labelgrid = zeros(Int, size(pgrid))\n",
    "    labelmap = Dict{Tuple{Int,Int}, Int}()\n",
    "    nextlabel = 1\n",
    "    for i in axes(pgrid,1), j in axes(pgrid,2)\n",
    "        p = pgrid[i,j]; q = qgrid[i,j]\n",
    "        if p != 0 && q != 0\n",
    "            key = (p,q)\n",
    "            if !haskey(labelmap, key)\n",
    "                labelmap[key] = nextlabel\n",
    "                nextlabel += 1\n",
    "            end\n",
    "            labelgrid[i,j] = labelmap[key]\n",
    "        else\n",
    "            labelgrid[i,j] = 0\n",
    "        end\n",
    "    end\n",
    "\n",
    "    fig = Figure(size = (900, 700))  # 'size' instead of 'resolution'\n",
    "    ax = Axis(fig[1,1], xlabel = \"drive frequency ω (rad/s)\",\n",
    "              ylabel = \"drive amplitude A\",\n",
    "              title = title)\n",
    "\n",
    "    hm = heatmap!(ax, ωs, As, labelgrid'; colormap = :viridis, interpolate = false)\n",
    "    Colorbar(fig[1,2], hm, label = \"p:q label\")\n",
    "    fig\n",
    "end\n"
   ]
  },
  {
   "cell_type": "code",
   "execution_count": 15,
   "id": "152907bd",
   "metadata": {},
   "outputs": [
    {
     "data": {
      "text/plain": [
       "(0.6:0.01:1.6, 0.0:0.01:1.0, [0 0 … 0 0; 0 0 … 0 0; … ; 2 2 … 0 0; 2 2 … 0 0], [0 0 … 0 0; 0 0 … 0 0; … ; 5 5 … 0 0; 5 5 … 0 0], [0.4198415937185148 0.41987667333354994 … -1.1643964747492538e-12 -1.418846680283251e-12; 0.44336803825435456 0.44322521389500796 … -1.7196299695344328e-12 -1.0335716025240262e-12; … ; 0.4 0.4 … 0.39115062687582675 0.3911178514059466; 0.4 0.4 … 0.3951488997203655 0.3948183042293008])"
      ]
     },
     "execution_count": 15,
     "metadata": {},
     "output_type": "execute_result"
    }
   ],
   "source": [
    "# ---------------------------\n",
    "# Example run\n",
    "# ---------------------------\n",
    "ωs, As, pgrid, qgrid, ratiogrid = compute_arnold_tongues(\n",
    "    μ = 1.0,\n",
    "    ωs = range(0.6, 1.6, length=101), \n",
    "    As = range(0.0, 1.0, length=101),\n",
    "    n_transient = 100,\n",
    "    n_sample = 50,\n",
    "    qmax = 7,\n",
    "    tol = 4e-3\n",
    ")"
   ]
  },
  {
   "cell_type": "code",
   "execution_count": 16,
   "id": "d62bf4bc",
   "metadata": {},
   "outputs": [
    {
     "name": "stdout",
     "output_type": "stream",
     "text": [
      "Saved arnold_tongues_vdp.svg\n"
     ]
    }
   ],
   "source": [
    "fig = plot_tongues(ωs, As, pgrid, qgrid; title=\"Arnold tongues — forced van der Pol (μ=1)\")\n",
    "save(\"arnold_tongues_vdp.svg\", fig)\n",
    "println(\"Saved arnold_tongues_vdp.svg\")"
   ]
  }
 ],
 "metadata": {
  "kernelspec": {
   "display_name": "Julia 1.11.1",
   "language": "julia",
   "name": "julia-1.11"
  },
  "language_info": {
   "file_extension": ".jl",
   "mimetype": "application/julia",
   "name": "julia",
   "version": "1.11.1"
  }
 },
 "nbformat": 4,
 "nbformat_minor": 5
}
