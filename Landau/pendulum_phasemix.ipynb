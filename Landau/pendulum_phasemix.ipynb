{
 "cells": [
  {
   "cell_type": "code",
   "execution_count": 98,
   "id": "ba264f02",
   "metadata": {},
   "outputs": [],
   "source": [
    "using DifferentialEquations\n",
    "using Plots\n",
    "using Printf\n",
    "using LaTeXStrings"
   ]
  },
  {
   "cell_type": "code",
   "execution_count": 99,
   "id": "a9456998",
   "metadata": {},
   "outputs": [
    {
     "data": {
      "text/plain": [
       "pendulum! (generic function with 1 method)"
      ]
     },
     "execution_count": 99,
     "metadata": {},
     "output_type": "execute_result"
    }
   ],
   "source": [
    "# Define the simple pendulum ODE\n",
    "function pendulum!(du, u, p, t)\n",
    "    θ, ω = u\n",
    "    du[1] = ω               # dθ/dt = ω\n",
    "    du[2] = -sin(θ)         # dω/dt = -sin(θ)\n",
    "end"
   ]
  },
  {
   "cell_type": "code",
   "execution_count": 100,
   "id": "d07be540",
   "metadata": {},
   "outputs": [],
   "source": [
    "# Parameters\n",
    "n_pendula = 5000            # Number of pendula\n",
    "tspan = (0.0, 100.0)        # Time span\n",
    "fps = 30                   # Frames per second for animation\n",
    "total_frames = 300;         # Total frames in animation"
   ]
  },
  {
   "cell_type": "code",
   "execution_count": 101,
   "id": "345c10f1",
   "metadata": {},
   "outputs": [],
   "source": [
    "# Create initial conditions that thoroughly sample phase space\n",
    "θ0 = range(-π, π, length=ceil(Int, sqrt(n_pendula)))\n",
    "ω0 = range(-2.0, 2.0, length=ceil(Int, sqrt(n_pendula)))\n",
    "\n",
    "# Create all possible combinations and flatten\n",
    "all_conditions = vec([[θ, ω] for θ in θ0, ω in ω0])\n",
    "\n",
    "# Alternate between beginning and end to mix positive/negative ω points\n",
    "n_total = length(all_conditions)\n",
    "n_use = min(n_total, n_pendula)\n",
    "indices = Int[]\n",
    "i, j = 1, n_total\n",
    "\n",
    "while length(indices) < n_use\n",
    "    if i <= j\n",
    "        push!(indices, i)\n",
    "        i += 1\n",
    "    end\n",
    "    if length(indices) < n_use && j >= i\n",
    "        push!(indices, j)\n",
    "        j -= 1\n",
    "    end\n",
    "end\n",
    "\n",
    "initial_conditions = all_conditions[indices][1:n_pendula];"
   ]
  },
  {
   "cell_type": "code",
   "execution_count": 102,
   "id": "9fba947b",
   "metadata": {},
   "outputs": [
    {
     "name": "stdout",
     "output_type": "stream",
     "text": [
      "Solving ODEs...\n"
     ]
    }
   ],
   "source": [
    "# Set up the ODE problems\n",
    "problems = [ODEProblem(pendulum!, ic, tspan) for ic in initial_conditions]\n",
    "\n",
    "# Solve all ODEs with progress bar\n",
    "println(\"Solving ODEs...\")\n",
    "solutions = [solve(prob, Tsit5(), saveat=range(tspan[1], tspan[2], length=total_frames)) for prob in problems];"
   ]
  },
  {
   "cell_type": "code",
   "execution_count": 103,
   "id": "95d6c680",
   "metadata": {},
   "outputs": [
    {
     "data": {
      "text/plain": [
       "meshgrid (generic function with 1 method)"
      ]
     },
     "execution_count": 103,
     "metadata": {},
     "output_type": "execute_result"
    }
   ],
   "source": [
    "# Helper function for meshgrid (similar to MATLAB's meshgrid)\n",
    "function meshgrid(x, y)\n",
    "    X = [i for i in x, j in y]\n",
    "    Y = [j for i in x, j in y]\n",
    "    return X, Y\n",
    "end"
   ]
  },
  {
   "cell_type": "code",
   "execution_count": 104,
   "id": "207fad95",
   "metadata": {},
   "outputs": [
    {
     "name": "stdout",
     "output_type": "stream",
     "text": [
      "Creating animation...\n"
     ]
    },
    {
     "data": {
      "text/plain": [
       "Animation(\"/tmp/jl_pJJRgY\", [\"000001.png\", \"000002.png\", \"000003.png\", \"000004.png\", \"000005.png\", \"000006.png\", \"000007.png\", \"000008.png\", \"000009.png\", \"000010.png\"  …  \"000291.png\", \"000292.png\", \"000293.png\", \"000294.png\", \"000295.png\", \"000296.png\", \"000297.png\", \"000298.png\", \"000299.png\", \"000300.png\"])"
      ]
     },
     "execution_count": 104,
     "metadata": {},
     "output_type": "execute_result"
    }
   ],
   "source": [
    "# Prepare the animation\n",
    "println(\"Creating animation...\")\n",
    "Plots.theme(:dao)\n",
    "\n",
    "# Create a color gradient based on initial ω values\n",
    "initial_ω = [ic[2] for ic in initial_conditions]\n",
    "colors = cgrad(:viridis)  # Choose any colormap you like (:viridis, :plasma, :inferno, etc.)\n",
    "\n",
    "# Normalize initial ω values to [0,1] for colormap\n",
    "ω_min, ω_max = extrema(initial_ω)\n",
    "ω_norm = @. (initial_ω - ω_min) / (ω_max - ω_min)\n",
    "\n",
    "# Assign colors based on initial ω\n",
    "# point_colors = [colors[ω_norm[i]] for i in 1:n_pendula]\n",
    "\n",
    "# Alternative: Binary coloring (positive/negative initial ω)\n",
    "point_colors = [ω > 0 ? :blue : :red for ω in initial_ω]\n",
    "\n",
    "anim = @animate for i in 1:total_frames\n",
    "    t = (i - 1) / (total_frames - 1) * tspan[2]\n",
    "\n",
    "    # Extract current state of all pendula at this frame\n",
    "    θs = [sol[1, i] for sol in solutions]\n",
    "    ωs = [sol[2, i] for sol in solutions]\n",
    "\n",
    "    # Wrap θ to [-π, π] for plotting\n",
    "    θs_wrapped = mod.(θs .+ π, 2π) .- π\n",
    "\n",
    "    # Create phase space plot\n",
    "    p = scatter(θs_wrapped, ωs,\n",
    "        xlims=(-π, π), ylims=(-2.5, 2.5),\n",
    "        xlabel=\"θ\", ylabel=L\"\\dot{\\theta}\",\n",
    "        title=\"Pendula Phase Space Mixing (t =$(@sprintf(\"%0.2f\", t)))\",\n",
    "        legend=false, \n",
    "        markersize=6,\n",
    "        alpha=0.7,\n",
    "        markercolor=point_colors,  # Use our color assignments\n",
    "        size=(800, 600),\n",
    "        titlefontsize=20,\n",
    "        tickfontsize=12,\n",
    "        legendfontsize=10,\n",
    "        yguidefontsize=15,\n",
    "        xguidefontsize=15)\n",
    "\n",
    "    # Add multiple energy contours\n",
    "    θ_range = range(-π, π, length=500)\n",
    "    for E in [0.25, 0.5, 1.0, 1.5, 2.0, 2.5]\n",
    "        ω_pos = @. sqrt(max(0, 2*(E + cos(θ_range))))\n",
    "        ω_neg = @. -sqrt(max(0, 2*(E + cos(θ_range))))\n",
    "        valid = 2*(E .+ cos.(θ_range)) .≥ 0\n",
    "        plot!(θ_range[valid], ω_pos[valid], \n",
    "              color=:black, linestyle=:dash, linewidth=2, label=\"\")\n",
    "        plot!(θ_range[valid], ω_neg[valid], \n",
    "              color=:black, linestyle=:dash, linewidth=2, label=\"\")\n",
    "    end\n",
    "\n",
    "    # Highlight the main separatrix\n",
    "    main_sep_ω = 2 .* cos.(θ_range ./ 2)\n",
    "    plot!(θ_range, main_sep_ω, color=:black, linewidth=2, label=\"Main Separatrix\")\n",
    "    plot!(θ_range, -main_sep_ω, color=:black, linewidth=2, label=\"\")\n",
    "    \n",
    "    p\n",
    "end"
   ]
  },
  {
   "cell_type": "code",
   "execution_count": 105,
   "id": "e660fdf6",
   "metadata": {},
   "outputs": [
    {
     "name": "stdout",
     "output_type": "stream",
     "text": [
      "Animation saved to pendulum_phase_mixing.mp4\n"
     ]
    },
    {
     "name": "stderr",
     "output_type": "stream",
     "text": [
      "\u001b[36m\u001b[1m[ \u001b[22m\u001b[39m\u001b[36m\u001b[1mInfo: \u001b[22m\u001b[39mSaved animation to /home/belster/JuliaFiles/Landau/pendulum_phase_mixing.mp4\n"
     ]
    }
   ],
   "source": [
    "# Save the animation\n",
    "mp4(anim, \"pendulum_phase_mixing.mp4\", fps=fps)\n",
    "println(\"Animation saved to pendulum_phase_mixing.mp4\")"
   ]
  }
 ],
 "metadata": {
  "kernelspec": {
   "display_name": "Julia 1.11.1",
   "language": "julia",
   "name": "julia-1.11"
  },
  "language_info": {
   "file_extension": ".jl",
   "mimetype": "application/julia",
   "name": "julia",
   "version": "1.11.1"
  }
 },
 "nbformat": 4,
 "nbformat_minor": 5
}
