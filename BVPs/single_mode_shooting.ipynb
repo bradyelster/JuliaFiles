{
 "cells": [
  {
   "cell_type": "code",
   "execution_count": 2,
   "metadata": {},
   "outputs": [],
   "source": [
    "using DifferentialEquations\n",
    "using LinearAlgebra\n",
    "using LinearSolve\n",
    "using LaTeXStrings\n",
    "using Plots;"
   ]
  },
  {
   "cell_type": "markdown",
   "metadata": {},
   "source": [
    "If I can formulate the problem like: \n",
    "$$\\mathbf{A} \\mathbf{y}=\\gamma \\mathbf{B} \\mathbf{y}$$\n",
    "after discretizing the derivatives w.r.t. $x$, then I can use the Julia code\n",
    "eigvals, eigvecs = eigen(A, B) to solve the generalized eigenvalue problem. And I can use KrylovKit, Arpack, LinearAlgebra, and possibly others."
   ]
  },
  {
   "cell_type": "markdown",
   "metadata": {},
   "source": []
  }
 ],
 "metadata": {
  "kernelspec": {
   "display_name": "Julia 1.11.1",
   "language": "julia",
   "name": "julia-1.11"
  },
  "language_info": {
   "file_extension": ".jl",
   "mimetype": "application/julia",
   "name": "julia",
   "version": "1.11.1"
  }
 },
 "nbformat": 4,
 "nbformat_minor": 2
}
