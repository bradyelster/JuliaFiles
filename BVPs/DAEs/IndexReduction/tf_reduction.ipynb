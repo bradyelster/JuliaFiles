{
 "cells": [
  {
   "cell_type": "code",
   "execution_count": 45,
   "id": "fe37c710",
   "metadata": {},
   "outputs": [],
   "source": [
    "using ModelingToolkit, OrdinaryDiffEq\n",
    "using BoundaryValueDiffEq, LinearAlgebra, Plots\n",
    "using ModelingToolkit: t_nounits as t, D_nounits as D"
   ]
  },
  {
   "cell_type": "code",
   "execution_count": null,
   "id": "afec3705",
   "metadata": {},
   "outputs": [
    {
     "data": {
      "text/latex": [
       "$$ \\begin{align}\n",
       "\\frac{\\mathrm{d} \\mathtt{{\\psi}p}\\left( t \\right)}{\\mathrm{d}t} &= \\mathtt{{\\psi}pˍt}\\left( t \\right) \\\\\n",
       "\\frac{\\mathrm{d} \\mathtt{{\\varphi}p}\\left( t \\right)}{\\mathrm{d}t} &= \\mathtt{{\\varphi}pˍt}\\left( t \\right) \\\\\n",
       "\\frac{\\mathrm{d} \\psi\\left( t \\right)}{\\mathrm{d}t} &= \\mathtt{{\\psi}ˍt}\\left( t \\right) \\\\\n",
       "\\frac{\\mathrm{d} \\mathtt{{\\psi}pˍt}\\left( t \\right)}{\\mathrm{d}t} &= S \\left( \\frac{\\mathtt{Kp2} \\mathtt{{\\psi}p}\\left( t \\right)}{S} + \\frac{1}{2} M \\mathtt{{\\psi}ˍt}\\left( t \\right) + \\mathtt{{\\psi}p}\\left( t \\right) \\gamma - \\mathtt{ky} \\left( 1 + \\left( 1 + m \\right) f\\left( t \\right) \\right) \\mathtt{{\\varphi}p}\\left( t \\right) \\right) \\\\\n",
       "\\frac{\\mathrm{d} \\mathtt{{\\psi}m}\\left( t \\right)}{\\mathrm{d}t} &= \\mathtt{{\\psi}mˍt}\\left( t \\right) \\\\\n",
       "\\frac{\\mathrm{d} \\mathtt{{\\psi}ˍt}\\left( t \\right)}{\\mathrm{d}t} &= S \\left( \\frac{\\mathtt{K2} \\psi\\left( t \\right)}{S} + \\frac{1}{2} M \\left( \\mathtt{{\\psi}pˍt}\\left( t \\right) + \\mathtt{{\\psi}mˍt}\\left( t \\right) \\right) + \\psi\\left( t \\right) \\gamma - k \\varphi\\left( t \\right) f\\left( t \\right) \\right) \\\\\n",
       "\\frac{\\mathrm{d} \\mathtt{{\\psi}mˍt}\\left( t \\right)}{\\mathrm{d}t} &= S \\left( \\frac{\\mathtt{Km2} \\mathtt{{\\psi}m}\\left( t \\right)}{S} + \\frac{1}{2} M \\mathtt{{\\psi}ˍt}\\left( t \\right) + \\mathtt{{\\psi}m}\\left( t \\right) \\gamma - \\mathtt{ky} \\left( -1 + \\left( -1 + m \\right) f\\left( t \\right) \\right) \\mathtt{{\\varphi}m}\\left( t \\right) \\right) \\\\\n",
       "\\frac{\\mathrm{d} \\mathtt{{\\varphi}m}\\left( t \\right)}{\\mathrm{d}t} &= \\mathtt{{\\varphi}mˍt}\\left( t \\right) \\\\\n",
       "\\frac{\\mathrm{d} \\varphi\\left( t \\right)}{\\mathrm{d}t} &= \\mathtt{{\\varphi}ˍt}\\left( t \\right) \\\\\n",
       "\\frac{\\mathrm{d} \\mathtt{{\\varphi}ˍt}\\left( t \\right)}{\\mathrm{d}t} &= \\mathtt{{\\varphi}ˍtt}\\left( t \\right) \\\\\n",
       "\\frac{\\mathrm{d} \\mathtt{{\\varphi}ˍtt}\\left( t \\right)}{\\mathrm{d}t} &= \\mathtt{{\\varphi}ˍttt}\\left( t \\right) \\\\\n",
       "\\frac{\\mathrm{d} \\mathtt{{\\varphi}pˍt}\\left( t \\right)}{\\mathrm{d}t} &= \\frac{ - \\mathtt{Kp2} \\mathtt{{\\varphi}p}\\left( t \\right) \\gamma + \\frac{1}{2} M \\left( \\mathtt{{\\varphi}ˍttt}\\left( t \\right) + \\left(  - \\mathtt{Kp2} + \\mathtt{{\\zeta}z}^{2} \\mathtt{ky}^{2} \\right) \\mathtt{{\\varphi}ˍt}\\left( t \\right) \\right) + \\left( \\frac{ - \\mathtt{fˍtt}\\left( t \\right) \\mathtt{{\\psi}p}\\left( t \\right)}{f\\left( t \\right)} - \\mathtt{Kp2} \\mathtt{{\\psi}p}\\left( t \\right) + S \\left( \\frac{\\mathtt{Kp2} \\mathtt{{\\psi}p}\\left( t \\right)}{S} + \\frac{1}{2} M \\mathtt{{\\psi}ˍt}\\left( t \\right) + \\mathtt{{\\psi}p}\\left( t \\right) \\gamma - \\mathtt{ky} \\left( 1 + \\left( 1 + m \\right) f\\left( t \\right) \\right) \\mathtt{{\\varphi}p}\\left( t \\right) \\right) \\right) \\mathtt{ky} \\left( 1 + \\left( 1 + m \\right) f\\left( t \\right) \\right)}{ - \\gamma} \\\\\n",
       "\\frac{\\mathrm{d} \\mathtt{{\\varphi}mˍt}\\left( t \\right)}{\\mathrm{d}t} &= \\frac{ - \\mathtt{Km2} \\mathtt{{\\varphi}m}\\left( t \\right) \\gamma + \\frac{1}{2} M \\left( \\mathtt{{\\varphi}ˍttt}\\left( t \\right) + \\left(  - \\mathtt{Km2} + \\mathtt{{\\zeta}z}^{2} \\mathtt{ky}^{2} \\right) \\mathtt{{\\varphi}ˍt}\\left( t \\right) \\right) + \\left( \\frac{ - \\mathtt{{\\psi}m}\\left( t \\right) \\mathtt{fˍtt}\\left( t \\right)}{f\\left( t \\right)} - \\mathtt{Km2} \\mathtt{{\\psi}m}\\left( t \\right) - S \\left( \\frac{ - \\mathtt{Km2} \\mathtt{{\\psi}m}\\left( t \\right)}{S} - \\frac{1}{2} M \\mathtt{{\\psi}ˍt}\\left( t \\right) - \\mathtt{{\\psi}m}\\left( t \\right) \\gamma + \\mathtt{ky} \\left( -1 + \\left( -1 + m \\right) f\\left( t \\right) \\right) \\mathtt{{\\varphi}m}\\left( t \\right) \\right) \\right) \\mathtt{ky} \\left( -1 + \\left( -1 + m \\right) f\\left( t \\right) \\right)}{ - \\gamma} \\\\\n",
       "\\frac{\\mathrm{d} \\mathtt{{\\varphi}ˍttt}\\left( t \\right)}{\\mathrm{d}t} &= \\frac{ - \\left(  - \\mathtt{{\\varphi}mˍttt}\\left( t \\right) + \\mathtt{Km2} \\mathtt{{\\varphi}mˍt}\\left( t \\right) \\right) \\gamma - \\left( \\frac{\\mathtt{fˍttt}\\left( t \\right) \\mathtt{{\\psi}m}\\left( t \\right) + \\mathtt{fˍtt}\\left( t \\right) \\mathtt{{\\psi}mˍt}\\left( t \\right)}{f\\left( t \\right)} + \\frac{ - \\mathtt{{\\psi}m}\\left( t \\right) \\mathtt{fˍtt}\\left( t \\right) \\mathtt{fˍt}\\left( t \\right)}{\\left( f\\left( t \\right) \\right)^{2}} - \\mathtt{{\\psi}mˍttt}\\left( t \\right) + \\mathtt{Km2} \\mathtt{{\\psi}mˍt}\\left( t \\right) \\right) \\mathtt{ky} \\left( -1 + \\left( -1 + m \\right) f\\left( t \\right) \\right) + \\frac{1}{2} M \\left(  - \\mathtt{Km2} + \\mathtt{{\\zeta}z}^{2} \\mathtt{ky}^{2} \\right) \\mathtt{{\\varphi}ˍtt}\\left( t \\right) + \\left( \\frac{\\mathtt{{\\psi}m}\\left( t \\right) \\mathtt{fˍtt}\\left( t \\right)}{f\\left( t \\right)} + \\mathtt{Km2} \\mathtt{{\\psi}m}\\left( t \\right) + S \\left( \\frac{ - \\mathtt{Km2} \\mathtt{{\\psi}m}\\left( t \\right)}{S} - \\frac{1}{2} M \\mathtt{{\\psi}ˍt}\\left( t \\right) - \\mathtt{{\\psi}m}\\left( t \\right) \\gamma + \\mathtt{ky} \\left( -1 + \\left( -1 + m \\right) f\\left( t \\right) \\right) \\mathtt{{\\varphi}m}\\left( t \\right) \\right) \\right) \\mathtt{ky} \\left( 1 - m \\right) \\mathtt{fˍt}\\left( t \\right)}{ - \\frac{1}{2} M} \\\\\n",
       "0 &= \\left(  - \\mathtt{{\\varphi}pˍttt}\\left( t \\right) + \\mathtt{Kp2} \\mathtt{{\\varphi}pˍt}\\left( t \\right) \\right) \\gamma + \\left( \\frac{ - \\mathtt{fˍtt}\\left( t \\right) \\mathtt{fˍt}\\left( t \\right) \\mathtt{{\\psi}p}\\left( t \\right)}{\\left( f\\left( t \\right) \\right)^{2}} - \\mathtt{{\\psi}pˍttt}\\left( t \\right) + \\frac{\\mathtt{fˍttt}\\left( t \\right) \\mathtt{{\\psi}p}\\left( t \\right) + \\mathtt{fˍtt}\\left( t \\right) \\mathtt{{\\psi}pˍt}\\left( t \\right)}{f\\left( t \\right)} + \\mathtt{Kp2} \\mathtt{{\\psi}pˍt}\\left( t \\right) \\right) \\mathtt{ky} \\left( 1 + \\left( 1 + m \\right) f\\left( t \\right) \\right) - \\frac{1}{2} M \\left( \\frac{ - \\left(  - \\mathtt{{\\varphi}mˍttt}\\left( t \\right) + \\mathtt{Km2} \\mathtt{{\\varphi}mˍt}\\left( t \\right) \\right) \\gamma - \\left( \\frac{\\mathtt{fˍttt}\\left( t \\right) \\mathtt{{\\psi}m}\\left( t \\right) + \\mathtt{fˍtt}\\left( t \\right) \\mathtt{{\\psi}mˍt}\\left( t \\right)}{f\\left( t \\right)} + \\frac{ - \\mathtt{{\\psi}m}\\left( t \\right) \\mathtt{fˍtt}\\left( t \\right) \\mathtt{fˍt}\\left( t \\right)}{\\left( f\\left( t \\right) \\right)^{2}} - \\mathtt{{\\psi}mˍttt}\\left( t \\right) + \\mathtt{Km2} \\mathtt{{\\psi}mˍt}\\left( t \\right) \\right) \\mathtt{ky} \\left( -1 + \\left( -1 + m \\right) f\\left( t \\right) \\right) + \\frac{1}{2} M \\left(  - \\mathtt{Km2} + \\mathtt{{\\zeta}z}^{2} \\mathtt{ky}^{2} \\right) \\mathtt{{\\varphi}ˍtt}\\left( t \\right) + \\left( \\frac{\\mathtt{{\\psi}m}\\left( t \\right) \\mathtt{fˍtt}\\left( t \\right)}{f\\left( t \\right)} + \\mathtt{Km2} \\mathtt{{\\psi}m}\\left( t \\right) + S \\left( \\frac{ - \\mathtt{Km2} \\mathtt{{\\psi}m}\\left( t \\right)}{S} - \\frac{1}{2} M \\mathtt{{\\psi}ˍt}\\left( t \\right) - \\mathtt{{\\psi}m}\\left( t \\right) \\gamma + \\mathtt{ky} \\left( -1 + \\left( -1 + m \\right) f\\left( t \\right) \\right) \\mathtt{{\\varphi}m}\\left( t \\right) \\right) \\right) \\mathtt{ky} \\left( 1 - m \\right) \\mathtt{fˍt}\\left( t \\right)}{ - \\frac{1}{2} M} + \\left(  - \\mathtt{Kp2} + \\mathtt{{\\zeta}z}^{2} \\mathtt{ky}^{2} \\right) \\mathtt{{\\varphi}ˍtt}\\left( t \\right) \\right) + \\left( \\frac{\\mathtt{fˍtt}\\left( t \\right) \\mathtt{{\\psi}p}\\left( t \\right)}{f\\left( t \\right)} + \\mathtt{Kp2} \\mathtt{{\\psi}p}\\left( t \\right) + S \\left( \\frac{ - \\mathtt{Kp2} \\mathtt{{\\psi}p}\\left( t \\right)}{S} - \\frac{1}{2} M \\mathtt{{\\psi}ˍt}\\left( t \\right) - \\mathtt{{\\psi}p}\\left( t \\right) \\gamma + \\mathtt{ky} \\left( 1 + \\left( 1 + m \\right) f\\left( t \\right) \\right) \\mathtt{{\\varphi}p}\\left( t \\right) \\right) \\right) \\mathtt{ky} \\left( 1 + m \\right) \\mathtt{fˍt}\\left( t \\right)\n",
       "\\end{align}\n",
       " $$"
      ],
      "text/plain": [
       "\u001b[0m\u001b[1mModel tfmodel:\u001b[22m\n",
       "\u001b[0m\u001b[1mEquations (15):\u001b[22m\n",
       "  15 standard: see equations(tfmodel)\n",
       "\u001b[0m\u001b[1mUnknowns (15):\u001b[22m see unknowns(tfmodel)\n",
       "  ψp(t)\n",
       "  φp(t)\n",
       "  ψ(t)\n",
       "  ψpˍt(t)\n",
       "  ψm(t)\n",
       "  ψˍt(t)\n",
       "\u001b[0m  ⋮\n",
       "\u001b[0m\u001b[1mParameters (17):\u001b[22m see parameters(tfmodel)\n",
       "  γ\n",
       "  m [defaults to 2]\n",
       "  n [defaults to 1]\n",
       "  R0 [defaults to 1]\n",
       "  ky [defaults to 0.25]\n",
       "  km [defaults to ky*(-1 + m)]\n",
       "\u001b[0m  ⋮\n",
       "\u001b[0m\u001b[1mObserved (7):\u001b[22m see observed(tfmodel)"
      ]
     },
     "execution_count": 29,
     "metadata": {},
     "output_type": "execute_result"
    }
   ],
   "source": [
    "@mtkmodel TWOFLUID begin\n",
    "    @parameters begin\n",
    "        # growth rate guess\n",
    "        γ = 0.01\n",
    "\n",
    "        # mode numbers of interest\n",
    "        m = 2\n",
    "        n = 1\n",
    "\n",
    "        # device parameters\n",
    "        R0 = 1\n",
    "\n",
    "        # poloidal wave numbers \n",
    "        ky = 0.25\n",
    "        km = (m - 1) * ky\n",
    "        k = (m) * ky\n",
    "        kp = (m + 1) * ky\n",
    "\n",
    "        # toroidal wave number\n",
    "        kz = 1 / R0\n",
    "        kn = n * kz\n",
    "\n",
    "        # combined wave numbers\n",
    "        Km2 = km^2 + kn^2\n",
    "        K2 = k^2 + kn^2\n",
    "        Kp2 = kp^2 + kn^2\n",
    "\n",
    "        # Zeta-components\n",
    "        ζz = 1\n",
    "        ζy = 1\n",
    "\n",
    "        # Lundquist number\n",
    "        S = 100\n",
    "\n",
    "        # Alfvénic Mach number\n",
    "        M = S^(-1 / 2)\n",
    "    end\n",
    "\n",
    "    @variables begin\n",
    "        ψm(t)\n",
    "        ψ(t)\n",
    "        ψp(t)\n",
    "        φm(t)\n",
    "        φ(t)\n",
    "        φp(t)\n",
    "        f(t)\n",
    "    end\n",
    "\n",
    "    @equations begin\n",
    "        f ~ tanh(t)\n",
    "        # m-1 mode equations\n",
    "        γ * (D(D(φm)) - Km2 * φm) + (M / 2) * (D(D(D(φ))) - (Km2 - ζz^2 * ky^2) * D(φ)) ~ -ky * (f * (m - 1) - 1) * (D(D(ψm)) - Km2 * ψm - (D(D(f)) / f) * ψm)\n",
    "        γ * ψm + (M / 2) * D(ψ) - ky * (f * (m - 1) - 1) * φm - (1 / S) * (D(D(ψm)) - Km2 * ψm) ~ 0\n",
    "\n",
    "        # m mode equations\n",
    "        γ * (D(D(φ)) - K2 * φ) + (M / 2) * (D(D(D(φp))) - (Kp2 - ky^2) * D(φp) + D(D(D(φm))) - (Kp2 - ky^2) * D(φm)) ~ -k * f * (D(D(ψ)) - K2 * ψ - (D(D(f)) / f) * ψ)\n",
    "        γ * ψ + (M / 2) * (D(ψp) + D(ψm)) - k * f * φ - (1 / S) * (D(D(ψ)) - K2 * ψ) ~ 0\n",
    "\n",
    "        # m+1 mode equations\n",
    "        γ * (D(D(φp)) - Kp2 * φp) + (M / 2) * (D(D(D(φ))) - (Kp2 - ζz^2 * ky^2) * D(φ)) ~ -ky * (f * (m + 1) + 1) * (D(D(ψp)) - Kp2 * ψp - (D(D(f)) / f) * ψp)\n",
    "        γ * ψp + (M / 2) * D(ψ) - ky * (f * (m + 1) + 1) * φp - (1 / S) * (D(D(ψp)) - Kp2 * ψp) ~ 0\n",
    "\n",
    "    end\n",
    "end\n",
    "\n",
    "@mtkcompile tfmodel = TWOFLUID() # model building, index reduction, simplification in one step!"
   ]
  },
  {
   "cell_type": "code",
   "execution_count": 30,
   "id": "f45fdefe",
   "metadata": {},
   "outputs": [
    {
     "name": "stdout",
     "output_type": "stream",
     "text": [
      "unknowns(tfmodel) = SymbolicUtils.BasicSymbolic{Real}[ψp(t), φp(t), ψ(t), ψpˍt(t), ψm(t), ψˍt(t), ψmˍt(t), φm(t), φ(t), φˍt(t), φˍtt(t), φpˍt(t), φmˍt(t), φˍttt(t), φmˍttt(t)]\n"
     ]
    },
    {
     "data": {
      "text/plain": [
       "15-element Vector{SymbolicUtils.BasicSymbolic{Real}}:\n",
       " ψp(t)\n",
       " φp(t)\n",
       " ψ(t)\n",
       " ψpˍt(t)\n",
       " ψm(t)\n",
       " ψˍt(t)\n",
       " ψmˍt(t)\n",
       " φm(t)\n",
       " φ(t)\n",
       " φˍt(t)\n",
       " φˍtt(t)\n",
       " φpˍt(t)\n",
       " φmˍt(t)\n",
       " φˍttt(t)\n",
       " φmˍttt(t)"
      ]
     },
     "execution_count": 30,
     "metadata": {},
     "output_type": "execute_result"
    }
   ],
   "source": [
    "# typeof(tfmodel)\n",
    "# @show observed(tfmodel)\n",
    "@show unknowns(tfmodel)"
   ]
  },
  {
   "cell_type": "code",
   "execution_count": 38,
   "id": "ec02e082",
   "metadata": {},
   "outputs": [
    {
     "data": {
      "text/plain": [
       "15×15 Diagonal{Float64, Vector{Float64}}:\n",
       " 1.0   ⋅    ⋅    ⋅    ⋅    ⋅    ⋅    ⋅    ⋅    ⋅    ⋅    ⋅    ⋅    ⋅    ⋅ \n",
       "  ⋅   1.0   ⋅    ⋅    ⋅    ⋅    ⋅    ⋅    ⋅    ⋅    ⋅    ⋅    ⋅    ⋅    ⋅ \n",
       "  ⋅    ⋅   1.0   ⋅    ⋅    ⋅    ⋅    ⋅    ⋅    ⋅    ⋅    ⋅    ⋅    ⋅    ⋅ \n",
       "  ⋅    ⋅    ⋅   1.0   ⋅    ⋅    ⋅    ⋅    ⋅    ⋅    ⋅    ⋅    ⋅    ⋅    ⋅ \n",
       "  ⋅    ⋅    ⋅    ⋅   1.0   ⋅    ⋅    ⋅    ⋅    ⋅    ⋅    ⋅    ⋅    ⋅    ⋅ \n",
       "  ⋅    ⋅    ⋅    ⋅    ⋅   1.0   ⋅    ⋅    ⋅    ⋅    ⋅    ⋅    ⋅    ⋅    ⋅ \n",
       "  ⋅    ⋅    ⋅    ⋅    ⋅    ⋅   1.0   ⋅    ⋅    ⋅    ⋅    ⋅    ⋅    ⋅    ⋅ \n",
       "  ⋅    ⋅    ⋅    ⋅    ⋅    ⋅    ⋅   1.0   ⋅    ⋅    ⋅    ⋅    ⋅    ⋅    ⋅ \n",
       "  ⋅    ⋅    ⋅    ⋅    ⋅    ⋅    ⋅    ⋅   1.0   ⋅    ⋅    ⋅    ⋅    ⋅    ⋅ \n",
       "  ⋅    ⋅    ⋅    ⋅    ⋅    ⋅    ⋅    ⋅    ⋅   1.0   ⋅    ⋅    ⋅    ⋅    ⋅ \n",
       "  ⋅    ⋅    ⋅    ⋅    ⋅    ⋅    ⋅    ⋅    ⋅    ⋅   1.0   ⋅    ⋅    ⋅    ⋅ \n",
       "  ⋅    ⋅    ⋅    ⋅    ⋅    ⋅    ⋅    ⋅    ⋅    ⋅    ⋅   1.0   ⋅    ⋅    ⋅ \n",
       "  ⋅    ⋅    ⋅    ⋅    ⋅    ⋅    ⋅    ⋅    ⋅    ⋅    ⋅    ⋅   1.0   ⋅    ⋅ \n",
       "  ⋅    ⋅    ⋅    ⋅    ⋅    ⋅    ⋅    ⋅    ⋅    ⋅    ⋅    ⋅    ⋅   1.0   ⋅ \n",
       "  ⋅    ⋅    ⋅    ⋅    ⋅    ⋅    ⋅    ⋅    ⋅    ⋅    ⋅    ⋅    ⋅    ⋅   0.0"
      ]
     },
     "execution_count": 38,
     "metadata": {},
     "output_type": "execute_result"
    }
   ],
   "source": [
    "mass_matrix = calculate_massmatrix(tfmodel)"
   ]
  },
  {
   "cell_type": "code",
   "execution_count": 37,
   "id": "31bde8ba",
   "metadata": {},
   "outputs": [
    {
     "data": {
      "text/plain": [
       "(0.0, 15.0)"
      ]
     },
     "execution_count": 37,
     "metadata": {},
     "output_type": "execute_result"
    }
   ],
   "source": [
    "const L = 15.0\n",
    "tspan = (0.0, L)"
   ]
  },
  {
   "cell_type": "code",
   "execution_count": 43,
   "id": "647aa173",
   "metadata": {},
   "outputs": [
    {
     "data": {
      "text/plain": [
       "bcb! (generic function with 1 method)"
      ]
     },
     "execution_count": 43,
     "metadata": {},
     "output_type": "execute_result"
    }
   ],
   "source": [
    "function bca!(res, u, p)\n",
    "    # LEFT BOUNDARY (x=0)\n",
    "    res[1] = u[10]      # ψm'(0)=0,   Dirichlet on right boundary (even)\n",
    "    res[2] = u[7]       # ψm-1(0)=0, Dirichlet on right boundary (odd)\n",
    "    res[3] = u[11]      # ψm+1(0)=0, Dirichlet on right boundary (odd)\n",
    "    res[4] = u[3]       # ϕm(0)=0,    Dirichlet on left boundary (odd)\n",
    "    res[5] = u[2]       # ϕm-1'(0)=0,  Dirichlet on left boundary (even)\n",
    "    res[6] = u[6]       # ϕm+1'(0)=0,  Dirichlet on left boundary (even)\n",
    "    res[7] = u[9] - 1   # ψm(0) = 1,  extra constraint to fix unknown parameter Q\n",
    "end\n",
    "\n",
    "function bcb!(res, u, p)\n",
    "    # RIGHT BOUNDARY (x=L)\n",
    "    res[1] = u[9]     # ψm(L)=0,    Dirichlet on right boundary\n",
    "    res[2] = u[7]     # ψm-1(L)=0,  Dirichlet on right boundary\n",
    "    res[3] = u[11]    # ψm+1(L)=0,  Dirichlet on right boundary\n",
    "    res[4] = u[3]    # ϕm(L)=0,    Dirichlet on right boundary\n",
    "    res[5] = u[1]    # ϕm-1(L)=0,  Dirichlet on right boundary\n",
    "    res[6] = u[5]    # ϕm+1(L)=0,  Dirichlet on right boundary\n",
    "    res[7] = u[4]    # ϕm'(L)=0,   Neumann on right boundary\n",
    "    res[8] = u[2]    # ϕm-1'(L)=0, Neumann on right boundary\n",
    "    res[9] = u[6]    # ϕm+1'(L)=0, Neumann on right boundary\n",
    "end"
   ]
  },
  {
   "cell_type": "code",
   "execution_count": null,
   "id": "882b530c",
   "metadata": {},
   "outputs": [
    {
     "data": {
      "text/plain": [
       "initial_guess (generic function with 1 method)"
      ]
     },
     "execution_count": 44,
     "metadata": {},
     "output_type": "execute_result"
    }
   ],
   "source": [
    "function initial_guess(p, t)\n",
    "    # Base building blocks\n",
    "    evenpsi = exp(-t^2)\n",
    "    oddpsi = -2t * exp(-t^2)\n",
    "    evenphi = (1 - 2t^2) * exp(-t^2)\n",
    "    oddphi = t * exp(-t^2)\n",
    "\n",
    "    # Their simple “derivative-like” versions\n",
    "    evenpsi_t = oddpsi          # derivative of evenψ is odd\n",
    "    oddpsi_t = 2 * (t^2 - 1) * exp(-t^2)   # derivative of oddψ is even\n",
    "    evenphi_t = -2t * (3 - 2t^2) * exp(-t^2)  # derivative of evenφ is odd\n",
    "    oddphi_t = (1 - 2t^2) * exp(-t^2)         # derivative of oddφ is even\n",
    "\n",
    "    # For higher derivatives, we’ll keep same parity trend but simplified (still smooth)\n",
    "    evenphi_tt  = evenphi   # even stays even for 2nd derivative\n",
    "    evenphi_ttt = oddphi    # odd for 3rd derivative\n",
    "    oddphi_tt   = evenphi\n",
    "    oddphi_ttt  = oddphi\n",
    "\n",
    "    # Now assign according to your new state vector\n",
    "    return [\n",
    "        evenpsi;     # 1: ψp(t)       (even)\n",
    "        evenphi;     # 2: φp(t)       (even)\n",
    "        evenpsi;     # 3: ψ(t)        (even)\n",
    "        oddpsi;      # 4: ψp_t(t)     (odd)\n",
    "        evenpsi;     # 5: ψm(t)       (even)\n",
    "        oddpsi;      # 6: ψ_t(t)      (odd)\n",
    "        oddpsi;      # 7: ψm_t(t)     (odd)\n",
    "        evenphi;     # 8: φm(t)       (even)\n",
    "        evenphi;     # 9: φ(t)        (even)\n",
    "        oddphi;      #10: φ_t(t)      (odd)\n",
    "        evenphi_tt;  #11: φ_tt(t)     (even)\n",
    "        oddphi_t;    #12: φp_t(t)     (odd)\n",
    "        oddphi_t;    #13: φm_t(t)     (odd)\n",
    "        evenphi_ttt; #14: φ_ttt(t)    (odd)\n",
    "        oddphi_ttt   #15: φm_ttt(t)   (even-ish/placeholder)\n",
    "    ]\n",
    "end\n"
   ]
  },
  {
   "cell_type": "code",
   "execution_count": null,
   "id": "5508c3bb",
   "metadata": {},
   "outputs": [
    {
     "ename": "LoadError",
     "evalue": "No methods were found for the model function passed to the equation solver.\nThe function `f` needs to have dispatches, for example, for an ODEProblem\n`f` must define either `f(u,p,t)` or `f(du,u,p,t)`. For more information\non how the model function `f` should be defined, consult the docstring for\nthe appropriate `AbstractSciMLFunction`.\n\nOffending function: \u001b[31m\u001b[1mf\u001b[22m\u001b[39m",
     "output_type": "error",
     "traceback": [
      "No methods were found for the model function passed to the equation solver.\nThe function `f` needs to have dispatches, for example, for an ODEProblem\n`f` must define either `f(u,p,t)` or `f(du,u,p,t)`. For more information\non how the model function `f` should be defined, consult the docstring for\nthe appropriate `AbstractSciMLFunction`.\n\nOffending function: \u001b[31m\u001b[1mf\u001b[22m\u001b[39m",
      "",
      "Stacktrace:",
      " [1] \u001b[0m\u001b[1misinplace\u001b[22m\u001b[0m\u001b[1m(\u001b[22m\u001b[90mf\u001b[39m::\u001b[0mSystem, \u001b[90minplace_param_number\u001b[39m::\u001b[0mInt64, \u001b[90mfname\u001b[39m::\u001b[0mString, \u001b[90miip_preferred\u001b[39m::\u001b[0mBool; \u001b[90mhas_two_dispatches\u001b[39m::\u001b[0mBool, \u001b[90misoptimization\u001b[39m::\u001b[0mBool, \u001b[90moutofplace_param_number\u001b[39m::\u001b[0mInt64\u001b[0m\u001b[1m)\u001b[22m",
      "\u001b[90m   @\u001b[39m \u001b[35mSciMLBase\u001b[39m \u001b[90m~/.julia/packages/SciMLBase/b4Q81/src/\u001b[39m\u001b[90m\u001b[4mutils.jl:254\u001b[24m\u001b[39m",
      " [2] \u001b[0m\u001b[1misinplace\u001b[22m\u001b[33m\u001b[1m (repeats 2 times)\u001b[22m\u001b[39m",
      "\u001b[90m   @\u001b[39m \u001b[90m~/.julia/packages/SciMLBase/b4Q81/src/\u001b[39m\u001b[90m\u001b[4mutils.jl:246\u001b[24m\u001b[39m\u001b[90m [inlined]\u001b[39m",
      " [3] \u001b[0m\u001b[1mBVPFunction\u001b[22m\u001b[0m\u001b[1m(\u001b[22m\u001b[90mf\u001b[39m::\u001b[0mSystem, \u001b[90mbc\u001b[39m::\u001b[0mTuple\u001b[90m{typeof(bca!), typeof(bcb!)}\u001b[39m; \u001b[90mtwopoint\u001b[39m::\u001b[0mVal\u001b[90m{true}\u001b[39m, \u001b[90mkwargs\u001b[39m::\u001b[0m@Kwargs\u001b[90m{mass_matrix::Diagonal{Float64, Vector{Float64}}, bcresid_prototype::Tuple{Vector{Float64}, Vector{Float64}}}\u001b[39m\u001b[0m\u001b[1m)\u001b[22m",
      "\u001b[90m   @\u001b[39m \u001b[35mSciMLBase\u001b[39m \u001b[90m~/.julia/packages/SciMLBase/b4Q81/src/\u001b[39m\u001b[90m\u001b[4mscimlfunctions.jl:4545\u001b[24m\u001b[39m",
      " [4] top-level scope",
      "\u001b[90m   @\u001b[39m \u001b[90m\u001b[4mIn[42]:1\u001b[24m\u001b[39m",
      " [5] \u001b[0m\u001b[1meval\u001b[22m\u001b[0m\u001b[1m(\u001b[22m\u001b[90mm\u001b[39m::\u001b[0mModule, \u001b[90me\u001b[39m::\u001b[0mAny\u001b[0m\u001b[1m)\u001b[22m",
      "\u001b[90m   @\u001b[39m \u001b[90mCore\u001b[39m \u001b[90m./\u001b[39m\u001b[90m\u001b[4mboot.jl:489\u001b[24m\u001b[39m"
     ]
    }
   ],
   "source": [
    "fun = BVPFunction(tfmodel, (bca!, bcb!), mass_matrix=mass_matrix, twopoint=Val(true), bcresid_prototype=(zeros(7), zeros(9)))\n",
    "prob = TwoPointBVProblem(fun, initial_guess, tspan, [γ], fit_parameters=true)"
   ]
  },
  {
   "cell_type": "code",
   "execution_count": null,
   "id": "f870f115",
   "metadata": {},
   "outputs": [],
   "source": [
    "sol = solve(prob, MIRK6(), dt=0.01,\n",
    "    adaptive=true,\n",
    "    progress=true,\n",
    "    verbose=true,\n",
    "    maxiters=500\n",
    ")\n",
    "\n",
    "# print the estimated value of Q which satisfies the BCs\n",
    "println(\"γ fitted: \", sol.prob.p[1])\n",
    "\n",
    "plot(sol, idxs=(0, 9), label=L\"ψ(x)\")\n",
    "plot!(sol, idxs=(0, 3), label=L\"φ(x)\", xlabel=\"x\", legend=:topright)\n",
    "\n",
    "# plot(sol)"
   ]
  }
 ],
 "metadata": {
  "kernelspec": {
   "display_name": "Julia 1.12.1",
   "language": "julia",
   "name": "julia-1.12"
  },
  "language_info": {
   "file_extension": ".jl",
   "mimetype": "application/julia",
   "name": "julia",
   "version": "1.12.1"
  }
 },
 "nbformat": 4,
 "nbformat_minor": 5
}
