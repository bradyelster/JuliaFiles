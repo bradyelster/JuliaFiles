{
 "cells": [
  {
   "cell_type": "code",
   "execution_count": 1,
   "id": "effc2970",
   "metadata": {},
   "outputs": [],
   "source": [
    "using BoundaryValueDiffEq, ModelingToolkit, Plots, Printf\n",
    "using ModelingToolkit: t_nounits as t, D_nounits as D"
   ]
  },
  {
   "cell_type": "code",
   "execution_count": 2,
   "id": "a95d9fc5",
   "metadata": {},
   "outputs": [
    {
     "data": {
      "text/latex": [
       "$$ \\begin{align}\n",
       "\\frac{\\mathrm{d} \\varphi\\left( t \\right)}{\\mathrm{d}t} &= \\mathtt{{\\varphi}ˍt}\\left( t \\right) \\\\\n",
       "\\frac{\\mathrm{d} \\psi\\left( t \\right)}{\\mathrm{d}t} &= \\mathtt{{\\psi}ˍt}\\left( t \\right) \\\\\n",
       "\\frac{\\mathrm{d} \\mathtt{{\\psi}ˍt}\\left( t \\right)}{\\mathrm{d}t} &= k^{2} \\psi\\left( t \\right) + S \\left( \\psi\\left( t \\right) - \\varphi\\left( t \\right) F\\left( t \\right) \\right) \\gamma \\\\\n",
       "\\frac{\\mathrm{d} \\mathtt{{\\varphi}ˍt}\\left( t \\right)}{\\mathrm{d}t} &= \\frac{ - \\psi\\left( t \\right) \\mathtt{Fˍtt}\\left( t \\right) - k^{2} \\psi\\left( t \\right) F\\left( t \\right) + \\left( k^{2} \\psi\\left( t \\right) + S \\left( \\psi\\left( t \\right) - \\varphi\\left( t \\right) F\\left( t \\right) \\right) \\gamma \\right) F\\left( t \\right) - \\gamma^{2} k^{2} \\varphi\\left( t \\right)}{ - \\gamma^{2}}\n",
       "\\end{align}\n",
       " $$"
      ],
      "text/plain": [
       "\u001b[0m\u001b[1mModel sys:\u001b[22m\n",
       "\u001b[0m\u001b[1mEquations (4):\u001b[22m\n",
       "  4 standard: see equations(sys)\n",
       "\u001b[0m\u001b[1mUnknowns (4):\u001b[22m see unknowns(sys)\n",
       "  φ(t) [defaults to 0]\n",
       "  ψ(t) [defaults to 1]\n",
       "  ψˍt(t)\n",
       "  φˍt(t)\n",
       "\u001b[0m\u001b[1mParameters (3):\u001b[22m see parameters(sys)\n",
       "  γ [defaults to 0.057539]\n",
       "  k [defaults to 0.5]\n",
       "  S [defaults to 100]\n",
       "\u001b[0m\u001b[1mObserved (3):\u001b[22m see observed(sys)"
      ]
     },
     "execution_count": 2,
     "metadata": {},
     "output_type": "execute_result"
    }
   ],
   "source": [
    "@mtkmodel TEARING begin\n",
    "    @constants begin\n",
    "        S = 100\n",
    "        k = 0.5\n",
    "    end\n",
    "    @parameters begin\n",
    "        γ = 0.05753900494\n",
    "    end\n",
    "    @variables begin\n",
    "        # initialize with only BCs we know at t=0\n",
    "        F(t)\n",
    "        ψ(t) = 1\n",
    "        φ(t) = 0\n",
    "    end\n",
    "    @equations begin\n",
    "        F ~ tanh(t)\n",
    "        S * γ * (ψ - F * φ) ~ (D(D(ψ)) - k^2 * ψ)\n",
    "        γ^2 * (D(D(φ)) - k^2 * φ) ~ -F * D(D(ψ)) + F * k^2 * ψ + D(D(F)) * ψ\n",
    "    end\n",
    "end\n",
    "@mtkcompile sys = TEARING()"
   ]
  },
  {
   "cell_type": "code",
   "execution_count": 3,
   "id": "4a88b125",
   "metadata": {},
   "outputs": [
    {
     "data": {
      "text/plain": [
       "(0, 20)"
      ]
     },
     "execution_count": 3,
     "metadata": {},
     "output_type": "execute_result"
    }
   ],
   "source": [
    "L = 20\n",
    "tspan = (0, L)\n",
    "#=\n",
    "const k = 0.5\n",
    "@inline f(t) = tanh(t)\n",
    "@inline ddf(t) = -2 * tanh(t) * sech(t)^2\n",
    "\n",
    "ψouter(t) = exp(-k * abs(t)) * (1 + f(abs(t)) / k)\n",
    "ϕouter(t) = ψouter(t) / f(t)\n",
    "ψouter_prime(t) = -k * sign(t) * exp(-k * abs(t)) * (1 + f(abs(t)) / k) + exp(-k * abs(t)) * (ddf(abs(t)) / k)\n",
    "ϕouter_prime(t) = ψouter_prime(t) / f(t) - ψouter(t) * ddf(t) / (f(t)^2)\n",
    "=#"
   ]
  },
  {
   "cell_type": "code",
   "execution_count": 4,
   "id": "005ebc0c",
   "metadata": {},
   "outputs": [
    {
     "data": {
      "text/plain": [
       "\u001b[38;2;86;182;194mBVProblem\u001b[0m with uType \u001b[38;2;86;182;194mVector{Float64}\u001b[0m and tType \u001b[38;2;86;182;194mInt64\u001b[0m. In-place: \u001b[38;2;86;182;194mtrue\u001b[0m\n",
       "Initialization status: \u001b[38;2;86;182;194mFULLY_DETERMINED\u001b[0m\n",
       "Non-trivial mass matrix: \u001b[38;2;86;182;194mfalse\u001b[0m\n",
       "timespan: (0, 20)\n",
       "u0: 4-element Vector{Float64}:\n",
       "  0.0\n",
       "  1.0\n",
       "  0.0\n",
       " 36.34514085047722"
      ]
     },
     "execution_count": 4,
     "metadata": {},
     "output_type": "execute_result"
    }
   ],
   "source": [
    "mtkprob = BVProblem(sys, [D(sys.ψ) => 0, D(sys.φ) => 36.34514085047722], tspan, jac=true)"
   ]
  },
  {
   "cell_type": "code",
   "execution_count": null,
   "id": "883d4480",
   "metadata": {},
   "outputs": [],
   "source": [
    "sol = solve(mtkprob, MIRK6(), dt=0.01, saveat=0.05)"
   ]
  },
  {
   "cell_type": "code",
   "execution_count": null,
   "id": "c60a93a1",
   "metadata": {},
   "outputs": [],
   "source": [
    "plot(sol)"
   ]
  },
  {
   "cell_type": "code",
   "execution_count": null,
   "id": "78210f49",
   "metadata": {},
   "outputs": [],
   "source": [
    "println(\"γ = \", sol.mtkprob.p[1])"
   ]
  }
 ],
 "metadata": {
  "kernelspec": {
   "display_name": "Julia 1.11.7",
   "language": "julia",
   "name": "julia-1.11.7-1.11"
  },
  "language_info": {
   "file_extension": ".jl",
   "mimetype": "application/julia",
   "name": "julia",
   "version": "1.11.7"
  }
 },
 "nbformat": 4,
 "nbformat_minor": 5
}
