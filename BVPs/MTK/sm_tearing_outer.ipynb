{
 "cells": [
  {
   "cell_type": "code",
   "execution_count": 1,
   "id": "a78d7a66",
   "metadata": {},
   "outputs": [],
   "source": [
    "using BoundaryValueDiffEq, Plots, Printf, LaTeXStrings"
   ]
  },
  {
   "cell_type": "code",
   "execution_count": null,
   "id": "710cbb2d",
   "metadata": {},
   "outputs": [
    {
     "data": {
      "text/plain": [
       "retcode: Success\n",
       "Interpolation: MIRK Order 6 Interpolation\n",
       "t: 201-element Vector{Float64}:\n",
       "  0.0\n",
       "  0.1\n",
       "  0.2\n",
       "  0.3\n",
       "  0.4\n",
       "  0.5\n",
       "  0.6\n",
       "  0.7\n",
       "  0.8\n",
       "  0.9\n",
       "  1.0\n",
       "  1.1\n",
       "  1.2\n",
       "  ⋮\n",
       " 18.9\n",
       " 19.0\n",
       " 19.1\n",
       " 19.2\n",
       " 19.3\n",
       " 19.4\n",
       " 19.5\n",
       " 19.6\n",
       " 19.7\n",
       " 19.8\n",
       " 19.9\n",
       " 20.0\n",
       "u: 201-element Vector{Vector{Float64}}:\n",
       " [1.0, 1.4999999810605664]\n",
       " [1.1408436810125884, 1.313138516106593]\n",
       " [1.2620225646801946, 1.1081640005812596]\n",
       " [1.3621781493850578, 0.8942422707369458]\n",
       " [1.440882546023203, 0.6806342828878682]\n",
       " [1.4985951823434231, 0.4756746102453692]\n",
       " [1.5365304199004346, 0.28603431524275563]\n",
       " [1.5564696270211025, 0.11635202649800072]\n",
       " [1.5605543502786183, -0.03078542138632935]\n",
       " [1.551091511914684, -0.1546013393357274]\n",
       " [1.5303910567317431, -0.25574091634950125]\n",
       " [1.5006453124291665, -0.33584041034827183]\n",
       " [1.4638503172967983, -0.39712812873054076]\n",
       " ⋮\n",
       " [0.0001574882522555887, -0.00015732456825388508]\n",
       " [0.000141946140751803, -0.000153582417923463]\n",
       " [0.0001267589685363113, -0.00015022430363544815]\n",
       " [0.00011188875976797519, -0.00014724182835487324]\n",
       " [9.729833117910758e-5, -0.0001446275343399849]\n",
       " [8.295119909862425e-5, -0.0001423748844939008]\n",
       " [6.881148822346361e-5, -0.00014047824601895698]\n",
       " [5.4843841911123015e-5, -0.00013893287633074677]\n",
       " [4.101333377037886e-5, -0.00013773491120036685]\n",
       " [2.7285380326924624e-5, -0.00013688135509106565]\n",
       " [1.3625654546656207e-5, -0.0001363700736676333]\n",
       " [0.0, -0.0001361997884603735]"
      ]
     },
     "execution_count": 31,
     "metadata": {},
     "output_type": "execute_result"
    }
   ],
   "source": [
    "L = 20\n",
    "tspan = (0, L)\n",
    "@inline f(t) = tanh(t)\n",
    "@inline ddf(t) = -2 * tanh(t) * sech(t)^2\n",
    "@inline coeff(t) = t < 1e-6 ? -2.0 : ddf(t) / f(t)\n",
    "# S = 1000\n",
    "k = 0.5\n",
    "\n",
    "function tearing!(du, u, p, t)\n",
    "    du[1] = u[2]\n",
    "    du[2] = (k^2 + coeff(t)) * u[1]\n",
    "end\n",
    "\n",
    "# initial state vector at t=0\n",
    "u0 = [1.0, 0.0]\n",
    "\n",
    "function bca!(res, u, p)\n",
    "    res[1] = u[1] - 1 # normalization : ψ(0) = 1\n",
    "end\n",
    "\n",
    "function bcb!(res, u, p)\n",
    "    res[1] = u[1]\n",
    "end\n",
    "\n",
    "prob = TwoPointBVProblem(tearing!, (bca!, bcb!), u0, tspan, bcresid_prototype=(zeros(1), zeros(1)))\n",
    "sol = solve(prob, MIRK6(), dt=0.1);\n",
    "scatter(sol, idxs=(0, 1), label=L\"ψ(t)\", lw=2)\n",
    "scatter!(sol.t, zeros(length(sol.t)), marker=:vline, color=\"black\")"
   ]
  }
 ],
 "metadata": {
  "kernelspec": {
   "display_name": "Julia 1.12.1",
   "language": "julia",
   "name": "julia-1.12"
  },
  "language_info": {
   "file_extension": ".jl",
   "mimetype": "application/julia",
   "name": "julia",
   "version": "1.12.1"
  }
 },
 "nbformat": 4,
 "nbformat_minor": 5
}
