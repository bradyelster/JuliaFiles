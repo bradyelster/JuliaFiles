{
 "cells": [
  {
   "cell_type": "code",
   "execution_count": null,
   "id": "b9fb0a1a",
   "metadata": {},
   "outputs": [],
   "source": [
    "using ModelingToolkit, MethodOfLines, OrdinaryDiffEq, DomainSets, Plots"
   ]
  },
  {
   "cell_type": "markdown",
   "id": "bad1f64c",
   "metadata": {},
   "source": [
    "### To use `MethodOfLines.jl`, we first need to symbolically define the system as a `PDESystem`\n",
    "---"
   ]
  },
  {
   "cell_type": "code",
   "execution_count": null,
   "id": "55ea0704",
   "metadata": {},
   "outputs": [],
   "source": [
    "# add independent variables\n",
    "@parameters x y t \n",
    "\n",
    "# now add dependent variables. \n",
    "# the \"..\" indicates it's a function of all independent variables \n",
    "@variables u(..) v(..)\n",
    "\n",
    "# Now add the discretization matrices you need\n",
    "Dt = Differential(t)\n",
    "Dx = Differential(x)\n",
    "Dy = Differential(y)\n",
    "Dxx = Differential(x)^2\n",
    "Dyy = Differential(y)^2\n",
    "∇²(u) = Dxx(u) + Dyy(u)\n",
    "\n",
    "# add a forcing function \"f\"\n",
    "brusselator_f(x, y, t) = (((x-0.3)^2 + (y-0.6)^2) <= 0.1^2) * (t >= 1.1) * 5.\n",
    "\n",
    "# define the domain bounds\n",
    "# in this case, (x, y) ∈ [0,1] \n",
    "x_min = y_min = t_min = 0.0\n",
    "x_max = y_max = 1.0\n",
    "\n",
    "# and t ∈ [0, 11.5]\n",
    "t_max = 11.5\n",
    "\n",
    "# parameter value\n",
    "α = 10.\n",
    "\n",
    "# initial conditions\n",
    "u0(x,y,t) = 22(y*(1-y))^(3/2)\n",
    "v0(x,y,t) = 27(x*(1-x))^(3/2)\n",
    "\n",
    "# define the equations in a vector like this\n",
    "eq = [Dt(u(x,y,t)) ~ 1. + v(x,y,t)*u(x,y,t)^2 - 4.4*u(x,y,t) + α*∇²(u(x,y,t)) + brusselator_f(x, y, t),\n",
    "       Dt(v(x,y,t)) ~ 3.4*u(x,y,t) - v(x,y,t)*u(x,y,t)^2 + α*∇²(v(x,y,t))]\n",
    "\n",
    "# now throw the domain parameters in a list like this (1 per dimension)\n",
    "domains = [x ∈ Interval(x_min, x_max),\n",
    "              y ∈ Interval(y_min, y_max),\n",
    "              t ∈ Interval(t_min, t_max)]\n",
    "\n",
    "# add periodic BCs for each dependent variable\n",
    "bcs = [u(x,y,0) ~ u0(x,y,0), # for u at t=0, use its initial condition\n",
    "       u(0,y,t) ~ u(1,y,t), # u at x=0 is the same as u at x = 1 (end of x-domain)\n",
    "       u(x,0,t) ~ u(x,1,t), # u at y=0 is the same as u at x = 1 (end of y-domain)\n",
    "\n",
    "       v(x,y,0) ~ v0(x,y,0), # for u at t=0, use its initial condition\n",
    "       v(0,y,t) ~ v(1,y,t), # u at x=0 is the same as u at x = 1 (end of x-domain)\n",
    "       v(x,0,t) ~ v(x,1,t)] # u at y=0 is the same as u at x = 1 (end of y-domain)\n",
    "\n",
    "# combine everything into 1 PDESystem object\n",
    "@named pdesys = PDESystem(eq,bcs,domains,[x,y,t],[u(x,y,t),v(x,y,t)]);"
   ]
  },
  {
   "cell_type": "markdown",
   "id": "42387a1e",
   "metadata": {},
   "source": [
    "### Now, we define the discretization\n",
    "---\n",
    "1. If you want to leave t undiscretized, just supply t as an argument.\n",
    "2. If you want to discretize in t, just remove the argument `t` and supply `t => dt` in the dxs."
   ]
  },
  {
   "cell_type": "code",
   "execution_count": null,
   "id": "1b1c34ec",
   "metadata": {},
   "outputs": [],
   "source": [
    "Nx = 32\n",
    "Ny = 32\n",
    "\n",
    "# Now create a second-order accurate finite difference method\n",
    "order = 2 # This may be increased to improve accuracy of some schemes\n",
    "\n",
    "# Integers for x and y are interpreted as number of points. Use a Float to directly specify stepsizes dx and dy.\n",
    "discretization = MOLFiniteDifference([x => Nx, y => Ny], t, approx_order=order);"
   ]
  },
  {
   "cell_type": "markdown",
   "id": "4e335eb8",
   "metadata": {},
   "source": [
    "### Next, we discretize the system, converting the PDESystem in to an ODEProblem\n",
    "---"
   ]
  },
  {
   "cell_type": "code",
   "execution_count": null,
   "id": "ec2da9e1",
   "metadata": {},
   "outputs": [],
   "source": [
    "# Convert the PDE problem into an ODE problem\n",
    "println(\"Discretization:\")\n",
    "@time prob = discretize(pdesys,discretization)"
   ]
  },
  {
   "cell_type": "code",
   "execution_count": null,
   "id": "6abd719e",
   "metadata": {},
   "outputs": [],
   "source": [
    "println(\"Solve:\")\n",
    "@time sol = solve(prob, TRBDF2(), saveat=0.1) # solver for large stiff systems"
   ]
  },
  {
   "cell_type": "code",
   "execution_count": null,
   "id": "32d504e4",
   "metadata": {},
   "outputs": [],
   "source": [
    "discrete_x = sol[x]\n",
    "discrete_y = sol[y]\n",
    "discrete_t = sol[t]\n",
    "\n",
    "solu = sol[u(x, y, t)]\n",
    "solv = sol[v(x, y, t)]"
   ]
  },
  {
   "cell_type": "code",
   "execution_count": null,
   "id": "0d673be0",
   "metadata": {},
   "outputs": [],
   "source": [
    "anim = @animate for k in 1:length(discrete_t)\n",
    "    heatmap(solu[2:end, 2:end, k], title=\"$(discrete_t[k])\") # 2:end since end = 1, periodic condition\n",
    "end\n",
    "gif(anim, \"Brusselator2Dsol_u.gif\", fps = 8)"
   ]
  },
  {
   "cell_type": "code",
   "execution_count": null,
   "id": "b11ee942",
   "metadata": {},
   "outputs": [],
   "source": [
    "anim = @animate for k in 1:length(discrete_t)\n",
    "    heatmap(solv[2:end, 2:end, k], title=\"$(discrete_t[k])\")\n",
    "end\n",
    "gif(anim, \"Brusselator2Dsol_v.gif\", fps = 8)"
   ]
  }
 ],
 "metadata": {
  "kernelspec": {
   "display_name": "Julia 1.11.1",
   "language": "julia",
   "name": "julia-1.11"
  },
  "language_info": {
   "file_extension": ".jl",
   "mimetype": "application/julia",
   "name": "julia",
   "version": "1.11.1"
  }
 },
 "nbformat": 4,
 "nbformat_minor": 5
}
