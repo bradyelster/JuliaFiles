{
 "cells": [
  {
   "cell_type": "code",
   "execution_count": 103,
   "metadata": {},
   "outputs": [],
   "source": [
    "using BoundaryValueDiffEq\n",
    "using LaTeXStrings\n",
    "using Plots"
   ]
  },
  {
   "cell_type": "code",
   "execution_count": 104,
   "metadata": {},
   "outputs": [
    {
     "data": {
      "text/plain": [
       "u (generic function with 1 method)"
      ]
     },
     "execution_count": 104,
     "metadata": {},
     "output_type": "execute_result"
    }
   ],
   "source": [
    "u(x, ϵ) = 1 .- x .+ (ϵ.*x ./ 30)*(-5 .+ 15 .* x .- 20 .* x.^2 .+ 15 .* x.^3 .- 6 .* x.^4 .+ x.^5)"
   ]
  },
  {
   "cell_type": "code",
   "execution_count": 105,
   "metadata": {},
   "outputs": [],
   "source": [
    "const ϵ1 = 0.1;\n",
    "const ϵ2 = 0.5\n",
    "const ϵ3 = 1\n",
    "x = LinRange(0, 1, 1000);"
   ]
  },
  {
   "cell_type": "code",
   "execution_count": 106,
   "metadata": {},
   "outputs": [
    {
     "data": {
      "text/plain": [
       "prob1! (generic function with 1 method)"
      ]
     },
     "execution_count": 106,
     "metadata": {},
     "output_type": "execute_result"
    }
   ],
   "source": [
    "xspan = (0.0, 1.0)\n",
    "function prob1!(dv, v, p, x)\n",
    "    ϵ = 0.1\n",
    "    u = v[1]\n",
    "    du = v[2]\n",
    "    dv[1] = du\n",
    "    dv[2] = ϵ*u^4\n",
    "end"
   ]
  },
  {
   "cell_type": "code",
   "execution_count": null,
   "metadata": {},
   "outputs": [
    {
     "data": {
      "text/plain": [
       "retcode: Success\n",
       "Interpolation: MIRK Order 4 Interpolation\n",
       "t: 21-element Vector{Float64}:\n",
       " 0.0\n",
       " 0.05\n",
       " 0.1\n",
       " 0.15\n",
       " 0.2\n",
       " 0.25\n",
       " 0.3\n",
       " 0.35\n",
       " 0.4\n",
       " 0.45\n",
       " 0.5\n",
       " 0.55\n",
       " 0.6\n",
       " 0.65\n",
       " 0.7\n",
       " 0.75\n",
       " 0.8\n",
       " 0.85\n",
       " 0.9\n",
       " 0.95\n",
       " 1.0\n",
       "u: 21-element Vector{Vector{Float64}}:\n",
       " [1.0, -1.0165589557443744]\n",
       " [0.9492889074019075, -1.0120413677138322]\n",
       " [0.8987814199665906, -1.0083910897148802]\n",
       " [0.8484375817609984, -1.0054744588103848]\n",
       " [0.7982237250178172, -1.0031733606871724]\n",
       " [0.7481117285669407, -1.001383827798162]\n",
       " [0.6980783418352353, -1.0000148114000407]\n",
       " [0.648104566713485, -0.998987089062926]\n",
       " [0.5981750913252073, -0.9982322763962572]\n",
       " [0.5482777711437777, -0.997691917581356]\n",
       " [0.49840315405092955, -0.9973166341000058]\n",
       " [0.4485440468578799, -0.9970653150205959]\n",
       " [0.39869512155676556, -0.9969043355281315]\n",
       " [0.3488525601633137, -0.9968067932097956]\n",
       " [0.29901373747349713, -0.9967517540584879]\n",
       " [0.24917694140329183, -0.996723502340837]\n",
       " [0.19934113082246582, -0.996710790490267]\n",
       " [0.14950573093678748, -0.9967060871200356]\n",
       " [0.09967046631995181, -0.9967048231938043]\n",
       " [0.04983523164422349, -0.9967046384323375]\n",
       " [-3.103365393252956e-18, -0.9967046322703442]"
      ]
     },
     "execution_count": 107,
     "metadata": {},
     "output_type": "execute_result"
    }
   ],
   "source": [
    "function bc1!(residual, u, p, t)\n",
    "    residual[1] = u[begin][1] - 1.0 # the solution at the middle of the time span should be 1\n",
    "    residual[2] = u[end][1] - 0.0  # the solution at the end of the time span should be 0\n",
    "end\n",
    "\n",
    "bvp1 = BVProblem(prob1!, bc1!, [1, 1], xspan, )\n",
    "sol = solve(bvp1, MIRK4(), dt = 0.05);"
   ]
  },
  {
   "cell_type": "code",
   "execution_count": 108,
   "metadata": {},
   "outputs": [
    {
     "name": "stdout",
     "output_type": "stream",
     "text": [
      "Maximum absolute error: 1.9837120984411705e-5\n",
      "Mean absolute error: 1.2194518053715749e-5\n"
     ]
    }
   ],
   "source": [
    "# Interpolate the solution on the x-values we defined previously\n",
    "numerical_sol = [s[1] for s in sol.(x)];\n",
    "difference = numerical_sol .- u.(x, ϵ1);\n",
    "\n",
    "using Statistics\n",
    "# Compute error metrics\n",
    "max_error = maximum(abs.(difference))\n",
    "mean_error = mean(abs.(difference))\n",
    "println(\"Maximum absolute error: \", max_error)\n",
    "println(\"Mean absolute error: \", mean_error)"
   ]
  },
  {
   "cell_type": "code",
   "execution_count": null,
   "metadata": {},
   "outputs": [
    {
     "data": {
      "text/plain": [
       "\"/home/belster/JuliaFiles/Aero/exam1/Aero_Exam1_Prob1_compare.pdf\""
      ]
     },
     "execution_count": 109,
     "metadata": {},
     "output_type": "execute_result"
    }
   ],
   "source": [
    "theme(:dao::Symbol)\n",
    "\n",
    "comparison = plot(x, [u.(x, ϵ1)],\n",
    "    labels=\"Two-term approx., \"*L\"$\\epsilon=$\"*\"$ϵ1\",\n",
    "    line=(3, :solid)\n",
    "    )\n",
    "comparison = plot!(sol,\n",
    "    idxs=[1],\n",
    "    line=(3, :dash),\n",
    "    label=\"Exact Solution, \"*L\"$\\epsilon=$\"*\"$ϵ1\",\n",
    "    title=\"Solution Comparison\",\n",
    "    legend=:best,\n",
    "    xlabel=L\"$x$\",\n",
    "    ylabel=L\"$u(x)$\",\n",
    "    titlefontsize=20,\n",
    "    tickfontsize=12,\n",
    "    legendfontsize=10,\n",
    "    yguidefontsize=15,\n",
    "    xguidefontsize=15,\n",
    "    )\n",
    "comparison\n",
    "# savefig(comparison, \"Aero_Exam1_Prob1_compare.pdf\")"
   ]
  },
  {
   "cell_type": "code",
   "execution_count": null,
   "metadata": {},
   "outputs": [
    {
     "data": {
      "text/plain": [
       "\"/home/belster/JuliaFiles/Aero/exam1/Aero_Exam1_Prob1_diff.pdf\""
      ]
     },
     "execution_count": 110,
     "metadata": {},
     "output_type": "execute_result"
    }
   ],
   "source": [
    "diffplot= plot(x, difference,\n",
    "    label=\"exact - approx, \"*L\"$\\epsilon=$\"*\"$ϵ1\",\n",
    "    line=(3, :solid),\n",
    "    title=\"Relative Error in Solution\",\n",
    "    legend=:best,\n",
    "    xlabel=L\"$x$\",\n",
    "    ylabel=L\"$u(x)$\",\n",
    "    titlefontsize=20,\n",
    "    tickfontsize=12,\n",
    "    legendfontsize=10,\n",
    "    yguidefontsize=15,\n",
    "    xguidefontsize=15,\n",
    "    )\n",
    "diffplot\n",
    "# savefig(diffplot, \"Aero_Exam1_Prob1_diff.pdf\")"
   ]
  }
 ],
 "metadata": {
  "kernelspec": {
   "display_name": "Julia 1.10.4",
   "language": "julia",
   "name": "julia-1.10"
  },
  "language_info": {
   "file_extension": ".jl",
   "mimetype": "application/julia",
   "name": "julia",
   "version": "1.10.4"
  }
 },
 "nbformat": 4,
 "nbformat_minor": 2
}
