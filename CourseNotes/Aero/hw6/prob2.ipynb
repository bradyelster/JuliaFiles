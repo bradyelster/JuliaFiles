{
 "cells": [
  {
   "cell_type": "code",
   "execution_count": 8,
   "metadata": {},
   "outputs": [],
   "source": [
    "using Plots\n",
    "using LaTeXStrings\n",
    "using Printf\n",
    "using BoundaryValueDiffEq"
   ]
  },
  {
   "cell_type": "code",
   "execution_count": 9,
   "metadata": {},
   "outputs": [],
   "source": [
    "domain = (0.0, 1.0)\n",
    "α = 1.0\n",
    "β = 2.0\n",
    "ϵ = 0.1\n",
    "ϵ2 = 0.01;"
   ]
  },
  {
   "cell_type": "code",
   "execution_count": 10,
   "metadata": {},
   "outputs": [
    {
     "data": {
      "text/plain": [
       "prob2! (generic function with 1 method)"
      ]
     },
     "execution_count": 10,
     "metadata": {},
     "output_type": "execute_result"
    }
   ],
   "source": [
    "# Differential equation definition\n",
    "function prob2!(dv, v, p, x)\n",
    "    @views dv[1] = v[2]\n",
    "    @views dv[2] = (v[2] + 2*x) / p  # Solve for the current epsilon\n",
    "    return dv\n",
    "end"
   ]
  },
  {
   "cell_type": "code",
   "execution_count": 11,
   "metadata": {},
   "outputs": [
    {
     "data": {
      "text/plain": [
       "bc2! (generic function with 1 method)"
      ]
     },
     "execution_count": 11,
     "metadata": {},
     "output_type": "execute_result"
    }
   ],
   "source": [
    "# Boundary conditions\n",
    "function bc2!(residual, u, p, x)\n",
    "    residual[1] = u[1][1] - α\n",
    "    residual[2] = u[end][1] - β\n",
    "end"
   ]
  },
  {
   "cell_type": "code",
   "execution_count": 12,
   "metadata": {},
   "outputs": [],
   "source": [
    "# Define the problem and solve for the current epsilon\n",
    "u0 = [α, 0.0]\n",
    "\n",
    "bvp1 = BVProblem(prob2!, bc2!, u0, domain, ϵ)\n",
    "bvp2 = BVProblem(prob2!, bc2!, u0, domain, ϵ2)\n",
    "\n",
    "sol1 = solve(bvp1, MIRK4(), dt = 0.01);\n",
    "sol2 = solve(bvp2, MIRK4(), dt = 0.01);"
   ]
  },
  {
   "cell_type": "code",
   "execution_count": 13,
   "metadata": {},
   "outputs": [],
   "source": [
    "x = collect(LinRange(0,1,1000))\n",
    "z(x) =(x-1) / ϵ\n",
    "\n",
    "A = β - α\n",
    "B = 2\n",
    "\n",
    "composite(x, ϵ) = α + β - x^2 + A*(exp.(z(x)) - 1) - 2*x + ϵ*(B*(exp.(z(x))-1) -2*x);"
   ]
  },
  {
   "cell_type": "code",
   "execution_count": 15,
   "metadata": {},
   "outputs": [
    {
     "data": {
      "text/plain": [
       "\"/home/belster12/JuliaFiles/Aero/hw6/Aero_HW6_Prob2_exact.pdf\""
      ]
     },
     "execution_count": 15,
     "metadata": {},
     "output_type": "execute_result"
    }
   ],
   "source": [
    "theme(:dao::Symbol)\n",
    "plt = plot(sol1,\n",
    "    idxs=[1],\n",
    "    label=\"exact \"*L\"$(\\varepsilon=%$ϵ)$\",\n",
    "    xlabel = L\"$x$\",  # Explicitly set the x-axis label\n",
    "    ylabel = L\"$y(x)$\",\n",
    "    title = \"Problem 2 Exact Solutions\",\n",
    "    legend = :best,\n",
    "    titlefontsize = 20,\n",
    "    tickfontsize = 12,\n",
    "    legendfontsize = 10,\n",
    "    yguidefontsize = 15,\n",
    "    xguidefontsize = 15,\n",
    "    line = (3, :solid),\n",
    "    right_margin = 2 * Plots.mm)\n",
    "plot!(plt, sol2,\n",
    "    idxs=[1],\n",
    "    label=\"exact \"*L\"$(\\varepsilon=%$ϵ2)$\",\n",
    "    xlabel = L\"$x$\",\n",
    "    line = (3, :solid))\n",
    "savefig(plt, \"Aero_HW6_Prob2_exact.pdf\")"
   ]
  },
  {
   "cell_type": "code",
   "execution_count": null,
   "metadata": {},
   "outputs": [],
   "source": []
  }
 ],
 "metadata": {
  "kernelspec": {
   "display_name": "Julia 1.11.1",
   "language": "julia",
   "name": "julia-1.11"
  },
  "language_info": {
   "file_extension": ".jl",
   "mimetype": "application/julia",
   "name": "julia",
   "version": "1.11.1"
  }
 },
 "nbformat": 4,
 "nbformat_minor": 2
}
