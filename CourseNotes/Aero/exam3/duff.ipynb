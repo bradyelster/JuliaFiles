{
 "cells": [
  {
   "cell_type": "code",
   "execution_count": 21,
   "metadata": {},
   "outputs": [],
   "source": [
    "using OrdinaryDiffEq, LaTeXStrings, Plots, Printf;\n"
   ]
  },
  {
   "cell_type": "code",
   "execution_count": 22,
   "metadata": {},
   "outputs": [
    {
     "data": {
      "text/plain": [
       "0.01"
      ]
     },
     "execution_count": 22,
     "metadata": {},
     "output_type": "execute_result"
    }
   ],
   "source": [
    "tspan = (0.0, 100.0);\n",
    "ϵ = 0.1\n",
    "ϵ2 = 0.01\n"
   ]
  },
  {
   "cell_type": "code",
   "execution_count": 23,
   "metadata": {},
   "outputs": [
    {
     "data": {
      "text/plain": [
       "duff1! (generic function with 1 method)"
      ]
     },
     "execution_count": 23,
     "metadata": {},
     "output_type": "execute_result"
    }
   ],
   "source": [
    "function duff1!(dv, v, p, t)\n",
    "    u = v[1]\n",
    "    du = v[2]\n",
    "    dv[1] = du\n",
    "    return dv[2] = -u - ϵ * u^3\n",
    "end\n"
   ]
  },
  {
   "cell_type": "code",
   "execution_count": 24,
   "metadata": {},
   "outputs": [
    {
     "data": {
      "text/plain": [
       "duff2! (generic function with 1 method)"
      ]
     },
     "execution_count": 24,
     "metadata": {},
     "output_type": "execute_result"
    }
   ],
   "source": [
    "function duff2!(dv, v, p, t)\n",
    "    u = v[1]\n",
    "    du = v[2]\n",
    "    dv[1] = du\n",
    "    return dv[2] = -u - ϵ2 * u^3\n",
    "end\n"
   ]
  },
  {
   "cell_type": "code",
   "execution_count": 25,
   "metadata": {},
   "outputs": [],
   "source": [
    "u0 = [1, 0]\n",
    "\n",
    "prob1 = ODEProblem(duff1!, u0, tspan)\n",
    "prob2 = ODEProblem(duff2!, u0, tspan)\n",
    "\n",
    "sol1 = solve(prob1, Tsit5(), reltol = 1.0e-8, abstol = 1.0e-8);\n",
    "sol2 = solve(prob2, Tsit5(), reltol = 1.0e-8, abstol = 1.0e-8);\n"
   ]
  },
  {
   "cell_type": "code",
   "execution_count": 26,
   "metadata": {},
   "outputs": [
    {
     "data": {
      "text/plain": [
       "\"/home/belster/JuliaFiles/Aero/exam3/Aero_Exam3_Duff_exact.pdf\""
      ]
     },
     "execution_count": 26,
     "metadata": {},
     "output_type": "execute_result"
    }
   ],
   "source": [
    "theme(:dao::Symbol)\n",
    "plot(\n",
    "    sol2,\n",
    "    idxs = [1],\n",
    "    line = (3, :solid),\n",
    "    label = L\"Exact $\\epsilon = $%$ϵ2\"\n",
    ")\n",
    "plot!(\n",
    "    sol1,\n",
    "    idxs = [1],\n",
    "    line = (3, :solid),\n",
    "    label = L\"Exact $\\epsilon = $%$ϵ\",\n",
    "    title = \"Duffing Oscillator\",\n",
    "    xlabel = L\"$t$\",\n",
    "    ylabel = L\"$x(t)$\",\n",
    "    legend = :best,\n",
    "    titlefontsize = 20,\n",
    "    tickfontsize = 12,\n",
    "    legendfontsize = 10,\n",
    "    yguidefontsize = 15,\n",
    "    xguidefontsize = 15,\n",
    "    right_margin = 2 * Plots.mm,\n",
    "    xlims = (0, 20)\n",
    ")\n",
    "savefig(\"Aero_Exam3_Duff_exact.pdf\")\n"
   ]
  },
  {
   "cell_type": "code",
   "execution_count": 27,
   "metadata": {},
   "outputs": [],
   "source": [
    "approx(ϵ, t) = cos((1 + ϵ * (3 / 8)) * t) + (ϵ / 32) * (cos(3 * (1 + ϵ * (3 / 8)) * t) - cos((1 + ϵ * (3 / 8)) * t))\n",
    "\n",
    "tvals = LinRange(0, 100, 100_000);\n"
   ]
  },
  {
   "cell_type": "code",
   "execution_count": 28,
   "metadata": {},
   "outputs": [
    {
     "data": {
      "text/plain": [
       "\"/home/belster/JuliaFiles/Aero/exam3/Aero_Exam3_Duff_compare2.pdf\""
      ]
     },
     "execution_count": 28,
     "metadata": {},
     "output_type": "execute_result"
    }
   ],
   "source": [
    "plot(\n",
    "    sol2,\n",
    "    idxs = [1],\n",
    "    line = (3, :solid),\n",
    "    label = L\"Exact $\\epsilon = $%$ϵ2\",\n",
    "    # xlims = (0, 20)\n",
    ")\n",
    "\n",
    "plot!(\n",
    "    tvals, [(approx.(ϵ2, tvals))],\n",
    "    line = (3, :dash),\n",
    "    label = L\"Approx $\\epsilon = $%$ϵ2\",\n",
    "    legend = :best,\n",
    "    title = \"Duffing Oscillator\",\n",
    "    xlabel = L\"$t$\",\n",
    "    ylabel = L\"$u(t)$\",\n",
    "    titlefontsize = 20,\n",
    "    tickfontsize = 12,\n",
    "    legendfontsize = 10,\n",
    "    yguidefontsize = 15,\n",
    "    xguidefontsize = 15,\n",
    "    right_margin = 2 * Plots.mm,\n",
    "    xlims = (0, 20)\n",
    ")\n",
    "savefig(\"Aero_Exam3_Duff_compare2.pdf\")\n"
   ]
  },
  {
   "cell_type": "code",
   "execution_count": 29,
   "metadata": {},
   "outputs": [
    {
     "data": {
      "text/plain": [
       "\"/home/belster/JuliaFiles/Aero/exam3/Aero_Exam3_Duff_compare1.pdf\""
      ]
     },
     "execution_count": 29,
     "metadata": {},
     "output_type": "execute_result"
    }
   ],
   "source": [
    "plot(\n",
    "    sol1,\n",
    "    idxs = [1],\n",
    "    line = (3, :solid),\n",
    "    label = L\"Exact $\\epsilon = $%$ϵ\",\n",
    "    # xlims = (0, 20)\n",
    ")\n",
    "\n",
    "plot!(\n",
    "    tvals, [(approx.(ϵ, tvals))],\n",
    "    line = (3, :dash),\n",
    "    label = L\"Approx $\\epsilon = $%$ϵ\",\n",
    "    legend = :best,\n",
    "    title = \"Duffing Oscillator\",\n",
    "    xlabel = L\"$t$\",\n",
    "    ylabel = L\"$u(t)$\",\n",
    "    titlefontsize = 20,\n",
    "    tickfontsize = 12,\n",
    "    legendfontsize = 10,\n",
    "    yguidefontsize = 15,\n",
    "    xguidefontsize = 15,\n",
    "    right_margin = 2 * Plots.mm,\n",
    "    xlims = (0, 20)\n",
    ")\n",
    "savefig(\"Aero_Exam3_Duff_compare1.pdf\")\n"
   ]
  }
 ],
 "metadata": {
  "kernelspec": {
   "display_name": "Julia 1.11.1",
   "language": "julia",
   "name": "julia-1.11"
  },
  "language_info": {
   "file_extension": ".jl",
   "mimetype": "application/julia",
   "name": "julia",
   "version": "1.11.1"
  }
 },
 "nbformat": 4,
 "nbformat_minor": 2
}
