{
 "cells": [
  {
   "cell_type": "code",
   "execution_count": 17,
   "metadata": {},
   "outputs": [],
   "source": [
    "using DifferentialEquations\n",
    "using LaTeXStrings\n",
    "using Plots"
   ]
  },
  {
   "cell_type": "code",
   "execution_count": 18,
   "metadata": {},
   "outputs": [],
   "source": [
    "tspan = (0.0, 15.0);\n",
    "a = 1.0;\n",
    "ϵ = 0.1;"
   ]
  },
  {
   "cell_type": "code",
   "execution_count": 19,
   "metadata": {},
   "outputs": [
    {
     "data": {
      "text/plain": [
       "prob4! (generic function with 1 method)"
      ]
     },
     "execution_count": 19,
     "metadata": {},
     "output_type": "execute_result"
    }
   ],
   "source": [
    "function prob4!(dv, v, p, t)\n",
    "    u = v[1]\n",
    "    du = v[2]\n",
    "    dv[1] = du\n",
    "    dv[2] = ϵ*u^2 - u\n",
    "end"
   ]
  },
  {
   "cell_type": "code",
   "execution_count": 20,
   "metadata": {},
   "outputs": [],
   "source": [
    "u0 = [a, 0]\n",
    "prob = ODEProblem(prob4!, u0, tspan)\n",
    "sol = solve(prob, Tsit5(), reltol = 1e-8, abstol = 1e-8);"
   ]
  },
  {
   "cell_type": "markdown",
   "metadata": {},
   "source": [
    "\\begin{equation}\n",
    "\\begin{aligned}\n",
    "u(t) & \\sim a \\cos (t) \\\\\n",
    "& +\\frac{2}{3} a^2 \\epsilon \\sin ^2\\left(\\frac{t}{2}\\right)(\\cos (t)+2) \\\\\n",
    "& +\\frac{1}{144} a^3 \\epsilon^2(60 t \\sin (t)+29 \\cos (t)+16 \\cos (2 t)+3 \\cos (3 t)-48)\n",
    "\\end{aligned}\n",
    "\\end{equation}"
   ]
  },
  {
   "cell_type": "code",
   "execution_count": 28,
   "metadata": {},
   "outputs": [],
   "source": [
    "tvals = LinRange(tspan[1], tspan[2], 5000)\n",
    "approx(t) = a*cos(t) + (2/3)*a^2*ϵ*sin(t/2)^2*(cos(t) + 2) + (1/144)*a^3*ϵ^2*(60*t*sin(t)+29*cos(t)+16*cos(2*t)+3*cos(3*t)-48);\n",
    "threeterm(t) = a*cos(t) + (2/3)*a^2*ϵ*sin(t/2)^2*(cos(t) + 2);"
   ]
  },
  {
   "cell_type": "code",
   "execution_count": 27,
   "metadata": {},
   "outputs": [
    {
     "data": {
      "text/plain": [
       "\"/home/belster/JuliaFiles/Aero/hw3/Aero_HW3_Prob4_compare.pdf\""
      ]
     },
     "execution_count": 27,
     "metadata": {},
     "output_type": "execute_result"
    }
   ],
   "source": [
    "theme(:dao::Symbol)\n",
    "\n",
    "compare = plot(tvals, approx.(tvals), \n",
    "    line=(3, :solid),\n",
    "    label=\"approx\")\n",
    "compare = plot!(sol,\n",
    "    idxs=[1],\n",
    "    line=(3, :dash),\n",
    "    label=\"exact\",\n",
    "    legend=:best,\n",
    "    title=\"Solution Comparison, \"*L\"$\\varepsilon = $\"*\"$ϵ\",\n",
    "    xlabel=L\"$t$\",\n",
    "    ylabel=L\"$u(t)$\",\n",
    "    titlefontsize=20,\n",
    "    tickfontsize=12,\n",
    "    legendfontsize=10,\n",
    "    yguidefontsize=15,\n",
    "    xguidefontsize=15,)\n",
    "compare\n",
    "savefig(compare, \"Aero_HW3_Prob4_compare.pdf\")"
   ]
  },
  {
   "cell_type": "code",
   "execution_count": 31,
   "metadata": {},
   "outputs": [
    {
     "data": {
      "text/plain": [
       "\"/home/belster/JuliaFiles/Aero/hw3/Aero_HW3_Prob4_compare_3term.pdf\""
      ]
     },
     "execution_count": 31,
     "metadata": {},
     "output_type": "execute_result"
    }
   ],
   "source": [
    "compare3 = plot(tvals, approx.(tvals), \n",
    "    line=(3, :solid),\n",
    "    label=\"Three-term\")\n",
    "compare3 = plot!(sol,\n",
    "    idxs=[1],\n",
    "    line=(3, :dash),\n",
    "    label=\"Exact\",\n",
    "    legend=:best,\n",
    "    title=\"Three-Term Comparison, \"*L\"$\\varepsilon = $\"*\"$ϵ\",\n",
    "    xlabel=L\"$t$\",\n",
    "    ylabel=L\"$u(t)$\",\n",
    "    titlefontsize=20,\n",
    "    tickfontsize=12,\n",
    "    legendfontsize=10,\n",
    "    yguidefontsize=15,\n",
    "    xguidefontsize=15,)\n",
    "compare3\n",
    "savefig(compare3, \"Aero_HW3_Prob4_compare_3term.pdf\")"
   ]
  },
  {
   "cell_type": "code",
   "execution_count": null,
   "metadata": {},
   "outputs": [],
   "source": []
  }
 ],
 "metadata": {
  "kernelspec": {
   "display_name": "Julia 1.10.4",
   "language": "julia",
   "name": "julia-1.10"
  },
  "language_info": {
   "file_extension": ".jl",
   "mimetype": "application/julia",
   "name": "julia",
   "version": "1.10.4"
  }
 },
 "nbformat": 4,
 "nbformat_minor": 2
}
