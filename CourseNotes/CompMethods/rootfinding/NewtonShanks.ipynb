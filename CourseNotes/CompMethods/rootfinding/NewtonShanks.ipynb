{
 "cells": [
  {
   "cell_type": "code",
   "execution_count": 69,
   "metadata": {},
   "outputs": [],
   "source": [
    "using ForwardDiff"
   ]
  },
  {
   "cell_type": "code",
   "execution_count": 70,
   "metadata": {},
   "outputs": [
    {
     "data": {
      "text/plain": [
       "newton_method (generic function with 1 method)"
      ]
     },
     "execution_count": 70,
     "metadata": {},
     "output_type": "execute_result"
    }
   ],
   "source": [
    "using ForwardDiff\n",
    "\n",
    "function newton_method(f, x0; tol=1e-8, max_iter=100)\n",
    "    \"\"\"\n",
    "    Find the root of a 1D function using Newton's method with automatic differentiation.\n",
    "\n",
    "    Parameters:\n",
    "    f (Function): The function for which to find the root.\n",
    "    x0 (Real): Initial guess for the root.\n",
    "    tol (Real): Tolerance for convergence (default: 1e-8).\n",
    "    max_iter (Int): Maximum number of iterations (default: 100).\n",
    "\n",
    "    Returns:\n",
    "    Real: The estimated root.\n",
    "    Int: Number of iterations performed.\n",
    "    Bool: Whether the method converged.\n",
    "    Vector{Float64}: Array of successive guesses for the root.\n",
    "    \"\"\"\n",
    "    x = x0\n",
    "    guesses = Float64[]  # Initialize an empty array to store guesses\n",
    "    # push!(guesses, x0)   # Include the initial guess in the array\n",
    "\n",
    "    for i in 1:max_iter\n",
    "        # Compute the function value and its derivative using ForwardDiff\n",
    "        f_x = f(x)\n",
    "        f_prime_x = ForwardDiff.derivative(f, x)\n",
    "\n",
    "        # Check if the derivative is zero to avoid division by zero\n",
    "        if abs(f_prime_x) < tol\n",
    "            println(\"Derivative is too close to zero. Stopping iteration.\")\n",
    "            return x, i, false, guesses\n",
    "        end\n",
    "\n",
    "        # Newton's update\n",
    "        x_new = x - f_x / f_prime_x\n",
    "\n",
    "        # Store the new guess in the array\n",
    "        push!(guesses, x_new)\n",
    "\n",
    "        # Check for convergence\n",
    "        if abs(x_new - x) < tol\n",
    "            return x_new, i, true, guesses\n",
    "        end\n",
    "\n",
    "        # Update x\n",
    "        x = x_new\n",
    "    end\n",
    "\n",
    "    # If max_iter is reached without convergence\n",
    "    println(\"Maximum iterations reached. Stopping.\")\n",
    "    return x, max_iter, false, guesses\n",
    "end"
   ]
  },
  {
   "cell_type": "code",
   "execution_count": 71,
   "metadata": {},
   "outputs": [],
   "source": [
    "f(x) = 0.2 + x^2 - 3*x*cos(2*x);\n",
    "g(x) = 0.1 + x^3 - 2*x*sin(5*x);"
   ]
  },
  {
   "cell_type": "code",
   "execution_count": null,
   "metadata": {},
   "outputs": [
    {
     "name": "stdout",
     "output_type": "stream",
     "text": [
      "Estimated root: 0.6251564275801937\n",
      "Number of iterations: 6\n",
      "Converged: true\n",
      "Successive guesses for root: [0.7187066637427939, 0.6378011291931867, 0.6254657277759242, 0.6251566222683084, 0.625156427580271, 0.6251564275801937]\n"
     ]
    }
   ],
   "source": [
    "fx0 = 1;\n",
    "# gx0 = -0.625;\n",
    "\n",
    "# Call Newton's method\n",
    "root, iterations, converged, guesses = newton_method(f, fx0)\n",
    "\n",
    "# Print results\n",
    "println(\"Estimated root: \", root)\n",
    "println(\"Number of iterations: \", iterations)\n",
    "println(\"Converged: \", converged)\n",
    "# println(\"Successive guesses for root: \", guesses)"
   ]
  },
  {
   "cell_type": "code",
   "execution_count": 73,
   "metadata": {},
   "outputs": [
    {
     "data": {
      "text/plain": [
       "shanks_transformation_table (generic function with 1 method)"
      ]
     },
     "execution_count": 73,
     "metadata": {},
     "output_type": "execute_result"
    }
   ],
   "source": [
    "function shanks_transformation_table(S)\n",
    "    \"\"\"\n",
    "    Compute the Shanks transformation for a sequence of partial sums S and print the results as a table.\n",
    "\n",
    "    Parameters:\n",
    "    S (Vector{<:Real}): A vector of partial sums of a series.\n",
    "\n",
    "    Returns:\n",
    "    Nothing (prints the table directly).\n",
    "    \"\"\"\n",
    "    n = length(S)\n",
    "    transformed_sequences = Vector{Vector{Real}}()\n",
    "    push!(transformed_sequences, S)  # Level 0: original sequence\n",
    "\n",
    "    # Apply Shanks transformation iteratively\n",
    "    while true\n",
    "        current_sequence = transformed_sequences[end]\n",
    "        m = length(current_sequence)\n",
    "        if m < 3\n",
    "            break  # Need at least 3 terms to compute the transformation\n",
    "        end\n",
    "\n",
    "        # Compute the next level of Shanks transformation\n",
    "        next_sequence = Real[]\n",
    "        for i in 1:(m - 2)\n",
    "            numerator = current_sequence[i+2] * current_sequence[i] - current_sequence[i+1]^2\n",
    "            denominator = current_sequence[i+2] + current_sequence[i] - 2 * current_sequence[i+1]\n",
    "            if denominator == 0\n",
    "                push!(next_sequence, NaN)  # Avoid division by zero\n",
    "            else\n",
    "                push!(next_sequence, numerator / denominator)\n",
    "            end\n",
    "        end\n",
    "\n",
    "        push!(transformed_sequences, next_sequence)\n",
    "    end\n",
    "\n",
    "    # Print the table\n",
    "    max_length = maximum(length(seq) for seq in transformed_sequences)\n",
    "    println(\"Shanks Transformation Table:\")\n",
    "    println(\"--------------------------------------------------------------\")\n",
    "    for i in 1:max_length\n",
    "        for seq in transformed_sequences\n",
    "            if i <= length(seq)\n",
    "                # Convert the number to a string and pad it for alignment\n",
    "                value_str = string(round(seq[i], digits=8))\n",
    "                print(lpad(value_str, 12), \"  \")\n",
    "            else\n",
    "                print(\" \" ^ 12, \"  \")  # Padding for alignment\n",
    "            end\n",
    "        end\n",
    "        println()\n",
    "    end\n",
    "    println(\"--------------------------------------------------------------\")\n",
    "end"
   ]
  },
  {
   "cell_type": "code",
   "execution_count": 74,
   "metadata": {},
   "outputs": [],
   "source": [
    "#=\n",
    "# Compute partial sums of the series\n",
    "function compute_partial_sums(n)\n",
    "    S = Float64[]\n",
    "    partial_sum = 0.0\n",
    "    for k in 0:(n-1)\n",
    "        partial_sum += (-1)^k / (2k + 1)\n",
    "        push!(S, 4 * partial_sum)\n",
    "    end\n",
    "    return S\n",
    "end\n",
    "\n",
    "# Generate partial sums\n",
    "partial_sums = compute_partial_sums(10)\n",
    "\n",
    "# Print the Shanks transformation table\n",
    "shanks_transformation_table(partial_sums)\n",
    "=#"
   ]
  },
  {
   "cell_type": "code",
   "execution_count": 87,
   "metadata": {},
   "outputs": [
    {
     "name": "stdout",
     "output_type": "stream",
     "text": [
      "Shanks Transformation Table:\n",
      "--------------------------------------------------------------\n",
      "  0.63780113    0.62514868  \n",
      "  0.62546573    0.62515643  \n",
      "  0.62515662                \n",
      "  0.62515643                \n",
      "--------------------------------------------------------------\n"
     ]
    }
   ],
   "source": [
    "shanks_transformation_table(guesses[2:5])"
   ]
  },
  {
   "cell_type": "code",
   "execution_count": 76,
   "metadata": {},
   "outputs": [
    {
     "data": {
      "text/plain": [
       "bisection (generic function with 3 methods)"
      ]
     },
     "execution_count": 76,
     "metadata": {},
     "output_type": "execute_result"
    }
   ],
   "source": [
    "function bisection(f, a, b; tol=1e-6, max_iter=100)\n",
    "    # Check if the initial interval has a root\n",
    "    if f(a) * f(b) >= 0\n",
    "        error(\"Function must have opposite signs at interval endpoints\")\n",
    "    end\n",
    "    \n",
    "    # Initialize iteration counter and interval endpoints\n",
    "    left = a\n",
    "    right = b\n",
    "    f_left = f(left)\n",
    "    f_right = f(right)\n",
    "    \n",
    "    #println(\"\\nStarting bisection method with interval [\", left, \", \", right, \"]\")\n",
    "    #println(\"f(left) = \", f_left)\n",
    "    #println(\"f(right) = \", f_right)\n",
    "    \n",
    "    # Track the width of our interval for convergence checking\n",
    "    interval_width = right - left\n",
    "\n",
    "    guesses = Float64[]\n",
    "    \n",
    "\n",
    "    for iter in 1:max_iter\n",
    "        # Calculate interval information\n",
    "        interval_width = right - left\n",
    "        mid = (left + right) / 2\n",
    "        push!(guesses, mid)\n",
    "\n",
    "        f_mid = f(mid)\n",
    "        \n",
    "        # Print current iteration details\n",
    "        #println(\"\\nIteration \", iter, \":\")\n",
    "        #println(\"Current interval: [\", left, \", \", right, \"]\")\n",
    "        #println(\"Interval width: \", interval_width)\n",
    "        #println(\"Midpoint = \", mid)\n",
    "        #println(\"f(midpoint) = \", f_mid)\n",
    "        \n",
    "        # Check if we found exact root (unlikely with floating-point)\n",
    "        if f_mid == 0\n",
    "            #println(\"\\nExact root found!\")\n",
    "            return mid, guesses\n",
    "        end\n",
    "        \n",
    "        # Determine which half of interval contains the root\n",
    "        if f_left * f_mid < 0\n",
    "            # Root is in left half\n",
    "            right = mid\n",
    "            #println(\"Root is in left half - updating right endpoint\")\n",
    "        else\n",
    "            # Root is in right half\n",
    "            left = mid\n",
    "            f_left = f_mid\n",
    "            #println(\"Root is in right half - updating left endpoint\")\n",
    "        end\n",
    "        \n",
    "        # Check for convergence based on interval width\n",
    "        if interval_width < tol\n",
    "            #println(\"\\nConverged! Final interval width \", interval_width, \" is less than tolerance \", tol)\n",
    "            final_approximation = (left + right) / 2\n",
    "            #println(\"Final approximation: \", final_approximation)\n",
    "            #println(\"f(approximation) = \", f(final_approximation))\n",
    "            return final_approximation, guesses\n",
    "        end\n",
    "    end\n",
    "    \n",
    "    # If we reach here, we've hit max iterations without converging\n",
    "    @warn \"Maximum iterations reached. The method may not have converged.\"\n",
    "    return (left + right) / 2, guesses\n",
    "end"
   ]
  },
  {
   "cell_type": "code",
   "execution_count": 77,
   "metadata": {},
   "outputs": [
    {
     "data": {
      "text/plain": [
       "(0.6251566410064697, [1.0, 0.75, 0.625, 0.6875, 0.65625, 0.640625, 0.6328125, 0.62890625, 0.626953125, 0.6259765625  …  0.625244140625, 0.6251220703125, 0.62518310546875, 0.625152587890625, 0.6251678466796875, 0.6251602172851562, 0.6251564025878906, 0.6251583099365234, 0.625157356262207, 0.6251568794250488])"
      ]
     },
     "execution_count": 77,
     "metadata": {},
     "output_type": "execute_result"
    }
   ],
   "source": [
    "root, guesses_bi = bisection(f, 0.5, 1.5)\n",
    "# root, guesses_bi = bisection(g, -1, -0.25)"
   ]
  },
  {
   "cell_type": "code",
   "execution_count": 85,
   "metadata": {},
   "outputs": [
    {
     "name": "stdout",
     "output_type": "stream",
     "text": [
      "Shanks Transformation Table:\n",
      "--------------------------------------------------------------\n",
      "        0.75    0.66666667    0.66666667  \n",
      "       0.625    0.66666667                \n",
      "      0.6875         0.625                \n",
      "     0.65625                              \n",
      "    0.640625                              \n",
      "--------------------------------------------------------------\n"
     ]
    }
   ],
   "source": [
    "shanks_transformation_table(guesses_bi[2:6])"
   ]
  },
  {
   "cell_type": "code",
   "execution_count": null,
   "metadata": {},
   "outputs": [],
   "source": []
  }
 ],
 "metadata": {
  "kernelspec": {
   "display_name": "Julia 1.11.1",
   "language": "julia",
   "name": "julia-1.11"
  },
  "language_info": {
   "file_extension": ".jl",
   "mimetype": "application/julia",
   "name": "julia",
   "version": "1.11.1"
  }
 },
 "nbformat": 4,
 "nbformat_minor": 2
}
