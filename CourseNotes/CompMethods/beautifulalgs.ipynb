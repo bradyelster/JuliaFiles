{
 "cells": [
  {
   "cell_type": "code",
   "execution_count": null,
   "id": "f98da613",
   "metadata": {},
   "outputs": [
    {
     "data": {
      "text/plain": [
       "bisection2 (generic function with 2 methods)"
      ]
     },
     "execution_count": 93,
     "metadata": {},
     "output_type": "execute_result"
    }
   ],
   "source": [
    "function bisection(f, a, b, tol=eps(Float64))\n",
    "    f(a) * f(b) ≤ 0 || throw(ArgumentError(\"root not bracketed in [$a, $b]\"))\n",
    "    while abs(b - a) > tol\n",
    "        c = (a + b) / 2\n",
    "        f(a) * f(c) ≤ 0 ? b = c : a = c\n",
    "    end\n",
    "    (a + b) / 2\n",
    "end"
   ]
  },
  {
   "cell_type": "code",
   "execution_count": 94,
   "id": "9e7ad9c2",
   "metadata": {},
   "outputs": [
    {
     "data": {
      "text/plain": [
       "blah (generic function with 1 method)"
      ]
     },
     "execution_count": 94,
     "metadata": {},
     "output_type": "execute_result"
    }
   ],
   "source": [
    "blah(x) = x^2 - 4"
   ]
  },
  {
   "cell_type": "code",
   "execution_count": 95,
   "id": "75f1b3e2",
   "metadata": {},
   "outputs": [
    {
     "data": {
      "text/plain": [
       "1.9999999999708962"
      ]
     },
     "execution_count": 95,
     "metadata": {},
     "output_type": "execute_result"
    }
   ],
   "source": [
    "bisection(blah, 0, 2)"
   ]
  },
  {
   "cell_type": "code",
   "execution_count": 96,
   "id": "4ae9868f",
   "metadata": {},
   "outputs": [
    {
     "data": {
      "text/plain": [
       "2.0"
      ]
     },
     "execution_count": 96,
     "metadata": {},
     "output_type": "execute_result"
    }
   ],
   "source": [
    "bisection2(blah, 0, 5)"
   ]
  }
 ],
 "metadata": {
  "kernelspec": {
   "display_name": "Julia 1.11.7",
   "language": "julia",
   "name": "julia-1.11.7-1.11"
  },
  "language_info": {
   "file_extension": ".jl",
   "mimetype": "application/julia",
   "name": "julia",
   "version": "1.11.7"
  }
 },
 "nbformat": 4,
 "nbformat_minor": 5
}
