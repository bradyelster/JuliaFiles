{
 "cells": [
  {
   "cell_type": "markdown",
   "metadata": {},
   "source": [
    "### _*Struct*_: A data \"structure\" that groups related variables under one name.\n",
    "- can contain many different data types\n",
    "- variables in a stuct are known as \"fields\" or \"members\"\n",
    "- Type Declaration - the definition of a struct using the `struct` keyword\n",
    "- Concrete Type - a type that can be instantiated (most common structs are concrete)\n",
    "- Abstract Type - a type that cannot be instantiated, used for hierarchy\n",
    "- Structs are immutable by default in Julia\n",
    "- Constructors - methods for creating new instances"
   ]
  },
  {
   "cell_type": "code",
   "execution_count": null,
   "metadata": {},
   "outputs": [
    {
     "data": {
      "text/plain": [
       "Temperature"
      ]
     },
     "execution_count": 9,
     "metadata": {},
     "output_type": "execute_result"
    }
   ],
   "source": [
    "struct Temperature\n",
    "    kelvin::Float64\n",
    "    \n",
    "    # Inner constructor\n",
    "    function Temperature(k::Float64)\n",
    "        if k < 0\n",
    "            throw(ArgumentError(\"Temperature cannot be below absolute zero\"))\n",
    "        end\n",
    "        new(k)\n",
    "    end\n",
    "end\n",
    "\n",
    "# Outer constructor\n",
    "function Temperature(celsius::Float64, unit::String=\"C\")\n",
    "    if unit == \"C\"\n",
    "        return Temperature(celsius + 273.15)\n",
    "    elseif unit == \"F\"\n",
    "        return Temperature((celsius - 32) * 5/9 + 273.15)\n",
    "    end\n",
    "end"
   ]
  },
  {
   "cell_type": "markdown",
   "metadata": {},
   "source": [
    "# Structs are useful in all kinds of ways.\n",
    "___"
   ]
  },
  {
   "cell_type": "markdown",
   "metadata": {},
   "source": [
    "### Example 1: Passing-in Simulation Parameters"
   ]
  },
  {
   "cell_type": "code",
   "execution_count": 4,
   "metadata": {},
   "outputs": [],
   "source": [
    "# Example 1: Simulation Parameters Struct\n",
    "struct SimulationParameters\n",
    "    # Numerical parameters\n",
    "    dt::Float64                # timestep\n",
    "    total_time::Float64       # total simulation time\n",
    "    tolerance::Float64        # convergence tolerance\n",
    "    \n",
    "    # Physical parameters\n",
    "    temperature::Float64      # system temperature\n",
    "    pressure::Float64        # system pressure\n",
    "    volume::Float64          # system volume\n",
    "    \n",
    "    # Boundary conditions\n",
    "    periodic::Bool           # periodic boundaries?\n",
    "    boundary_type::String    # type of boundary conditions\n",
    "    \n",
    "    # Constructor with default values\n",
    "    function SimulationParameters(;\n",
    "        dt=1e-3,\n",
    "        total_time=1.0,\n",
    "        tolerance=1e-6,\n",
    "        temperature=300.0,\n",
    "        pressure=1.0,\n",
    "        volume=1.0,\n",
    "        periodic=true,\n",
    "        boundary_type=\"periodic\"\n",
    "    )\n",
    "        new(dt, total_time, tolerance, temperature, pressure, volume, periodic, boundary_type)\n",
    "    end\n",
    "end"
   ]
  },
  {
   "cell_type": "code",
   "execution_count": 7,
   "metadata": {},
   "outputs": [],
   "source": [
    "# Usage example with simulation parameters:\n",
    "function run_simulation(params::SimulationParameters)\n",
    "    t = 0.0\n",
    "    while t < params.total_time\n",
    "        # Simulation steps here\n",
    "        t += params.dt\n",
    "        \n",
    "        # Use parameters naturally\n",
    "        if params.periodic\n",
    "            # Handle periodic boundaries\n",
    "        end\n",
    "    end\n",
    "end\n",
    "\n",
    "# Create parameters and run\n",
    "params = SimulationParameters(\n",
    "    dt=0.01,\n",
    "    total_time=10.0,\n",
    "    temperature=350.0\n",
    ")\n",
    "run_simulation(params)"
   ]
  },
  {
   "cell_type": "markdown",
   "metadata": {},
   "source": [
    "### Example 2: Finite Element Meshes"
   ]
  },
  {
   "cell_type": "code",
   "execution_count": 1,
   "metadata": {},
   "outputs": [],
   "source": [
    "# Example 2: Finite Element Mesh Structure\n",
    "struct MeshElement\n",
    "    nodes::Vector{Int64}\n",
    "    coordinates::Matrix{Float64}\n",
    "    material_id::Int64\n",
    "end\n",
    "\n",
    "struct Mesh\n",
    "    elements::Vector{MeshElement}\n",
    "    node_coordinates::Matrix{Float64}\n",
    "    boundary_nodes::Vector{Int64}\n",
    "end"
   ]
  },
  {
   "cell_type": "markdown",
   "metadata": {},
   "source": [
    "### Example 3: Parameters for a (Climate) Model"
   ]
  },
  {
   "cell_type": "code",
   "execution_count": null,
   "metadata": {},
   "outputs": [],
   "source": [
    "# Example 4: Climate Model Parameters\n",
    "struct AtmosphereParams\n",
    "    num_vertical_layers::Int64\n",
    "    radiation_timestep::Float64\n",
    "    convection_scheme::String\n",
    "    cloud_microphysics::Bool\n",
    "end\n",
    "\n",
    "struct OceanParams\n",
    "    depth_levels::Vector{Float64}\n",
    "    mixing_scheme::String\n",
    "    enable_sea_ice::Bool\n",
    "end\n",
    "\n",
    "# You can nest structs as well, for example:\n",
    "struct ClimateModel\n",
    "    atmosphere::AtmosphereParams # contains AtmosphereParams struct\n",
    "    ocean::OceanParams # contains OceanParams struct\n",
    "    coupling_frequency::Float64\n",
    "end"
   ]
  },
  {
   "cell_type": "markdown",
   "metadata": {},
   "source": [
    "### Example 4: A Complicated Simulation"
   ]
  },
  {
   "cell_type": "code",
   "execution_count": 8,
   "metadata": {},
   "outputs": [
    {
     "name": "stdout",
     "output_type": "stream",
     "text": [
      "Current spatial resolution: 0.01\n",
      "Output directory: results/\n",
      "Material density: 1000.0\n"
     ]
    }
   ],
   "source": [
    "# First level structs (individual parameter groups)\n",
    "struct MaterialProperties\n",
    "    density::Float64\n",
    "    thermal_conductivity::Float64\n",
    "    specific_heat::Float64\n",
    "end\n",
    "\n",
    "struct NumericalSettings\n",
    "    spatial_resolution::Float64\n",
    "    time_resolution::Float64\n",
    "    max_iterations::Int64\n",
    "    convergence_tolerance::Float64\n",
    "end\n",
    "\n",
    "struct OutputSettings\n",
    "    save_frequency::Int64\n",
    "    output_directory::String\n",
    "    save_fields::Vector{String}\n",
    "end\n",
    "\n",
    "# Top-level struct that contains (\"nests\") the other structs\n",
    "struct ComplexSimulation\n",
    "    material::MaterialProperties    # Contains a MaterialProperties struct\n",
    "    numerics::NumericalSettings    # Contains a NumericalSettings struct\n",
    "    output::OutputSettings         # Contains an OutputSettings struct\n",
    "    enable_parallel::Bool\n",
    "    debug_mode::Bool\n",
    "end\n",
    "\n",
    "# Example of how to create and use nested parameters:\n",
    "function setup_simulation()\n",
    "    # Create the individual parameter structs\n",
    "    material = MaterialProperties(\n",
    "        1000.0,             # density\n",
    "        0.58,               # thermal_conductivity\n",
    "        4184.0              # specific_heat\n",
    "    )\n",
    "    \n",
    "    numerics = NumericalSettings(\n",
    "        0.01,               # spatial_resolution\n",
    "        0.001,              # time_resolution\n",
    "        1000,               # max_iterations\n",
    "        1e-6                # convergence_tolerance\n",
    "    )\n",
    "    \n",
    "    output = OutputSettings(\n",
    "        100,                # save_frequency\n",
    "        \"results/\",         # output_directory\n",
    "        [\"temperature\", \"pressure\"]  # save_fields\n",
    "    )\n",
    "    \n",
    "    # Create the top-level simulation struct that contains all parameters\n",
    "    sim_params = ComplexSimulation(\n",
    "        material,           # nest material properties\n",
    "        numerics,           # nest numerical settings\n",
    "        output,            # nest output settings\n",
    "        true,              # enable_parallel\n",
    "        false              # debug_mode\n",
    "    )\n",
    "    \n",
    "    return sim_params\n",
    "end\n",
    "\n",
    "# Example of using nested parameters in a simulation\n",
    "function run_simulation(params::ComplexSimulation)\n",
    "    # Access nested parameters using dot notation\n",
    "    Δx = params.numerics.spatial_resolution\n",
    "    Δt = params.numerics.time_resolution\n",
    "    ρ = params.material.density\n",
    "    \n",
    "    # Use the parameters in calculations\n",
    "    thermal_diffusivity = params.material.thermal_conductivity / \n",
    "                         (ρ * params.material.specific_heat)\n",
    "    \n",
    "    # Check stability criterion\n",
    "    if thermal_diffusivity * Δt / (Δx^2) > 0.5\n",
    "        @warn \"Simulation might be unstable!\"\n",
    "    end\n",
    "    \n",
    "    # Setup output based on nested output parameters\n",
    "    if !isdir(params.output.output_directory)\n",
    "        mkdir(params.output.output_directory)\n",
    "    end\n",
    "    \n",
    "    # Simulation logic would go here...\n",
    "end\n",
    "\n",
    "# Create and run the simulation\n",
    "params = setup_simulation()\n",
    "run_simulation(params)\n",
    "\n",
    "# You can also access or modify individual parameters\n",
    "println(\"Current spatial resolution: \", params.numerics.spatial_resolution)\n",
    "println(\"Output directory: \", params.output.output_directory)\n",
    "println(\"Material density: \", params.material.density)"
   ]
  },
  {
   "cell_type": "code",
   "execution_count": null,
   "metadata": {},
   "outputs": [],
   "source": []
  }
 ],
 "metadata": {
  "kernelspec": {
   "display_name": "Julia 1.11.1",
   "language": "julia",
   "name": "julia-1.11"
  },
  "language_info": {
   "file_extension": ".jl",
   "mimetype": "application/julia",
   "name": "julia",
   "version": "1.11.1"
  }
 },
 "nbformat": 4,
 "nbformat_minor": 2
}
