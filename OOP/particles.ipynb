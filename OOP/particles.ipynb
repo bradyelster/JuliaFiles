{
 "cells": [
  {
   "cell_type": "code",
   "execution_count": 1,
   "metadata": {},
   "outputs": [],
   "source": [
    "struct Vector3D\n",
    "    x::Float64\n",
    "    y::Float64\n",
    "    z::Float64\n",
    "end\n"
   ]
  },
  {
   "cell_type": "code",
   "execution_count": null,
   "metadata": {},
   "outputs": [],
   "source": [
    "struct Particle\n",
    "    mass::Float64\n",
    "    position::Vector3D\n",
    "    velocity::Vector3D\n",
    "\n",
    "    function Particle(; mass::Float64, position::Vector3D, velocity::Vector3D)\n",
    "        if mass <= 0\n",
    "            throw(ArgumentError(\"Mass must be positive\"))\n",
    "        end\n",
    "        return new(mass, position, velocity)\n",
    "    end\n",
    "end\n"
   ]
  },
  {
   "cell_type": "code",
   "execution_count": 3,
   "metadata": {},
   "outputs": [
    {
     "data": {
      "text/plain": [
       "kinetic_energy (generic function with 1 method)"
      ]
     },
     "execution_count": 3,
     "metadata": {},
     "output_type": "execute_result"
    }
   ],
   "source": [
    "# Calculate magnitude of a Vector3D\n",
    "function magnitude(v::Vector3D)\n",
    "    return sqrt(v.x^2 + v.y^2 + v.z^2)\n",
    "end\n",
    "\n",
    "# Calculate kinetic energy of a particle\n",
    "function kinetic_energy(p::Particle)\n",
    "    velocity_magnitude = magnitude(p.velocity)\n",
    "    return 0.5 * p.mass * velocity_magnitude^2\n",
    "end\n"
   ]
  },
  {
   "cell_type": "code",
   "execution_count": 5,
   "metadata": {},
   "outputs": [
    {
     "data": {
      "text/plain": [
       "Particle(2.0, Vector3D(1.0, 0.0, 1.0), Vector3D(2.0, 0.0, 0.0))"
      ]
     },
     "execution_count": 5,
     "metadata": {},
     "output_type": "execute_result"
    }
   ],
   "source": [
    "# Create particles using named fields (can be in any order)\n",
    "particle1 = Particle(\n",
    "    velocity = Vector3D(1.0, 0.0, 0.0),   # listed second\n",
    "    mass = 1.0,                           # listed first\n",
    "    position = Vector3D(0.0, 0.0, 0.0)    # listed third\n",
    ")\n",
    "\n",
    "# Create vectors with named fields too\n",
    "particle2 = Particle(\n",
    "    mass = 2.0,\n",
    "    position = Vector3D(1.0, 0.0, 1.0),  # note different order\n",
    "    velocity = Vector3D(2.0, 0.0, 0.0)   # note different order\n",
    ")\n"
   ]
  },
  {
   "cell_type": "code",
   "execution_count": 8,
   "metadata": {},
   "outputs": [
    {
     "name": "stdout",
     "output_type": "stream",
     "text": [
      "Particle 1:\n",
      "Mass: 1.0 kg\n",
      "Position: (0.0, 0.0, 0.0)\n",
      "Velocity: (1.0, 0.0, 0.0)\n",
      "Kinetic Energy: 0.5 Joules\n",
      "\n",
      "Particle 2:\n",
      "Mass: 2.0 kg\n",
      "Position: (1.0, 0.0, 1.0)\n",
      "Velocity: (2.0, 0.0, 0.0)\n",
      "Kinetic Energy: 4.0 Joules\n"
     ]
    }
   ],
   "source": [
    "# Calculate and print properties\n",
    "println(\"Particle 1:\")\n",
    "println(\"Mass: \", particle1.mass, \" kg\")\n",
    "println(\"Position: (\", particle1.position.x, \", \", particle1.position.y, \", \", particle1.position.z, \")\")\n",
    "println(\"Velocity: (\", particle1.velocity.x, \", \", particle1.velocity.y, \", \", particle1.velocity.z, \")\")\n",
    "println(\"Kinetic Energy: \", kinetic_energy(particle1), \" Joules\")\n",
    "\n",
    "println(\"\\nParticle 2:\")\n",
    "println(\"Mass: \", particle2.mass, \" kg\")\n",
    "println(\"Position: (\", particle2.position.x, \", \", particle2.position.y, \", \", particle2.position.z, \")\")\n",
    "println(\"Velocity: (\", particle2.velocity.x, \", \", particle2.velocity.y, \", \", particle2.velocity.z, \")\")\n",
    "println(\"Kinetic Energy: \", kinetic_energy(particle2), \" Joules\")\n"
   ]
  }
 ],
 "metadata": {
  "kernelspec": {
   "display_name": "Julia 1.11.1",
   "language": "julia",
   "name": "julia-1.11"
  },
  "language_info": {
   "file_extension": ".jl",
   "mimetype": "application/julia",
   "name": "julia",
   "version": "1.11.1"
  }
 },
 "nbformat": 4,
 "nbformat_minor": 2
}
