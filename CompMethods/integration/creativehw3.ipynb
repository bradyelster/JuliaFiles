{
 "cells": [
  {
   "cell_type": "code",
   "execution_count": 4,
   "metadata": {},
   "outputs": [],
   "source": [
    "using FastGaussQuadrature"
   ]
  },
  {
   "cell_type": "code",
   "execution_count": 5,
   "metadata": {},
   "outputs": [
    {
     "name": "stdout",
     "output_type": "stream",
     "text": [
      "Integral result: 15.609386921811762\n"
     ]
    }
   ],
   "source": [
    "# Define the function inside the integral\n",
    "function integrand(t, α, r)\n",
    "    return (t^(α+3)) / (exp(r*t) - 1)\n",
    "end\n",
    "\n",
    "# Compute the integral using Gauss-Laguerre quadrature\n",
    "function compute_integral(α, r, N=50)\n",
    "    x, w = gausslaguerre(N)  # Get Gauss-Laguerre nodes and weights\n",
    "    return sum(w[i] * integrand(x[i], α, r) for i in 1:N) * r^(α+4)\n",
    "end\n",
    "\n",
    "# Example parameters\n",
    "α = 1   # Power-law index\n",
    "r = 10  # Ratio of cutoff to thermal frequency\n",
    "N = 50  # Number of quadrature points\n",
    "\n",
    "# Evaluate the integral\n",
    "result = compute_integral(α, r, N)\n",
    "println(\"Integral result: \", result)\n"
   ]
  }
 ],
 "metadata": {
  "kernelspec": {
   "display_name": "Julia 1.11.1",
   "language": "julia",
   "name": "julia-1.11"
  },
  "language_info": {
   "file_extension": ".jl",
   "mimetype": "application/julia",
   "name": "julia",
   "version": "1.11.1"
  }
 },
 "nbformat": 4,
 "nbformat_minor": 2
}
