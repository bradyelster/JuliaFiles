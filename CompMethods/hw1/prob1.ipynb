{
 "cells": [
  {
   "cell_type": "code",
   "execution_count": 1,
   "metadata": {},
   "outputs": [],
   "source": [
    "using Plots, LaTeXStrings, Printf"
   ]
  },
  {
   "cell_type": "code",
   "execution_count": 21,
   "metadata": {},
   "outputs": [],
   "source": [
    "f(x) = (exp(-x^2)*(x^7 - 5*x^6 + 4*x^4 + x^3- 2*x^2 + 10*x + 6))/(x^9 + 14*x^8 + 19*x^7 - 29*x^6 + 15*x^4 - 13*x^3 + 11*x^2 - 17*x + 5)\n",
    "\n",
    "domain = (-2.5, 5)\n",
    "x_vals = LinRange(domain[1], domain[2], 10_000);"
   ]
  },
  {
   "cell_type": "code",
   "execution_count": 26,
   "metadata": {},
   "outputs": [
    {
     "data": {
      "text/plain": [
       "\"/home/belster/JuliaFiles/CompMethods/hw1/function.pdf\""
      ]
     },
     "execution_count": 26,
     "metadata": {},
     "output_type": "execute_result"
    }
   ],
   "source": [
    "theme(:dao)\n",
    "\n",
    "plot(x_vals, f.(x_vals), \n",
    "    label=L\"$f(x)$\",\n",
    "    line = (3, :solid),\n",
    "    title = \"Problem 1 Function\",\n",
    "    xlabel = L\"$x$\",\n",
    "    ylabel = L\"$f(x)$\",\n",
    "    legend = :best,\n",
    "    titlefontsize = 20,\n",
    "    tickfontsize = 12,\n",
    "    legendfontsize = 10,\n",
    "    yguidefontsize = 15,\n",
    "    xguidefontsize = 15,\n",
    "    right_margin = 2 * Plots.mm,\n",
    "    xlims = (-2.5, 5),\n",
    "    ylims = (-20,20)\n",
    ")\n",
    "scatter!([-0.545,1.503,4.818], [0, 0, 0], \n",
    "label=\"roots\")\n",
    "\n",
    "\n",
    "savefig(\"function.pdf\")"
   ]
  },
  {
   "cell_type": "code",
   "execution_count": 4,
   "metadata": {},
   "outputs": [],
   "source": [
    "N(x) = (x^7 - 5*x^6 + 4*x^4 + x^3- 2*x^2 + 10*x + 6) # polynomial part of the numerator of f(x)\n",
    "\n",
    "x_vals2 = LinRange(-3, 5, 5000);"
   ]
  },
  {
   "cell_type": "code",
   "execution_count": 27,
   "metadata": {},
   "outputs": [
    {
     "data": {
      "text/plain": [
       "\"/home/belster/JuliaFiles/CompMethods/hw1/numerator.pdf\""
      ]
     },
     "execution_count": 27,
     "metadata": {},
     "output_type": "execute_result"
    }
   ],
   "source": [
    "plot(x_vals2, N.(x_vals2), \n",
    "    label=L\"$N(x)$\",\n",
    "    line = (3, :solid),\n",
    "    title = \"Problem 1 Numerator\",\n",
    "    xlabel = L\"$x$\",\n",
    "    ylabel = L\"$N(x)$\",\n",
    "    legend = :best,\n",
    "    titlefontsize = 20,\n",
    "    tickfontsize = 12,\n",
    "    legendfontsize = 10,\n",
    "    yguidefontsize = 15,\n",
    "    xguidefontsize = 15,\n",
    "    right_margin = 2 * Plots.mm,\n",
    "    xlims = (-2.5,5),\n",
    "    ylims = (-20,20)\n",
    ")\n",
    "\n",
    "scatter!([-0.545,1.503,4.818], [0, 0, 0], \n",
    "label=\"roots\")\n",
    "savefig(\"numerator.pdf\")"
   ]
  },
  {
   "cell_type": "code",
   "execution_count": 6,
   "metadata": {},
   "outputs": [
    {
     "data": {
      "text/plain": [
       "bisection (generic function with 1 method)"
      ]
     },
     "execution_count": 6,
     "metadata": {},
     "output_type": "execute_result"
    }
   ],
   "source": [
    "function bisection(f::Function, interval::Vector, tol::Float64)\n",
    "    a, b = interval\n",
    "    iter = 0\n",
    "    \n",
    "    while (b - a) / 2 > tol  # Stop when the interval size is within tolerance\n",
    "        c = (a + b) / 2      # Midpoint\n",
    "        if f(a) * f(c) < 0   # If signs are different:\n",
    "            b = c            # root is in the [a, c] interval\n",
    "        else                 # else:\n",
    "            a = c            # root is in the [c, b] interval\n",
    "        end\n",
    "        iter += 1\n",
    "    end\n",
    "    \n",
    "    c = (a + b) / 2  # Final midpoint approximation\n",
    "    return c, iter\n",
    "end"
   ]
  },
  {
   "cell_type": "code",
   "execution_count": 7,
   "metadata": {},
   "outputs": [
    {
     "data": {
      "text/plain": [
       "(-0.54521484375, 14)"
      ]
     },
     "execution_count": 7,
     "metadata": {},
     "output_type": "execute_result"
    }
   ],
   "source": [
    "# it looks like N(x) has roots near x=-1, x=1.7, and x=5\n",
    "# so f(x) will have roots there as well\n",
    "\n",
    "bisection(N, [-0.7, 2.5], 1e-4)"
   ]
  },
  {
   "cell_type": "code",
   "execution_count": 8,
   "metadata": {},
   "outputs": [
    {
     "data": {
      "text/plain": [
       "(1.503021240234375, 13)"
      ]
     },
     "execution_count": 8,
     "metadata": {},
     "output_type": "execute_result"
    }
   ],
   "source": [
    "bisection(N, [1.2, 2.5], 1e-4)"
   ]
  },
  {
   "cell_type": "code",
   "execution_count": 9,
   "metadata": {},
   "outputs": [
    {
     "data": {
      "text/plain": [
       "(4.818206787109375, 14)"
      ]
     },
     "execution_count": 9,
     "metadata": {},
     "output_type": "execute_result"
    }
   ],
   "source": [
    "bisection(N, [4, 7], 1e-4)"
   ]
  },
  {
   "cell_type": "code",
   "execution_count": 10,
   "metadata": {},
   "outputs": [
    {
     "data": {
      "text/plain": [
       "(-0.5450805664062499, 12)"
      ]
     },
     "execution_count": 10,
     "metadata": {},
     "output_type": "execute_result"
    }
   ],
   "source": [
    "bisection(f, [-0.7, 0.0], 1e-4)"
   ]
  },
  {
   "cell_type": "code",
   "execution_count": null,
   "metadata": {},
   "outputs": [
    {
     "data": {
      "text/plain": [
       "(1.5031005859375002, 14)"
      ]
     },
     "execution_count": 37,
     "metadata": {},
     "output_type": "execute_result"
    }
   ],
   "source": [
    "bisection(f, [1.2, 2.5], 1e-4)"
   ]
  },
  {
   "cell_type": "code",
   "execution_count": 12,
   "metadata": {},
   "outputs": [
    {
     "data": {
      "text/plain": [
       "(4.818206787109375, 14)"
      ]
     },
     "execution_count": 12,
     "metadata": {},
     "output_type": "execute_result"
    }
   ],
   "source": [
    "bisection(f, [4, 7], 1e-4)"
   ]
  },
  {
   "cell_type": "code",
   "execution_count": null,
   "metadata": {},
   "outputs": [
    {
     "data": {
      "text/plain": [
       "1000-element LinRange{Float64, Int64}:\n",
       " 0.01, 0.014995, 0.01999, 0.024985, …, 4.98502, 4.99001, 4.99501, 5.0"
      ]
     },
     "execution_count": 13,
     "metadata": {},
     "output_type": "execute_result"
    }
   ],
   "source": [
    "h(x, α) = -x + α*log(x)+sin(x)\n",
    "\n",
    "x_vals3 = LinRange(0.01, 5, 1000)"
   ]
  },
  {
   "cell_type": "code",
   "execution_count": null,
   "metadata": {},
   "outputs": [
    {
     "data": {
      "text/plain": [
       "\"/home/belster/JuliaFiles/CompMethods/hw1/prob2_a1.pdf\""
      ]
     },
     "execution_count": 14,
     "metadata": {},
     "output_type": "execute_result"
    }
   ],
   "source": [
    "plot(x_vals3, h.(x_vals3, 1), \n",
    "    label=L\"$f(x)$ \"*L\"$\\alpha$=1\",\n",
    "    line = (3, :solid),\n",
    "    title = \"Problem 2 Function\",\n",
    "    xlabel = L\"$x$\",\n",
    "    ylabel = L\"$f(x)$\",\n",
    "    legend = :best,\n",
    "    titlefontsize = 20,\n",
    "    tickfontsize = 12,\n",
    "    legendfontsize = 10,\n",
    "    yguidefontsize = 15,\n",
    "    xguidefontsize = 15,\n",
    "    right_margin = 2 * Plots.mm\n",
    ")\n",
    "# savefig(\"prob2_a1\")"
   ]
  },
  {
   "cell_type": "code",
   "execution_count": 36,
   "metadata": {},
   "outputs": [
    {
     "data": {
      "text/plain": [
       "\"/home/belster/JuliaFiles/CompMethods/hw1/prob2_a2.pdf\""
      ]
     },
     "execution_count": 36,
     "metadata": {},
     "output_type": "execute_result"
    }
   ],
   "source": [
    "plot(x_vals3, h.(x_vals3, 2), \n",
    "    label=L\"$f(x)$ \"*L\"$\\alpha$=2\",\n",
    "    line = (3, :solid),\n",
    "    title = \"Problem 2 Function\",\n",
    "    xlabel = L\"$x$\",\n",
    "    ylabel = L\"$f(x)$\",\n",
    "    legend = :best,\n",
    "    titlefontsize = 20,\n",
    "    tickfontsize = 12,\n",
    "    legendfontsize = 10,\n",
    "    yguidefontsize = 15,\n",
    "    xguidefontsize = 15,\n",
    "    right_margin = 2 * Plots.mm\n",
    ")\n",
    "\n",
    "scatter!([1.114,2.428], [0,0], \n",
    "    label=\"roots\")\n",
    "savefig(\"prob2_a2.pdf\")"
   ]
  },
  {
   "cell_type": "code",
   "execution_count": 32,
   "metadata": {},
   "outputs": [
    {
     "data": {
      "text/plain": [
       "h2 (generic function with 1 method)"
      ]
     },
     "execution_count": 32,
     "metadata": {},
     "output_type": "execute_result"
    }
   ],
   "source": [
    "# h1(x) = -x + 1*log(x)+sin(x)\n",
    "h2(x) = -x + 2*log(x)+sin(x)"
   ]
  },
  {
   "cell_type": "code",
   "execution_count": 33,
   "metadata": {},
   "outputs": [
    {
     "data": {
      "text/plain": [
       "(1.1145507812500002, 11)"
      ]
     },
     "execution_count": 33,
     "metadata": {},
     "output_type": "execute_result"
    }
   ],
   "source": [
    "bisection(h2, [1.0, 1.4], 1e-4)"
   ]
  },
  {
   "cell_type": "code",
   "execution_count": 34,
   "metadata": {},
   "outputs": [
    {
     "data": {
      "text/plain": [
       "(2.4287353515625005, 12)"
      ]
     },
     "execution_count": 34,
     "metadata": {},
     "output_type": "execute_result"
    }
   ],
   "source": [
    "bisection(h2, [2.2, 2.8], 1e-4)"
   ]
  }
 ],
 "metadata": {
  "kernelspec": {
   "display_name": "Julia 1.11.1",
   "language": "julia",
   "name": "julia-1.11"
  },
  "language_info": {
   "file_extension": ".jl",
   "mimetype": "application/julia",
   "name": "julia",
   "version": "1.11.1"
  }
 },
 "nbformat": 4,
 "nbformat_minor": 2
}
