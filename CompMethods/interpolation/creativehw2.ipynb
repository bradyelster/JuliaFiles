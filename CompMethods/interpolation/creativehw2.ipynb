{
 "cells": [
  {
   "cell_type": "code",
   "execution_count": null,
   "metadata": {},
   "outputs": [],
   "source": [
    "using Plots, Random, Dierckx;  # For cubic spline fitting\n",
    "\n",
    "# Parameters\n",
    "A = 1.0\n",
    "f1 = 1.0\n",
    "f2 = 1.1\n",
    "f_carrier = (f1 + f2) / 2\n",
    "f_beat = (f2 - f1) / 2\n",
    "\n",
    "# Time array\n",
    "t1 = range(-5, 5, length=500)\n",
    "t2 = range(-5, 5, length=1000)\n",
    "\n",
    "# Wave packet function with noise\n",
    "f = A * cos.(2π * f_carrier * t1) .* cos.(2π * f_beat * t1) .+ 0.1 .* randn(length(t1));\n",
    "analytic(t) = A * cos(2π * f_carrier * t) * cos(2π * f_beat * t);\n",
    "\n",
    "# Fit a cubic spline with \"nearest\" endpoint condition\n",
    "spline = Spline1D(t1, f; k=3, bc=\"nearest\", s=5) # s = 5 means a smoothing factor of 5 to fit less noise\n",
    "f_spline = evaluate(spline, t1);\n",
    "\n",
    "# Plot the noisy wave packet and the fitted spline\n",
    "plot1 = plot(t1, f, label=\"Noisy wave packet\", xlabel=\"t\", ylabel=\"f(t)\", line=(2, :solid), legend=:best, alpha=0.5) # plot the noise\n",
    "plot1 =plot!(t2, analytic.(t2), label=\"Analytic function\", lw=2) # plot the analytic function \n",
    "plot1 =plot!(t1, f_spline, label=\"Cubic spline fit\", markersize=2, line=(2, :dash)) # plot the spline\n",
    "plot1 # save the plot / show it\n",
    "\n",
    "relative_error = abs.(f_spline .- analytic.(t1));\n",
    "plot2 = plot(t1, relative_error, lw=2, yaxis=\"rel. error\", xaxis=\"t\", legend=:false)\n",
    "plot2 # save the plot / show it"
   ]
  }
 ],
 "metadata": {
  "kernelspec": {
   "display_name": "Julia 1.11.1",
   "language": "julia",
   "name": "julia-1.11"
  },
  "language_info": {
   "file_extension": ".jl",
   "mimetype": "application/julia",
   "name": "julia",
   "version": "1.11.1"
  }
 },
 "nbformat": 4,
 "nbformat_minor": 2
}
